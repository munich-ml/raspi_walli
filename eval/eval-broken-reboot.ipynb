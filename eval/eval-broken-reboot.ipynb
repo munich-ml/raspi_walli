{
 "cells": [
  {
   "cell_type": "markdown",
   "metadata": {},
   "source": [
    "I'm evaluating an issue, that the charged_kWh value is screwed after October 13th 2022"
   ]
  },
  {
   "cell_type": "code",
   "execution_count": 2,
   "metadata": {},
   "outputs": [],
   "source": [
    "import os\n",
    "import pandas as pd"
   ]
  },
  {
   "cell_type": "code",
   "execution_count": 16,
   "metadata": {},
   "outputs": [
    {
     "data": {
      "text/html": [
       "<div>\n",
       "<style scoped>\n",
       "    .dataframe tbody tr th:only-of-type {\n",
       "        vertical-align: middle;\n",
       "    }\n",
       "\n",
       "    .dataframe tbody tr th {\n",
       "        vertical-align: top;\n",
       "    }\n",
       "\n",
       "    .dataframe thead th {\n",
       "        text-align: right;\n",
       "    }\n",
       "</style>\n",
       "<table border=\"1\" class=\"dataframe\">\n",
       "  <thead>\n",
       "    <tr style=\"text-align: right;\">\n",
       "      <th></th>\n",
       "      <th>power_kW</th>\n",
       "      <th>energy_kWh</th>\n",
       "      <th>charged_kWh</th>\n",
       "    </tr>\n",
       "    <tr>\n",
       "      <th>datetime</th>\n",
       "      <th></th>\n",
       "      <th></th>\n",
       "      <th></th>\n",
       "    </tr>\n",
       "  </thead>\n",
       "  <tbody>\n",
       "    <tr>\n",
       "      <th>2022-10-15 13:00:00.017923</th>\n",
       "      <td>0.0</td>\n",
       "      <td>452.72</td>\n",
       "      <td>0.0</td>\n",
       "    </tr>\n",
       "    <tr>\n",
       "      <th>2022-10-15 14:00:00.015079</th>\n",
       "      <td>0.0</td>\n",
       "      <td>452.72</td>\n",
       "      <td>0.0</td>\n",
       "    </tr>\n",
       "    <tr>\n",
       "      <th>2022-10-15 15:00:00.017889</th>\n",
       "      <td>0.0</td>\n",
       "      <td>452.72</td>\n",
       "      <td>0.0</td>\n",
       "    </tr>\n",
       "    <tr>\n",
       "      <th>2022-10-15 16:00:00.019232</th>\n",
       "      <td>0.0</td>\n",
       "      <td>452.72</td>\n",
       "      <td>0.0</td>\n",
       "    </tr>\n",
       "    <tr>\n",
       "      <th>2022-10-15 17:00:00.015445</th>\n",
       "      <td>0.0</td>\n",
       "      <td>452.72</td>\n",
       "      <td>0.0</td>\n",
       "    </tr>\n",
       "  </tbody>\n",
       "</table>\n",
       "</div>"
      ],
      "text/plain": [
       "                            power_kW  energy_kWh  charged_kWh\n",
       "datetime                                                     \n",
       "2022-10-15 13:00:00.017923       0.0      452.72          0.0\n",
       "2022-10-15 14:00:00.015079       0.0      452.72          0.0\n",
       "2022-10-15 15:00:00.017889       0.0      452.72          0.0\n",
       "2022-10-15 16:00:00.019232       0.0      452.72          0.0\n",
       "2022-10-15 17:00:00.015445       0.0      452.72          0.0"
      ]
     },
     "execution_count": 16,
     "metadata": {},
     "output_type": "execute_result"
    }
   ],
   "source": [
    "fp = \"C:\\\\Users\\\\holge\\\\Downloads\\\\walli_data_campaign_0 (1).csv\"\n",
    "df = pd.read_csv(fp, sep=\";\", decimal=\",\")\n",
    "df = df[['datetime', 'power_kW', 'energy_kWh']]\n",
    "df.datetime = pd.to_datetime(df.datetime)\n",
    "df.set_index(\"datetime\", inplace=True)\n",
    "df[\"charged_kWh\"] = [max(0., v) for v in df[\"energy_kWh\"].diff().values]   \n",
    "df.tail()"
   ]
  },
  {
   "cell_type": "code",
   "execution_count": 21,
   "metadata": {},
   "outputs": [],
   "source": [
    "import matplotlib\n",
    "%matplotlib inline"
   ]
  },
  {
   "cell_type": "code",
   "execution_count": 25,
   "metadata": {},
   "outputs": [
    {
     "data": {
      "image/png": "[encoded data removed]",
      "text/plain": [
       "<Figure size 432x288 with 1 Axes>"
      ]
     },
     "metadata": {
      "needs_background": "light"
     },
     "output_type": "display_data"
    }
   ],
   "source": [
    "df.plot(marker=5, linewidth=0);"
   ]
  },
  {
   "cell_type": "code",
   "execution_count": null,
   "metadata": {},
   "outputs": [],
   "source": []
  }
 ],
 "metadata": {
  "kernelspec": {
   "display_name": "Python 3.9.7 ('flask_env')",
   "language": "python",
   "name": "python3"
  },
  "language_info": {
   "codemirror_mode": {
    "name": "ipython",
    "version": 3
   },
   "file_extension": ".py",
   "mimetype": "text/x-python",
   "name": "python",
   "nbconvert_exporter": "python",
   "pygments_lexer": "ipython3",
   "version": "3.9.7"
  },
  "orig_nbformat": 4,
  "vscode": {
   "interpreter": {
    "hash": "7df3afec6b93bfc6b4497fa02400d11f1674743b2656ffd458993e7a63d95c87"
   }
  }
 },
 "nbformat": 4,
 "nbformat_minor": 2
}
