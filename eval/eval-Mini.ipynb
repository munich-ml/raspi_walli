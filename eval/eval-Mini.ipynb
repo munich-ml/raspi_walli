{
 "cells": [
  {
   "cell_type": "markdown",
   "metadata": {},
   "source": [
    "# Compare charged kWh measured by Mini with Walli"
   ]
  },
  {
   "cell_type": "code",
   "execution_count": 6,
   "metadata": {},
   "outputs": [],
   "source": [
    "import os\n",
    "from scipy import optimize\n",
    "import pandas as pd\n",
    "import numpy as np\n",
    "import datetime as dt\n",
    "import matplotlib.pyplot as plt\n",
    "pd.options.display.max_rows = 100"
   ]
  },
  {
   "cell_type": "code",
   "execution_count": 21,
   "metadata": {},
   "outputs": [
    {
     "data": {
      "text/plain": [
       "['MINI Ladehistorie April 2021.xlsx.xlsx',\n",
       " 'MINI Ladehistorie August 2021.xlsx.xlsx',\n",
       " 'MINI Ladehistorie Dezember 2021.xlsx.xlsx',\n",
       " 'MINI Ladehistorie Februar 2022.xlsx.xlsx',\n",
       " 'MINI Ladehistorie Januar 2022.xlsx.xlsx',\n",
       " 'MINI Ladehistorie Juli 2021.xlsx.xlsx',\n",
       " 'MINI Ladehistorie Juni 2021.xlsx.xlsx',\n",
       " 'MINI Ladehistorie Mai 2021.xlsx.xlsx',\n",
       " 'MINI Ladehistorie März 2021.xlsx.xlsx',\n",
       " 'MINI Ladehistorie November 2021.xlsx.xlsx',\n",
       " 'MINI Ladehistorie Oktober 2021.xlsx.xlsx',\n",
       " 'MINI Ladehistorie September 2021.xlsx.xlsx',\n",
       " 'walli_data_campaign_0.csv']"
      ]
     },
     "execution_count": 21,
     "metadata": {},
     "output_type": "execute_result"
    }
   ],
   "source": [
    "dir_ = \"C:\\\\Users\\\\holge\\\\Google Drive\\\\Mini-Ladehistorie\"\n",
    "os.listdir(dir_)"
   ]
  },
  {
   "cell_type": "code",
   "execution_count": 8,
   "metadata": {},
   "outputs": [],
   "source": [
    "desired_cols = ['Angesteckt', 'Kilometerstand', 'Ladezustand beim Anstecken', \n",
    "       'Abgesteckt', 'Ladezustand beim Abstecken', 'Adresse',\n",
    "       'Strommenge(*)', 'Ladedauer']"
   ]
  },
  {
   "cell_type": "code",
   "execution_count": 9,
   "metadata": {},
   "outputs": [
    {
     "data": {
      "text/html": [
       "<div>\n",
       "<style scoped>\n",
       "    .dataframe tbody tr th:only-of-type {\n",
       "        vertical-align: middle;\n",
       "    }\n",
       "\n",
       "    .dataframe tbody tr th {\n",
       "        vertical-align: top;\n",
       "    }\n",
       "\n",
       "    .dataframe thead th {\n",
       "        text-align: right;\n",
       "    }\n",
       "</style>\n",
       "<table border=\"1\" class=\"dataframe\">\n",
       "  <thead>\n",
       "    <tr style=\"text-align: right;\">\n",
       "      <th></th>\n",
       "      <th>Angesteckt</th>\n",
       "      <th>Kilometerstand</th>\n",
       "      <th>Ladezustand beim Anstecken</th>\n",
       "      <th>Abgesteckt</th>\n",
       "      <th>Ladezustand beim Abstecken</th>\n",
       "      <th>Adresse</th>\n",
       "      <th>Strommenge(*)</th>\n",
       "      <th>Ladedauer</th>\n",
       "    </tr>\n",
       "  </thead>\n",
       "  <tbody>\n",
       "    <tr>\n",
       "      <th>0</th>\n",
       "      <td>2021-04-27 17:20:00</td>\n",
       "      <td>491</td>\n",
       "      <td>0.386</td>\n",
       "      <td>2021-04-28 07:31:00</td>\n",
       "      <td>1.0</td>\n",
       "      <td>Zuhause</td>\n",
       "      <td>~ 23 kWh</td>\n",
       "      <td>10h 09min</td>\n",
       "    </tr>\n",
       "    <tr>\n",
       "      <th>1</th>\n",
       "      <td>2021-04-21 21:04:00</td>\n",
       "      <td>374</td>\n",
       "      <td>0.374</td>\n",
       "      <td>2021-04-22 11:22:00</td>\n",
       "      <td>1.0</td>\n",
       "      <td>Zuhause</td>\n",
       "      <td>~ 23 kWh</td>\n",
       "      <td>9h 55min</td>\n",
       "    </tr>\n",
       "    <tr>\n",
       "      <th>2</th>\n",
       "      <td>2021-04-19 19:00:00</td>\n",
       "      <td>260</td>\n",
       "      <td>0.366</td>\n",
       "      <td>2021-04-20 07:12:00</td>\n",
       "      <td>1.0</td>\n",
       "      <td>Zuhause</td>\n",
       "      <td>~ 23 kWh</td>\n",
       "      <td>10h 06min</td>\n",
       "    </tr>\n",
       "    <tr>\n",
       "      <th>3</th>\n",
       "      <td>2021-04-11 18:31:00</td>\n",
       "      <td>152</td>\n",
       "      <td>0.689</td>\n",
       "      <td>2021-04-12 07:45:00</td>\n",
       "      <td>1.0</td>\n",
       "      <td>Zuhause</td>\n",
       "      <td>~ 13 kWh</td>\n",
       "      <td>5h 33min</td>\n",
       "    </tr>\n",
       "    <tr>\n",
       "      <th>0</th>\n",
       "      <td>2021-08-19 17:15:00</td>\n",
       "      <td>3187</td>\n",
       "      <td>0.500</td>\n",
       "      <td>2021-08-19 20:27:00</td>\n",
       "      <td>1.0</td>\n",
       "      <td>Zuhause</td>\n",
       "      <td>~ 18 kWh</td>\n",
       "      <td>2h 51min</td>\n",
       "    </tr>\n",
       "  </tbody>\n",
       "</table>\n",
       "</div>"
      ],
      "text/plain": [
       "           Angesteckt  Kilometerstand  Ladezustand beim Anstecken  \\\n",
       "0 2021-04-27 17:20:00             491                       0.386   \n",
       "1 2021-04-21 21:04:00             374                       0.374   \n",
       "2 2021-04-19 19:00:00             260                       0.366   \n",
       "3 2021-04-11 18:31:00             152                       0.689   \n",
       "0 2021-08-19 17:15:00            3187                       0.500   \n",
       "\n",
       "           Abgesteckt  Ladezustand beim Abstecken  Adresse Strommenge(*)  \\\n",
       "0 2021-04-28 07:31:00                         1.0  Zuhause      ~ 23 kWh   \n",
       "1 2021-04-22 11:22:00                         1.0  Zuhause      ~ 23 kWh   \n",
       "2 2021-04-20 07:12:00                         1.0  Zuhause      ~ 23 kWh   \n",
       "3 2021-04-12 07:45:00                         1.0  Zuhause      ~ 13 kWh   \n",
       "0 2021-08-19 20:27:00                         1.0  Zuhause      ~ 18 kWh   \n",
       "\n",
       "   Ladedauer  \n",
       "0  10h 09min  \n",
       "1   9h 55min  \n",
       "2  10h 06min  \n",
       "3   5h 33min  \n",
       "0   2h 51min  "
      ]
     },
     "execution_count": 9,
     "metadata": {},
     "output_type": "execute_result"
    }
   ],
   "source": [
    "df = pd.DataFrame()\n",
    "for fn in os.listdir(dir_):\n",
    "    if fn.startswith(\"MINI Ladehistorie\"):\n",
    "        fp = os.path.join(dir_, fn)\n",
    "        df = pd.concat([df, pd.read_excel(fp, header=5)])\n",
    "\n",
    "# drop undesired cols and na rows\n",
    "df = df[desired_cols]              \n",
    "df = df[~df[\"Abgesteckt\"].isna()]  \n",
    "\n",
    "# Unify all Adresses containing \"Ohlauer\" to \"zuhause\"\n",
    "df[\"Adresse\"] = [\"Zuhause\" if \"Ohlauer\" in adr else adr for adr in df[\"Adresse\"]]\n",
    "\n",
    "# Convert str to datetime \n",
    "for dt_col in [\"Angesteckt\", \"Abgesteckt\"]:\n",
    "    df[dt_col] = [dt.datetime.strptime(s, \"%d.%m.%Y %H:%M\") for s in df[dt_col]]\n",
    "    \n",
    "# Make Kilometerstand a Number\n",
    "df[\"Kilometerstand\"] = [int(km.replace(\"km\", \"\").replace(\".\", \"\")) for km in df[\"Kilometerstand\"]] \n",
    "df.head()"
   ]
  },
  {
   "cell_type": "code",
   "execution_count": 10,
   "metadata": {},
   "outputs": [
    {
     "data": {
      "text/plain": [
       "Index(['Angesteckt', 'Kilometerstand', 'Ladezustand beim Anstecken',\n",
       "       'Abgesteckt', 'Ladezustand beim Abstecken', 'Adresse', 'Strommenge(*)',\n",
       "       'Ladedauer'],\n",
       "      dtype='object')"
      ]
     },
     "execution_count": 10,
     "metadata": {},
     "output_type": "execute_result"
    }
   ],
   "source": [
    "df.columns"
   ]
  },
  {
   "cell_type": "code",
   "execution_count": 11,
   "metadata": {},
   "outputs": [
    {
     "data": {
      "text/html": [
       "<div>\n",
       "<style scoped>\n",
       "    .dataframe tbody tr th:only-of-type {\n",
       "        vertical-align: middle;\n",
       "    }\n",
       "\n",
       "    .dataframe tbody tr th {\n",
       "        vertical-align: top;\n",
       "    }\n",
       "\n",
       "    .dataframe thead th {\n",
       "        text-align: right;\n",
       "    }\n",
       "</style>\n",
       "<table border=\"1\" class=\"dataframe\">\n",
       "  <thead>\n",
       "    <tr style=\"text-align: right;\">\n",
       "      <th></th>\n",
       "      <th>begin</th>\n",
       "      <th>km</th>\n",
       "      <th>SOC_begin</th>\n",
       "      <th>end</th>\n",
       "      <th>SOC_end</th>\n",
       "      <th>adr</th>\n",
       "      <th>kWh</th>\n",
       "      <th>t_charge</th>\n",
       "    </tr>\n",
       "  </thead>\n",
       "  <tbody>\n",
       "    <tr>\n",
       "      <th>0</th>\n",
       "      <td>2021-03-26 16:39:00</td>\n",
       "      <td>93</td>\n",
       "      <td>0.492</td>\n",
       "      <td>2021-03-27 10:06:00</td>\n",
       "      <td>1.0</td>\n",
       "      <td>Zuhause</td>\n",
       "      <td>~ 20 kWh</td>\n",
       "      <td>8h 48min</td>\n",
       "    </tr>\n",
       "    <tr>\n",
       "      <th>3</th>\n",
       "      <td>2021-04-11 18:31:00</td>\n",
       "      <td>152</td>\n",
       "      <td>0.689</td>\n",
       "      <td>2021-04-12 07:45:00</td>\n",
       "      <td>1.0</td>\n",
       "      <td>Zuhause</td>\n",
       "      <td>~ 13 kWh</td>\n",
       "      <td>5h 33min</td>\n",
       "    </tr>\n",
       "    <tr>\n",
       "      <th>2</th>\n",
       "      <td>2021-04-19 19:00:00</td>\n",
       "      <td>260</td>\n",
       "      <td>0.366</td>\n",
       "      <td>2021-04-20 07:12:00</td>\n",
       "      <td>1.0</td>\n",
       "      <td>Zuhause</td>\n",
       "      <td>~ 23 kWh</td>\n",
       "      <td>10h 06min</td>\n",
       "    </tr>\n",
       "    <tr>\n",
       "      <th>1</th>\n",
       "      <td>2021-04-21 21:04:00</td>\n",
       "      <td>374</td>\n",
       "      <td>0.374</td>\n",
       "      <td>2021-04-22 11:22:00</td>\n",
       "      <td>1.0</td>\n",
       "      <td>Zuhause</td>\n",
       "      <td>~ 23 kWh</td>\n",
       "      <td>9h 55min</td>\n",
       "    </tr>\n",
       "    <tr>\n",
       "      <th>0</th>\n",
       "      <td>2021-04-27 17:20:00</td>\n",
       "      <td>491</td>\n",
       "      <td>0.386</td>\n",
       "      <td>2021-04-28 07:31:00</td>\n",
       "      <td>1.0</td>\n",
       "      <td>Zuhause</td>\n",
       "      <td>~ 23 kWh</td>\n",
       "      <td>10h 09min</td>\n",
       "    </tr>\n",
       "  </tbody>\n",
       "</table>\n",
       "</div>"
      ],
      "text/plain": [
       "                begin   km  SOC_begin                 end  SOC_end      adr  \\\n",
       "0 2021-03-26 16:39:00   93      0.492 2021-03-27 10:06:00      1.0  Zuhause   \n",
       "3 2021-04-11 18:31:00  152      0.689 2021-04-12 07:45:00      1.0  Zuhause   \n",
       "2 2021-04-19 19:00:00  260      0.366 2021-04-20 07:12:00      1.0  Zuhause   \n",
       "1 2021-04-21 21:04:00  374      0.374 2021-04-22 11:22:00      1.0  Zuhause   \n",
       "0 2021-04-27 17:20:00  491      0.386 2021-04-28 07:31:00      1.0  Zuhause   \n",
       "\n",
       "        kWh   t_charge  \n",
       "0  ~ 20 kWh   8h 48min  \n",
       "3  ~ 13 kWh   5h 33min  \n",
       "2  ~ 23 kWh  10h 06min  \n",
       "1  ~ 23 kWh   9h 55min  \n",
       "0  ~ 23 kWh  10h 09min  "
      ]
     },
     "execution_count": 11,
     "metadata": {},
     "output_type": "execute_result"
    }
   ],
   "source": [
    "df.columns = ['begin', 'km', 'SOC_begin', 'end', 'SOC_end', 'adr', 'kWh', 't_charge']\n",
    "df = df.sort_values(\"begin\")\n",
    "df.head()"
   ]
  },
  {
   "cell_type": "code",
   "execution_count": 12,
   "metadata": {},
   "outputs": [
    {
     "data": {
      "text/html": [
       "<div>\n",
       "<style scoped>\n",
       "    .dataframe tbody tr th:only-of-type {\n",
       "        vertical-align: middle;\n",
       "    }\n",
       "\n",
       "    .dataframe tbody tr th {\n",
       "        vertical-align: top;\n",
       "    }\n",
       "\n",
       "    .dataframe thead th {\n",
       "        text-align: right;\n",
       "    }\n",
       "</style>\n",
       "<table border=\"1\" class=\"dataframe\">\n",
       "  <thead>\n",
       "    <tr style=\"text-align: right;\">\n",
       "      <th></th>\n",
       "      <th>begin</th>\n",
       "      <th>km</th>\n",
       "      <th>SOC_begin</th>\n",
       "      <th>end</th>\n",
       "      <th>SOC_end</th>\n",
       "      <th>adr</th>\n",
       "      <th>kWh</th>\n",
       "      <th>t_charge</th>\n",
       "    </tr>\n",
       "  </thead>\n",
       "  <tbody>\n",
       "    <tr>\n",
       "      <th>0</th>\n",
       "      <td>2021-03-26 16:39:00</td>\n",
       "      <td>93</td>\n",
       "      <td>0.492</td>\n",
       "      <td>2021-03-27 10:06:00</td>\n",
       "      <td>1.0</td>\n",
       "      <td>Zuhause</td>\n",
       "      <td>20</td>\n",
       "      <td>8h 48min</td>\n",
       "    </tr>\n",
       "    <tr>\n",
       "      <th>3</th>\n",
       "      <td>2021-04-11 18:31:00</td>\n",
       "      <td>152</td>\n",
       "      <td>0.689</td>\n",
       "      <td>2021-04-12 07:45:00</td>\n",
       "      <td>1.0</td>\n",
       "      <td>Zuhause</td>\n",
       "      <td>13</td>\n",
       "      <td>5h 33min</td>\n",
       "    </tr>\n",
       "    <tr>\n",
       "      <th>2</th>\n",
       "      <td>2021-04-19 19:00:00</td>\n",
       "      <td>260</td>\n",
       "      <td>0.366</td>\n",
       "      <td>2021-04-20 07:12:00</td>\n",
       "      <td>1.0</td>\n",
       "      <td>Zuhause</td>\n",
       "      <td>23</td>\n",
       "      <td>10h 06min</td>\n",
       "    </tr>\n",
       "    <tr>\n",
       "      <th>1</th>\n",
       "      <td>2021-04-21 21:04:00</td>\n",
       "      <td>374</td>\n",
       "      <td>0.374</td>\n",
       "      <td>2021-04-22 11:22:00</td>\n",
       "      <td>1.0</td>\n",
       "      <td>Zuhause</td>\n",
       "      <td>23</td>\n",
       "      <td>9h 55min</td>\n",
       "    </tr>\n",
       "    <tr>\n",
       "      <th>0</th>\n",
       "      <td>2021-04-27 17:20:00</td>\n",
       "      <td>491</td>\n",
       "      <td>0.386</td>\n",
       "      <td>2021-04-28 07:31:00</td>\n",
       "      <td>1.0</td>\n",
       "      <td>Zuhause</td>\n",
       "      <td>23</td>\n",
       "      <td>10h 09min</td>\n",
       "    </tr>\n",
       "  </tbody>\n",
       "</table>\n",
       "</div>"
      ],
      "text/plain": [
       "                begin   km  SOC_begin                 end  SOC_end      adr  \\\n",
       "0 2021-03-26 16:39:00   93      0.492 2021-03-27 10:06:00      1.0  Zuhause   \n",
       "3 2021-04-11 18:31:00  152      0.689 2021-04-12 07:45:00      1.0  Zuhause   \n",
       "2 2021-04-19 19:00:00  260      0.366 2021-04-20 07:12:00      1.0  Zuhause   \n",
       "1 2021-04-21 21:04:00  374      0.374 2021-04-22 11:22:00      1.0  Zuhause   \n",
       "0 2021-04-27 17:20:00  491      0.386 2021-04-28 07:31:00      1.0  Zuhause   \n",
       "\n",
       "   kWh   t_charge  \n",
       "0   20   8h 48min  \n",
       "3   13   5h 33min  \n",
       "2   23  10h 06min  \n",
       "1   23   9h 55min  \n",
       "0   23  10h 09min  "
      ]
     },
     "execution_count": 12,
     "metadata": {},
     "output_type": "execute_result"
    }
   ],
   "source": [
    "# convert kWh from str to int\n",
    "#   '~ 6 kWh'  --> 6 \n",
    "#   '< 2 kWh'  --> 1  because of '<'\n",
    "kWh = []\n",
    "for s in df.kWh:\n",
    "    adder = 0\n",
    "    if \"<\" in s:\n",
    "        adder = -1\n",
    "    for char in \"~<kWh \":\n",
    "        s = s.replace(char, \"\")\n",
    "    kWh.append(int(s)+adder)\n",
    "df.kWh = kWh\n",
    "df.head()"
   ]
  },
  {
   "cell_type": "code",
   "execution_count": 13,
   "metadata": {},
   "outputs": [
    {
     "data": {
      "text/html": [
       "<div>\n",
       "<style scoped>\n",
       "    .dataframe tbody tr th:only-of-type {\n",
       "        vertical-align: middle;\n",
       "    }\n",
       "\n",
       "    .dataframe tbody tr th {\n",
       "        vertical-align: top;\n",
       "    }\n",
       "\n",
       "    .dataframe thead th {\n",
       "        text-align: right;\n",
       "    }\n",
       "</style>\n",
       "<table border=\"1\" class=\"dataframe\">\n",
       "  <thead>\n",
       "    <tr style=\"text-align: right;\">\n",
       "      <th></th>\n",
       "      <th>begin</th>\n",
       "      <th>km</th>\n",
       "      <th>SOC_begin</th>\n",
       "      <th>end</th>\n",
       "      <th>SOC_end</th>\n",
       "      <th>adr</th>\n",
       "      <th>kWh</th>\n",
       "      <th>t_charge</th>\n",
       "    </tr>\n",
       "  </thead>\n",
       "  <tbody>\n",
       "    <tr>\n",
       "      <th>0</th>\n",
       "      <td>2021-03-26 16:39:00</td>\n",
       "      <td>93</td>\n",
       "      <td>0.492</td>\n",
       "      <td>2021-03-27 10:06:00</td>\n",
       "      <td>1.0</td>\n",
       "      <td>Zuhause</td>\n",
       "      <td>20</td>\n",
       "      <td>08:48:00</td>\n",
       "    </tr>\n",
       "    <tr>\n",
       "      <th>3</th>\n",
       "      <td>2021-04-11 18:31:00</td>\n",
       "      <td>152</td>\n",
       "      <td>0.689</td>\n",
       "      <td>2021-04-12 07:45:00</td>\n",
       "      <td>1.0</td>\n",
       "      <td>Zuhause</td>\n",
       "      <td>13</td>\n",
       "      <td>05:33:00</td>\n",
       "    </tr>\n",
       "    <tr>\n",
       "      <th>2</th>\n",
       "      <td>2021-04-19 19:00:00</td>\n",
       "      <td>260</td>\n",
       "      <td>0.366</td>\n",
       "      <td>2021-04-20 07:12:00</td>\n",
       "      <td>1.0</td>\n",
       "      <td>Zuhause</td>\n",
       "      <td>23</td>\n",
       "      <td>10:06:00</td>\n",
       "    </tr>\n",
       "    <tr>\n",
       "      <th>1</th>\n",
       "      <td>2021-04-21 21:04:00</td>\n",
       "      <td>374</td>\n",
       "      <td>0.374</td>\n",
       "      <td>2021-04-22 11:22:00</td>\n",
       "      <td>1.0</td>\n",
       "      <td>Zuhause</td>\n",
       "      <td>23</td>\n",
       "      <td>09:55:00</td>\n",
       "    </tr>\n",
       "    <tr>\n",
       "      <th>0</th>\n",
       "      <td>2021-04-27 17:20:00</td>\n",
       "      <td>491</td>\n",
       "      <td>0.386</td>\n",
       "      <td>2021-04-28 07:31:00</td>\n",
       "      <td>1.0</td>\n",
       "      <td>Zuhause</td>\n",
       "      <td>23</td>\n",
       "      <td>10:09:00</td>\n",
       "    </tr>\n",
       "  </tbody>\n",
       "</table>\n",
       "</div>"
      ],
      "text/plain": [
       "                begin   km  SOC_begin                 end  SOC_end      adr  \\\n",
       "0 2021-03-26 16:39:00   93      0.492 2021-03-27 10:06:00      1.0  Zuhause   \n",
       "3 2021-04-11 18:31:00  152      0.689 2021-04-12 07:45:00      1.0  Zuhause   \n",
       "2 2021-04-19 19:00:00  260      0.366 2021-04-20 07:12:00      1.0  Zuhause   \n",
       "1 2021-04-21 21:04:00  374      0.374 2021-04-22 11:22:00      1.0  Zuhause   \n",
       "0 2021-04-27 17:20:00  491      0.386 2021-04-28 07:31:00      1.0  Zuhause   \n",
       "\n",
       "   kWh t_charge  \n",
       "0   20 08:48:00  \n",
       "3   13 05:33:00  \n",
       "2   23 10:06:00  \n",
       "1   23 09:55:00  \n",
       "0   23 10:09:00  "
      ]
     },
     "execution_count": 13,
     "metadata": {},
     "output_type": "execute_result"
    }
   ],
   "source": [
    "# convert t_charge from str to timedelta\n",
    "#   '8h 48min'  case 1\n",
    "#   '11 min'    case 2\n",
    "td = []\n",
    "for s in df.t_charge:\n",
    "    if \"h\" in s:\n",
    "        hours, mins = s.split(\"h\")\n",
    "    else:\n",
    "        hours, mins = 0, s\n",
    "    mins = int(mins.replace(\"min\", \"\")) \n",
    "    mins += 60 * int(hours)\n",
    "    td.append(dt.timedelta(seconds=60*mins))\n",
    "df[\"t_charge\"] = td\n",
    "df.head()"
   ]
  },
  {
   "cell_type": "code",
   "execution_count": 14,
   "metadata": {},
   "outputs": [
    {
     "data": {
      "image/png": "[encoded data removed]",
      "text/plain": [
       "<Figure size 720x288 with 1 Axes>"
      ]
     },
     "metadata": {
      "needs_background": "light"
     },
     "output_type": "display_data"
    }
   ],
   "source": [
    "df.plot(kind=\"scatter\", x=\"begin\", y=\"km\", grid=\"both\", figsize=(10,4));"
   ]
  },
  {
   "cell_type": "code",
   "execution_count": 15,
   "metadata": {},
   "outputs": [
    {
     "data": {
      "image/png": "[encoded data removed]",
      "text/plain": [
       "<Figure size 720x288 with 1 Axes>"
      ]
     },
     "metadata": {
      "needs_background": "light"
     },
     "output_type": "display_data"
    }
   ],
   "source": [
    "df[\"dSOC\"] = df.SOC_end - df.SOC_begin\n",
    "df.plot(kind=\"scatter\", x=\"dSOC\", y=\"kWh\", grid=\"both\", figsize=(10,4));"
   ]
  },
  {
   "cell_type": "code",
   "execution_count": 16,
   "metadata": {},
   "outputs": [
    {
     "data": {
      "text/plain": [
       "[0.5156717052164066, 35.443061589261134]"
      ]
     },
     "execution_count": 16,
     "metadata": {},
     "output_type": "execute_result"
    }
   ],
   "source": [
    "def lin_func(x, m, b):\n",
    "    return m * x + b\n",
    "\n",
    "params, _ = optimize.curve_fit(lin_func, df.dSOC, df.kWh)\n",
    "m, b = params\n",
    "lin_x = [0, 1]\n",
    "lin_y = [lin_func(x, m, b) for x in lin_x]\n",
    "lin_y"
   ]
  },
  {
   "cell_type": "code",
   "execution_count": 17,
   "metadata": {},
   "outputs": [
    {
     "data": {
      "image/png": "[encoded data removed]",
      "text/plain": [
       "<Figure size 720x288 with 1 Axes>"
      ]
     },
     "metadata": {
      "needs_background": "light"
     },
     "output_type": "display_data"
    }
   ],
   "source": [
    "plt.figure(figsize=(10, 4))\n",
    "plt.plot(df.dSOC, df.kWh, \"o\")\n",
    "plt.plot(lin_x, lin_y, \"r:\")\n",
    "plt.plot(lin_x[1], lin_y[1], \"ro\", label=f\"100% charge = {lin_y[1] :.1f}kWh\")\n",
    "plt.xlabel(\"dSOC\"), plt.ylabel(\"kWh\"), plt.legend(), plt.grid();"
   ]
  },
  {
   "cell_type": "code",
   "execution_count": 18,
   "metadata": {},
   "outputs": [
    {
     "data": {
      "text/html": [
       "<div>\n",
       "<style scoped>\n",
       "    .dataframe tbody tr th:only-of-type {\n",
       "        vertical-align: middle;\n",
       "    }\n",
       "\n",
       "    .dataframe tbody tr th {\n",
       "        vertical-align: top;\n",
       "    }\n",
       "\n",
       "    .dataframe thead th {\n",
       "        text-align: right;\n",
       "    }\n",
       "</style>\n",
       "<table border=\"1\" class=\"dataframe\">\n",
       "  <thead>\n",
       "    <tr style=\"text-align: right;\">\n",
       "      <th></th>\n",
       "      <th>begin</th>\n",
       "      <th>km</th>\n",
       "      <th>SOC_begin</th>\n",
       "      <th>end</th>\n",
       "      <th>SOC_end</th>\n",
       "      <th>adr</th>\n",
       "      <th>kWh</th>\n",
       "      <th>t_charge</th>\n",
       "      <th>dSOC</th>\n",
       "      <th>h_charge</th>\n",
       "    </tr>\n",
       "  </thead>\n",
       "  <tbody>\n",
       "    <tr>\n",
       "      <th>0</th>\n",
       "      <td>2021-03-26 16:39:00</td>\n",
       "      <td>93</td>\n",
       "      <td>0.492</td>\n",
       "      <td>2021-03-27 10:06:00</td>\n",
       "      <td>1.0</td>\n",
       "      <td>Zuhause</td>\n",
       "      <td>20</td>\n",
       "      <td>08:48:00</td>\n",
       "      <td>0.508</td>\n",
       "      <td>8.800000</td>\n",
       "    </tr>\n",
       "    <tr>\n",
       "      <th>3</th>\n",
       "      <td>2021-04-11 18:31:00</td>\n",
       "      <td>152</td>\n",
       "      <td>0.689</td>\n",
       "      <td>2021-04-12 07:45:00</td>\n",
       "      <td>1.0</td>\n",
       "      <td>Zuhause</td>\n",
       "      <td>13</td>\n",
       "      <td>05:33:00</td>\n",
       "      <td>0.311</td>\n",
       "      <td>5.550000</td>\n",
       "    </tr>\n",
       "    <tr>\n",
       "      <th>2</th>\n",
       "      <td>2021-04-19 19:00:00</td>\n",
       "      <td>260</td>\n",
       "      <td>0.366</td>\n",
       "      <td>2021-04-20 07:12:00</td>\n",
       "      <td>1.0</td>\n",
       "      <td>Zuhause</td>\n",
       "      <td>23</td>\n",
       "      <td>10:06:00</td>\n",
       "      <td>0.634</td>\n",
       "      <td>10.100000</td>\n",
       "    </tr>\n",
       "    <tr>\n",
       "      <th>1</th>\n",
       "      <td>2021-04-21 21:04:00</td>\n",
       "      <td>374</td>\n",
       "      <td>0.374</td>\n",
       "      <td>2021-04-22 11:22:00</td>\n",
       "      <td>1.0</td>\n",
       "      <td>Zuhause</td>\n",
       "      <td>23</td>\n",
       "      <td>09:55:00</td>\n",
       "      <td>0.626</td>\n",
       "      <td>9.916667</td>\n",
       "    </tr>\n",
       "    <tr>\n",
       "      <th>0</th>\n",
       "      <td>2021-04-27 17:20:00</td>\n",
       "      <td>491</td>\n",
       "      <td>0.386</td>\n",
       "      <td>2021-04-28 07:31:00</td>\n",
       "      <td>1.0</td>\n",
       "      <td>Zuhause</td>\n",
       "      <td>23</td>\n",
       "      <td>10:09:00</td>\n",
       "      <td>0.614</td>\n",
       "      <td>10.150000</td>\n",
       "    </tr>\n",
       "  </tbody>\n",
       "</table>\n",
       "</div>"
      ],
      "text/plain": [
       "                begin   km  SOC_begin                 end  SOC_end      adr  \\\n",
       "0 2021-03-26 16:39:00   93      0.492 2021-03-27 10:06:00      1.0  Zuhause   \n",
       "3 2021-04-11 18:31:00  152      0.689 2021-04-12 07:45:00      1.0  Zuhause   \n",
       "2 2021-04-19 19:00:00  260      0.366 2021-04-20 07:12:00      1.0  Zuhause   \n",
       "1 2021-04-21 21:04:00  374      0.374 2021-04-22 11:22:00      1.0  Zuhause   \n",
       "0 2021-04-27 17:20:00  491      0.386 2021-04-28 07:31:00      1.0  Zuhause   \n",
       "\n",
       "   kWh t_charge   dSOC   h_charge  \n",
       "0   20 08:48:00  0.508   8.800000  \n",
       "3   13 05:33:00  0.311   5.550000  \n",
       "2   23 10:06:00  0.634  10.100000  \n",
       "1   23 09:55:00  0.626   9.916667  \n",
       "0   23 10:09:00  0.614  10.150000  "
      ]
     },
     "execution_count": 18,
     "metadata": {},
     "output_type": "execute_result"
    }
   ],
   "source": [
    "df[\"h_charge\"] = [td/dt.timedelta(hours=1) for td in df.t_charge]\n",
    "df.head()"
   ]
  },
  {
   "cell_type": "code",
   "execution_count": 19,
   "metadata": {},
   "outputs": [
    {
     "data": {
      "image/png": "[encoded data removed]",
      "text/plain": [
       "<Figure size 720x288 with 1 Axes>"
      ]
     },
     "metadata": {
      "needs_background": "light"
     },
     "output_type": "display_data"
    }
   ],
   "source": [
    "df.plot(kind=\"scatter\", x=\"h_charge\", y=\"dSOC\", grid=\"both\", figsize=(10,4));"
   ]
  },
  {
   "cell_type": "code",
   "execution_count": 20,
   "metadata": {},
   "outputs": [
    {
     "data": {
      "image/png": "[encoded data removed]",
      "text/plain": [
       "<Figure size 720x288 with 1 Axes>"
      ]
     },
     "metadata": {
      "needs_background": "light"
     },
     "output_type": "display_data"
    }
   ],
   "source": [
    "df[\"kW\"] = df.kWh / df.h_charge\n",
    "df.loc[df.h_charge < 0.2, \"kW\"] = np.nan  # don't use very short charge times\n",
    "df.plot(kind=\"scatter\", x=\"begin\", y=\"kW\", grid=\"both\", figsize=(10,4));"
   ]
  },
  {
   "cell_type": "markdown",
   "metadata": {},
   "source": [
    "# Read Walli Data"
   ]
  },
  {
   "cell_type": "code",
   "execution_count": 55,
   "metadata": {},
   "outputs": [
    {
     "data": {
      "text/html": [
       "<div>\n",
       "<style scoped>\n",
       "    .dataframe tbody tr th:only-of-type {\n",
       "        vertical-align: middle;\n",
       "    }\n",
       "\n",
       "    .dataframe tbody tr th {\n",
       "        vertical-align: top;\n",
       "    }\n",
       "\n",
       "    .dataframe thead th {\n",
       "        text-align: right;\n",
       "    }\n",
       "</style>\n",
       "<table border=\"1\" class=\"dataframe\">\n",
       "  <thead>\n",
       "    <tr style=\"text-align: right;\">\n",
       "      <th></th>\n",
       "      <th>datetime</th>\n",
       "      <th>charging_state</th>\n",
       "      <th>temperature</th>\n",
       "      <th>power_kW</th>\n",
       "      <th>energy_kWh</th>\n",
       "    </tr>\n",
       "  </thead>\n",
       "  <tbody>\n",
       "    <tr>\n",
       "      <th>3638</th>\n",
       "      <td>2022-02-12 14:00:00.012936</td>\n",
       "      <td>2</td>\n",
       "      <td>13.7</td>\n",
       "      <td>0.0</td>\n",
       "      <td>1019.485</td>\n",
       "    </tr>\n",
       "    <tr>\n",
       "      <th>3639</th>\n",
       "      <td>2022-02-12 15:00:00.027700</td>\n",
       "      <td>2</td>\n",
       "      <td>14.3</td>\n",
       "      <td>0.0</td>\n",
       "      <td>1019.485</td>\n",
       "    </tr>\n",
       "    <tr>\n",
       "      <th>3640</th>\n",
       "      <td>2022-02-12 16:00:00.018560</td>\n",
       "      <td>2</td>\n",
       "      <td>14.3</td>\n",
       "      <td>0.0</td>\n",
       "      <td>1019.485</td>\n",
       "    </tr>\n",
       "    <tr>\n",
       "      <th>3641</th>\n",
       "      <td>2022-02-12 17:00:00.033125</td>\n",
       "      <td>2</td>\n",
       "      <td>14.3</td>\n",
       "      <td>0.0</td>\n",
       "      <td>1019.485</td>\n",
       "    </tr>\n",
       "    <tr>\n",
       "      <th>3642</th>\n",
       "      <td>2022-02-12 18:00:00.022352</td>\n",
       "      <td>2</td>\n",
       "      <td>14.0</td>\n",
       "      <td>0.0</td>\n",
       "      <td>1019.485</td>\n",
       "    </tr>\n",
       "  </tbody>\n",
       "</table>\n",
       "</div>"
      ],
      "text/plain": [
       "                       datetime  charging_state  temperature  power_kW  \\\n",
       "3638 2022-02-12 14:00:00.012936               2         13.7       0.0   \n",
       "3639 2022-02-12 15:00:00.027700               2         14.3       0.0   \n",
       "3640 2022-02-12 16:00:00.018560               2         14.3       0.0   \n",
       "3641 2022-02-12 17:00:00.033125               2         14.3       0.0   \n",
       "3642 2022-02-12 18:00:00.022352               2         14.0       0.0   \n",
       "\n",
       "      energy_kWh  \n",
       "3638    1019.485  \n",
       "3639    1019.485  \n",
       "3640    1019.485  \n",
       "3641    1019.485  \n",
       "3642    1019.485  "
      ]
     },
     "execution_count": 55,
     "metadata": {},
     "output_type": "execute_result"
    }
   ],
   "source": [
    "wd = pd.read_csv(os.path.join(dir_, 'walli_data_campaign_0.csv'), sep=\";\", decimal=\",\")\n",
    "wd = wd[['datetime', 'charging_state', 'temperature', 'power_kW', 'energy_kWh']]\n",
    "wd.datetime = pd.to_datetime(wd.datetime)\n",
    "wd.tail()"
   ]
  },
  {
   "cell_type": "code",
   "execution_count": 48,
   "metadata": {},
   "outputs": [
    {
     "data": {
      "image/png": "[encoded data removed]",
      "text/plain": [
       "<Figure size 1008x288 with 1 Axes>"
      ]
     },
     "metadata": {
      "needs_background": "light"
     },
     "output_type": "display_data"
    }
   ],
   "source": [
    "wd[['charging_state', 'temperature', 'power_kW']].plot(grid=\"both\", figsize=(14,4));"
   ]
  },
  {
   "cell_type": "code",
   "execution_count": 57,
   "metadata": {},
   "outputs": [
    {
     "data": {
      "image/png": "[encoded data removed]",
      "text/plain": [
       "<Figure size 1008x288 with 1 Axes>"
      ]
     },
     "metadata": {
      "needs_background": "light"
     },
     "output_type": "display_data"
    }
   ],
   "source": [
    "wd.plot(kind=\"scatter\", x=\"datetime\", y=\"energy_kWh\", grid=\"both\", figsize=(14,4));"
   ]
  },
  {
   "cell_type": "code",
   "execution_count": 64,
   "metadata": {},
   "outputs": [
    {
     "data": {
      "text/plain": [
       "(838.806, 838.806)"
      ]
     },
     "execution_count": 64,
     "metadata": {},
     "output_type": "execute_result"
    }
   ],
   "source": [
    "wd[\"charged_kWh\"] = wd.energy_kWh.diff()\n",
    "wd.charged_kWh.sum(), wd.energy_kWh.max() - wd.energy_kWh.min() "
   ]
  },
  {
   "cell_type": "code",
   "execution_count": 98,
   "metadata": {},
   "outputs": [
    {
     "data": {
      "text/html": [
       "<div>\n",
       "<style scoped>\n",
       "    .dataframe tbody tr th:only-of-type {\n",
       "        vertical-align: middle;\n",
       "    }\n",
       "\n",
       "    .dataframe tbody tr th {\n",
       "        vertical-align: top;\n",
       "    }\n",
       "\n",
       "    .dataframe thead th {\n",
       "        text-align: right;\n",
       "    }\n",
       "</style>\n",
       "<table border=\"1\" class=\"dataframe\">\n",
       "  <thead>\n",
       "    <tr style=\"text-align: right;\">\n",
       "      <th></th>\n",
       "      <th>datetime</th>\n",
       "      <th>charging_state</th>\n",
       "      <th>temperature</th>\n",
       "      <th>power_kW</th>\n",
       "      <th>energy_kWh</th>\n",
       "      <th>charged_kWh</th>\n",
       "    </tr>\n",
       "  </thead>\n",
       "  <tbody>\n",
       "    <tr>\n",
       "      <th>0</th>\n",
       "      <td>2021-09-13 00:00:00</td>\n",
       "      <td>2</td>\n",
       "      <td>28.9</td>\n",
       "      <td>0.0</td>\n",
       "      <td>180.679</td>\n",
       "      <td>NaN</td>\n",
       "    </tr>\n",
       "    <tr>\n",
       "      <th>1</th>\n",
       "      <td>2021-09-13 01:00:00</td>\n",
       "      <td>2</td>\n",
       "      <td>28.3</td>\n",
       "      <td>0.0</td>\n",
       "      <td>180.679</td>\n",
       "      <td>0.0</td>\n",
       "    </tr>\n",
       "    <tr>\n",
       "      <th>2</th>\n",
       "      <td>2021-09-13 02:00:00</td>\n",
       "      <td>2</td>\n",
       "      <td>28.3</td>\n",
       "      <td>0.0</td>\n",
       "      <td>180.679</td>\n",
       "      <td>0.0</td>\n",
       "    </tr>\n",
       "    <tr>\n",
       "      <th>3</th>\n",
       "      <td>2021-09-13 03:00:00</td>\n",
       "      <td>2</td>\n",
       "      <td>27.7</td>\n",
       "      <td>0.0</td>\n",
       "      <td>180.679</td>\n",
       "      <td>0.0</td>\n",
       "    </tr>\n",
       "    <tr>\n",
       "      <th>4</th>\n",
       "      <td>2021-09-13 04:00:00</td>\n",
       "      <td>2</td>\n",
       "      <td>27.5</td>\n",
       "      <td>0.0</td>\n",
       "      <td>180.679</td>\n",
       "      <td>0.0</td>\n",
       "    </tr>\n",
       "  </tbody>\n",
       "</table>\n",
       "</div>"
      ],
      "text/plain": [
       "             datetime  charging_state  temperature  power_kW  energy_kWh  \\\n",
       "0 2021-09-13 00:00:00               2         28.9       0.0     180.679   \n",
       "1 2021-09-13 01:00:00               2         28.3       0.0     180.679   \n",
       "2 2021-09-13 02:00:00               2         28.3       0.0     180.679   \n",
       "3 2021-09-13 03:00:00               2         27.7       0.0     180.679   \n",
       "4 2021-09-13 04:00:00               2         27.5       0.0     180.679   \n",
       "\n",
       "   charged_kWh  \n",
       "0          NaN  \n",
       "1          0.0  \n",
       "2          0.0  \n",
       "3          0.0  \n",
       "4          0.0  "
      ]
     },
     "execution_count": 98,
     "metadata": {},
     "output_type": "execute_result"
    }
   ],
   "source": [
    "wd.head()"
   ]
  },
  {
   "cell_type": "code",
   "execution_count": 99,
   "metadata": {},
   "outputs": [
    {
     "data": {
      "text/html": [
       "<div>\n",
       "<style scoped>\n",
       "    .dataframe tbody tr th:only-of-type {\n",
       "        vertical-align: middle;\n",
       "    }\n",
       "\n",
       "    .dataframe tbody tr th {\n",
       "        vertical-align: top;\n",
       "    }\n",
       "\n",
       "    .dataframe thead th {\n",
       "        text-align: right;\n",
       "    }\n",
       "</style>\n",
       "<table border=\"1\" class=\"dataframe\">\n",
       "  <thead>\n",
       "    <tr style=\"text-align: right;\">\n",
       "      <th></th>\n",
       "      <th>Walli_kWh</th>\n",
       "    </tr>\n",
       "  </thead>\n",
       "  <tbody>\n",
       "    <tr>\n",
       "      <th>2022-02-08</th>\n",
       "      <td>0.000</td>\n",
       "    </tr>\n",
       "    <tr>\n",
       "      <th>2022-02-09</th>\n",
       "      <td>0.000</td>\n",
       "    </tr>\n",
       "    <tr>\n",
       "      <th>2022-02-10</th>\n",
       "      <td>13.434</td>\n",
       "    </tr>\n",
       "    <tr>\n",
       "      <th>2022-02-11</th>\n",
       "      <td>0.000</td>\n",
       "    </tr>\n",
       "    <tr>\n",
       "      <th>2022-02-12</th>\n",
       "      <td>0.000</td>\n",
       "    </tr>\n",
       "  </tbody>\n",
       "</table>\n",
       "</div>"
      ],
      "text/plain": [
       "            Walli_kWh\n",
       "2022-02-08      0.000\n",
       "2022-02-09      0.000\n",
       "2022-02-10     13.434\n",
       "2022-02-11      0.000\n",
       "2022-02-12      0.000"
      ]
     },
     "execution_count": 99,
     "metadata": {},
     "output_type": "execute_result"
    }
   ],
   "source": [
    "wc = wd[[\"datetime\", \"charged_kWh\"]].set_index(\"datetime\").resample(dt.timedelta(days=1)).sum()\n",
    "wc.index = [t.date() for t in wc.index]\n",
    "wc.columns = [\"Walli_kWh\"]\n",
    "wc.tail()"
   ]
  },
  {
   "cell_type": "code",
   "execution_count": 100,
   "metadata": {},
   "outputs": [
    {
     "data": {
      "image/png": "[encoded data removed]",
      "text/plain": [
       "<Figure size 1008x288 with 1 Axes>"
      ]
     },
     "metadata": {
      "needs_background": "light"
     },
     "output_type": "display_data"
    }
   ],
   "source": [
    "wc.plot(grid=\"both\", figsize=(14,4));"
   ]
  },
  {
   "cell_type": "markdown",
   "metadata": {},
   "source": [
    "# Compare Mini and Walli data"
   ]
  },
  {
   "cell_type": "code",
   "execution_count": 85,
   "metadata": {},
   "outputs": [
    {
     "data": {
      "text/html": [
       "<div>\n",
       "<style scoped>\n",
       "    .dataframe tbody tr th:only-of-type {\n",
       "        vertical-align: middle;\n",
       "    }\n",
       "\n",
       "    .dataframe tbody tr th {\n",
       "        vertical-align: top;\n",
       "    }\n",
       "\n",
       "    .dataframe thead th {\n",
       "        text-align: right;\n",
       "    }\n",
       "</style>\n",
       "<table border=\"1\" class=\"dataframe\">\n",
       "  <thead>\n",
       "    <tr style=\"text-align: right;\">\n",
       "      <th></th>\n",
       "      <th>begin</th>\n",
       "      <th>km</th>\n",
       "      <th>SOC_begin</th>\n",
       "      <th>end</th>\n",
       "      <th>SOC_end</th>\n",
       "      <th>adr</th>\n",
       "      <th>kWh</th>\n",
       "      <th>t_charge</th>\n",
       "      <th>dSOC</th>\n",
       "      <th>h_charge</th>\n",
       "      <th>kW</th>\n",
       "    </tr>\n",
       "  </thead>\n",
       "  <tbody>\n",
       "    <tr>\n",
       "      <th>0</th>\n",
       "      <td>2021-03-26 16:39:00</td>\n",
       "      <td>93</td>\n",
       "      <td>0.492</td>\n",
       "      <td>2021-03-27 10:06:00</td>\n",
       "      <td>1.0</td>\n",
       "      <td>Zuhause</td>\n",
       "      <td>20</td>\n",
       "      <td>08:48:00</td>\n",
       "      <td>0.508</td>\n",
       "      <td>8.800000</td>\n",
       "      <td>2.272727</td>\n",
       "    </tr>\n",
       "    <tr>\n",
       "      <th>3</th>\n",
       "      <td>2021-04-11 18:31:00</td>\n",
       "      <td>152</td>\n",
       "      <td>0.689</td>\n",
       "      <td>2021-04-12 07:45:00</td>\n",
       "      <td>1.0</td>\n",
       "      <td>Zuhause</td>\n",
       "      <td>13</td>\n",
       "      <td>05:33:00</td>\n",
       "      <td>0.311</td>\n",
       "      <td>5.550000</td>\n",
       "      <td>2.342342</td>\n",
       "    </tr>\n",
       "    <tr>\n",
       "      <th>2</th>\n",
       "      <td>2021-04-19 19:00:00</td>\n",
       "      <td>260</td>\n",
       "      <td>0.366</td>\n",
       "      <td>2021-04-20 07:12:00</td>\n",
       "      <td>1.0</td>\n",
       "      <td>Zuhause</td>\n",
       "      <td>23</td>\n",
       "      <td>10:06:00</td>\n",
       "      <td>0.634</td>\n",
       "      <td>10.100000</td>\n",
       "      <td>2.277228</td>\n",
       "    </tr>\n",
       "    <tr>\n",
       "      <th>1</th>\n",
       "      <td>2021-04-21 21:04:00</td>\n",
       "      <td>374</td>\n",
       "      <td>0.374</td>\n",
       "      <td>2021-04-22 11:22:00</td>\n",
       "      <td>1.0</td>\n",
       "      <td>Zuhause</td>\n",
       "      <td>23</td>\n",
       "      <td>09:55:00</td>\n",
       "      <td>0.626</td>\n",
       "      <td>9.916667</td>\n",
       "      <td>2.319328</td>\n",
       "    </tr>\n",
       "    <tr>\n",
       "      <th>0</th>\n",
       "      <td>2021-04-27 17:20:00</td>\n",
       "      <td>491</td>\n",
       "      <td>0.386</td>\n",
       "      <td>2021-04-28 07:31:00</td>\n",
       "      <td>1.0</td>\n",
       "      <td>Zuhause</td>\n",
       "      <td>23</td>\n",
       "      <td>10:09:00</td>\n",
       "      <td>0.614</td>\n",
       "      <td>10.150000</td>\n",
       "      <td>2.266010</td>\n",
       "    </tr>\n",
       "  </tbody>\n",
       "</table>\n",
       "</div>"
      ],
      "text/plain": [
       "                begin   km  SOC_begin                 end  SOC_end      adr  \\\n",
       "0 2021-03-26 16:39:00   93      0.492 2021-03-27 10:06:00      1.0  Zuhause   \n",
       "3 2021-04-11 18:31:00  152      0.689 2021-04-12 07:45:00      1.0  Zuhause   \n",
       "2 2021-04-19 19:00:00  260      0.366 2021-04-20 07:12:00      1.0  Zuhause   \n",
       "1 2021-04-21 21:04:00  374      0.374 2021-04-22 11:22:00      1.0  Zuhause   \n",
       "0 2021-04-27 17:20:00  491      0.386 2021-04-28 07:31:00      1.0  Zuhause   \n",
       "\n",
       "   kWh t_charge   dSOC   h_charge        kW  \n",
       "0   20 08:48:00  0.508   8.800000  2.272727  \n",
       "3   13 05:33:00  0.311   5.550000  2.342342  \n",
       "2   23 10:06:00  0.634  10.100000  2.277228  \n",
       "1   23 09:55:00  0.626   9.916667  2.319328  \n",
       "0   23 10:09:00  0.614  10.150000  2.266010  "
      ]
     },
     "execution_count": 85,
     "metadata": {},
     "output_type": "execute_result"
    }
   ],
   "source": [
    "df.head()"
   ]
  },
  {
   "cell_type": "code",
   "execution_count": 118,
   "metadata": {},
   "outputs": [
    {
     "data": {
      "text/html": [
       "<div>\n",
       "<style scoped>\n",
       "    .dataframe tbody tr th:only-of-type {\n",
       "        vertical-align: middle;\n",
       "    }\n",
       "\n",
       "    .dataframe tbody tr th {\n",
       "        vertical-align: top;\n",
       "    }\n",
       "\n",
       "    .dataframe thead th {\n",
       "        text-align: right;\n",
       "    }\n",
       "</style>\n",
       "<table border=\"1\" class=\"dataframe\">\n",
       "  <thead>\n",
       "    <tr style=\"text-align: right;\">\n",
       "      <th></th>\n",
       "      <th>Mini_kWh</th>\n",
       "    </tr>\n",
       "    <tr>\n",
       "      <th>date</th>\n",
       "      <th></th>\n",
       "    </tr>\n",
       "  </thead>\n",
       "  <tbody>\n",
       "    <tr>\n",
       "      <th>2021-03-26</th>\n",
       "      <td>20</td>\n",
       "    </tr>\n",
       "    <tr>\n",
       "      <th>2021-04-11</th>\n",
       "      <td>13</td>\n",
       "    </tr>\n",
       "    <tr>\n",
       "      <th>2021-04-19</th>\n",
       "      <td>23</td>\n",
       "    </tr>\n",
       "    <tr>\n",
       "      <th>2021-04-21</th>\n",
       "      <td>23</td>\n",
       "    </tr>\n",
       "    <tr>\n",
       "      <th>2021-04-27</th>\n",
       "      <td>23</td>\n",
       "    </tr>\n",
       "  </tbody>\n",
       "</table>\n",
       "</div>"
      ],
      "text/plain": [
       "            Mini_kWh\n",
       "date                \n",
       "2021-03-26        20\n",
       "2021-04-11        13\n",
       "2021-04-19        23\n",
       "2021-04-21        23\n",
       "2021-04-27        23"
      ]
     },
     "execution_count": 118,
     "metadata": {},
     "output_type": "execute_result"
    }
   ],
   "source": [
    "df[\"date\"] = [t.date() for t in df.begin]\n",
    "mc = df[df.adr == \"Zuhause\"]\n",
    "mc = mc[[\"date\", \"kWh\"]].set_index(\"date\")\n",
    "mc.columns = [\"Mini_kWh\"]\n",
    "mc.head()"
   ]
  },
  {
   "cell_type": "code",
   "execution_count": 119,
   "metadata": {},
   "outputs": [
    {
     "data": {
      "text/plain": [
       "Mini_kWh     792.000\n",
       "Walli_kWh    807.354\n",
       "dtype: float64"
      ]
     },
     "execution_count": 119,
     "metadata": {},
     "output_type": "execute_result"
    }
   ],
   "source": [
    "jc = mc.join(wc).dropna(axis=0)\n",
    "jc.sum(axis=0)"
   ]
  },
  {
   "cell_type": "code",
   "execution_count": 124,
   "metadata": {},
   "outputs": [
    {
     "data": {
      "image/png": "[encoded data removed]",
      "text/plain": [
       "<Figure size 504x432 with 1 Axes>"
      ]
     },
     "metadata": {
      "needs_background": "light"
     },
     "output_type": "display_data"
    }
   ],
   "source": [
    "jc.plot(kind=\"scatter\", x=\"Mini_kWh\", y=\"Walli_kWh\", grid=\"both\", figsize=(7,6))\n",
    "plt.plot([0, 32], [0, 32]);"
   ]
  },
  {
   "cell_type": "code",
   "execution_count": 129,
   "metadata": {},
   "outputs": [
    {
     "data": {
      "image/png": "[encoded data removed]",
      "text/plain": [
       "<Figure size 1008x288 with 1 Axes>"
      ]
     },
     "metadata": {
      "needs_background": "light"
     },
     "output_type": "display_data"
    }
   ],
   "source": [
    "jc.plot(style=\"X-\", grid=\"both\", figsize=(14,4));"
   ]
  },
  {
   "cell_type": "code",
   "execution_count": 130,
   "metadata": {},
   "outputs": [
    {
     "data": {
      "text/html": [
       "<div>\n",
       "<style scoped>\n",
       "    .dataframe tbody tr th:only-of-type {\n",
       "        vertical-align: middle;\n",
       "    }\n",
       "\n",
       "    .dataframe tbody tr th {\n",
       "        vertical-align: top;\n",
       "    }\n",
       "\n",
       "    .dataframe thead th {\n",
       "        text-align: right;\n",
       "    }\n",
       "</style>\n",
       "<table border=\"1\" class=\"dataframe\">\n",
       "  <thead>\n",
       "    <tr style=\"text-align: right;\">\n",
       "      <th></th>\n",
       "      <th>Mini_kWh</th>\n",
       "      <th>Walli_kWh</th>\n",
       "    </tr>\n",
       "  </thead>\n",
       "  <tbody>\n",
       "    <tr>\n",
       "      <th>2021-09-15</th>\n",
       "      <td>26</td>\n",
       "      <td>26.832</td>\n",
       "    </tr>\n",
       "    <tr>\n",
       "      <th>2021-09-17</th>\n",
       "      <td>16</td>\n",
       "      <td>15.657</td>\n",
       "    </tr>\n",
       "    <tr>\n",
       "      <th>2021-09-21</th>\n",
       "      <td>0</td>\n",
       "      <td>0.000</td>\n",
       "    </tr>\n",
       "    <tr>\n",
       "      <th>2021-09-22</th>\n",
       "      <td>24</td>\n",
       "      <td>24.693</td>\n",
       "    </tr>\n",
       "    <tr>\n",
       "      <th>2021-09-24</th>\n",
       "      <td>25</td>\n",
       "      <td>25.839</td>\n",
       "    </tr>\n",
       "    <tr>\n",
       "      <th>2021-09-28</th>\n",
       "      <td>17</td>\n",
       "      <td>18.417</td>\n",
       "    </tr>\n",
       "    <tr>\n",
       "      <th>2021-09-30</th>\n",
       "      <td>17</td>\n",
       "      <td>18.232</td>\n",
       "    </tr>\n",
       "    <tr>\n",
       "      <th>2021-10-04</th>\n",
       "      <td>19</td>\n",
       "      <td>18.800</td>\n",
       "    </tr>\n",
       "    <tr>\n",
       "      <th>2021-10-07</th>\n",
       "      <td>30</td>\n",
       "      <td>30.700</td>\n",
       "    </tr>\n",
       "    <tr>\n",
       "      <th>2021-10-11</th>\n",
       "      <td>24</td>\n",
       "      <td>24.526</td>\n",
       "    </tr>\n",
       "    <tr>\n",
       "      <th>2021-10-13</th>\n",
       "      <td>18</td>\n",
       "      <td>18.283</td>\n",
       "    </tr>\n",
       "    <tr>\n",
       "      <th>2021-10-15</th>\n",
       "      <td>1</td>\n",
       "      <td>1.249</td>\n",
       "    </tr>\n",
       "    <tr>\n",
       "      <th>2021-10-16</th>\n",
       "      <td>24</td>\n",
       "      <td>25.112</td>\n",
       "    </tr>\n",
       "    <tr>\n",
       "      <th>2021-10-20</th>\n",
       "      <td>22</td>\n",
       "      <td>23.187</td>\n",
       "    </tr>\n",
       "    <tr>\n",
       "      <th>2021-10-22</th>\n",
       "      <td>22</td>\n",
       "      <td>22.473</td>\n",
       "    </tr>\n",
       "    <tr>\n",
       "      <th>2021-10-26</th>\n",
       "      <td>28</td>\n",
       "      <td>26.840</td>\n",
       "    </tr>\n",
       "    <tr>\n",
       "      <th>2021-10-28</th>\n",
       "      <td>23</td>\n",
       "      <td>22.948</td>\n",
       "    </tr>\n",
       "    <tr>\n",
       "      <th>2021-10-29</th>\n",
       "      <td>14</td>\n",
       "      <td>16.235</td>\n",
       "    </tr>\n",
       "    <tr>\n",
       "      <th>2021-11-09</th>\n",
       "      <td>27</td>\n",
       "      <td>27.127</td>\n",
       "    </tr>\n",
       "    <tr>\n",
       "      <th>2021-11-11</th>\n",
       "      <td>24</td>\n",
       "      <td>23.915</td>\n",
       "    </tr>\n",
       "    <tr>\n",
       "      <th>2021-11-16</th>\n",
       "      <td>31</td>\n",
       "      <td>26.687</td>\n",
       "    </tr>\n",
       "    <tr>\n",
       "      <th>2021-11-17</th>\n",
       "      <td>12</td>\n",
       "      <td>16.029</td>\n",
       "    </tr>\n",
       "    <tr>\n",
       "      <th>2021-11-18</th>\n",
       "      <td>26</td>\n",
       "      <td>26.785</td>\n",
       "    </tr>\n",
       "    <tr>\n",
       "      <th>2021-11-22</th>\n",
       "      <td>25</td>\n",
       "      <td>24.105</td>\n",
       "    </tr>\n",
       "    <tr>\n",
       "      <th>2021-11-30</th>\n",
       "      <td>29</td>\n",
       "      <td>30.205</td>\n",
       "    </tr>\n",
       "    <tr>\n",
       "      <th>2021-12-06</th>\n",
       "      <td>29</td>\n",
       "      <td>29.081</td>\n",
       "    </tr>\n",
       "    <tr>\n",
       "      <th>2021-12-09</th>\n",
       "      <td>26</td>\n",
       "      <td>26.454</td>\n",
       "    </tr>\n",
       "    <tr>\n",
       "      <th>2021-12-15</th>\n",
       "      <td>31</td>\n",
       "      <td>31.068</td>\n",
       "    </tr>\n",
       "    <tr>\n",
       "      <th>2021-12-17</th>\n",
       "      <td>19</td>\n",
       "      <td>19.263</td>\n",
       "    </tr>\n",
       "    <tr>\n",
       "      <th>2021-12-21</th>\n",
       "      <td>15</td>\n",
       "      <td>15.739</td>\n",
       "    </tr>\n",
       "    <tr>\n",
       "      <th>2022-01-06</th>\n",
       "      <td>13</td>\n",
       "      <td>14.273</td>\n",
       "    </tr>\n",
       "    <tr>\n",
       "      <th>2022-01-11</th>\n",
       "      <td>28</td>\n",
       "      <td>27.953</td>\n",
       "    </tr>\n",
       "    <tr>\n",
       "      <th>2022-01-17</th>\n",
       "      <td>27</td>\n",
       "      <td>26.721</td>\n",
       "    </tr>\n",
       "    <tr>\n",
       "      <th>2022-01-20</th>\n",
       "      <td>26</td>\n",
       "      <td>27.100</td>\n",
       "    </tr>\n",
       "    <tr>\n",
       "      <th>2022-01-26</th>\n",
       "      <td>26</td>\n",
       "      <td>26.748</td>\n",
       "    </tr>\n",
       "    <tr>\n",
       "      <th>2022-01-29</th>\n",
       "      <td>0</td>\n",
       "      <td>0.000</td>\n",
       "    </tr>\n",
       "    <tr>\n",
       "      <th>2022-02-02</th>\n",
       "      <td>28</td>\n",
       "      <td>28.078</td>\n",
       "    </tr>\n",
       "  </tbody>\n",
       "</table>\n",
       "</div>"
      ],
      "text/plain": [
       "            Mini_kWh  Walli_kWh\n",
       "2021-09-15        26     26.832\n",
       "2021-09-17        16     15.657\n",
       "2021-09-21         0      0.000\n",
       "2021-09-22        24     24.693\n",
       "2021-09-24        25     25.839\n",
       "2021-09-28        17     18.417\n",
       "2021-09-30        17     18.232\n",
       "2021-10-04        19     18.800\n",
       "2021-10-07        30     30.700\n",
       "2021-10-11        24     24.526\n",
       "2021-10-13        18     18.283\n",
       "2021-10-15         1      1.249\n",
       "2021-10-16        24     25.112\n",
       "2021-10-20        22     23.187\n",
       "2021-10-22        22     22.473\n",
       "2021-10-26        28     26.840\n",
       "2021-10-28        23     22.948\n",
       "2021-10-29        14     16.235\n",
       "2021-11-09        27     27.127\n",
       "2021-11-11        24     23.915\n",
       "2021-11-16        31     26.687\n",
       "2021-11-17        12     16.029\n",
       "2021-11-18        26     26.785\n",
       "2021-11-22        25     24.105\n",
       "2021-11-30        29     30.205\n",
       "2021-12-06        29     29.081\n",
       "2021-12-09        26     26.454\n",
       "2021-12-15        31     31.068\n",
       "2021-12-17        19     19.263\n",
       "2021-12-21        15     15.739\n",
       "2022-01-06        13     14.273\n",
       "2022-01-11        28     27.953\n",
       "2022-01-17        27     26.721\n",
       "2022-01-20        26     27.100\n",
       "2022-01-26        26     26.748\n",
       "2022-01-29         0      0.000\n",
       "2022-02-02        28     28.078"
      ]
     },
     "execution_count": 130,
     "metadata": {},
     "output_type": "execute_result"
    }
   ],
   "source": [
    "jc"
   ]
  },
  {
   "cell_type": "markdown",
   "metadata": {},
   "source": [
    "# Understand 16./17.11 difference"
   ]
  },
  {
   "cell_type": "code",
   "execution_count": 140,
   "metadata": {},
   "outputs": [
    {
     "data": {
      "image/png": "[encoded data removed]",
      "text/plain": [
       "<Figure size 1008x288 with 1 Axes>"
      ]
     },
     "metadata": {
      "needs_background": "light"
     },
     "output_type": "display_data"
    }
   ],
   "source": [
    "sd = wd[[\"datetime\", \"charged_kWh\"]].set_index(\"datetime\")\n",
    "sd[dt.datetime(2021,11,16,12):dt.datetime(2021,11,18)].plot(style=\"o-\", grid=\"both\", figsize=(14,4));"
   ]
  },
  {
   "cell_type": "code",
   "execution_count": null,
   "metadata": {},
   "outputs": [],
   "source": []
  }
 ],
 "metadata": {
  "kernelspec": {
   "display_name": "Python 3.9.7 ('flask_env')",
   "language": "python",
   "name": "python3"
  },
  "language_info": {
   "codemirror_mode": {
    "name": "ipython",
    "version": 3
   },
   "file_extension": ".py",
   "mimetype": "text/x-python",
   "name": "python",
   "nbconvert_exporter": "python",
   "pygments_lexer": "ipython3",
   "version": "3.9.7"
  },
  "orig_nbformat": 4,
  "vscode": {
   "interpreter": {
    "hash": "7df3afec6b93bfc6b4497fa02400d11f1674743b2656ffd458993e7a63d95c87"
   }
  }
 },
 "nbformat": 4,
 "nbformat_minor": 2
}
