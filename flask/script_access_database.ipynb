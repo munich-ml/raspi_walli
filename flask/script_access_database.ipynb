{
 "cells": [
  {
   "cell_type": "code",
   "execution_count": 1,
   "metadata": {},
   "outputs": [],
   "source": [
    "from app import commit_lux_to_db, db, Campaign\n",
    "import datetime as dt"
   ]
  },
  {
   "cell_type": "markdown",
   "metadata": {},
   "source": [
    "## Initial db creation "
   ]
  },
  {
   "cell_type": "code",
   "execution_count": 2,
   "metadata": {},
   "outputs": [],
   "source": [
    "db.create_all()"
   ]
  },
  {
   "cell_type": "code",
   "execution_count": 3,
   "metadata": {},
   "outputs": [
    {
     "data": {
      "text/plain": [
       "Campaign(id:0, 'hourly' is active:True, start:2021-12-05 13:00:00, end:2099-01-01 00:00:00, interval:1:00:00)"
      ]
     },
     "execution_count": 3,
     "metadata": {},
     "output_type": "execute_result"
    }
   ],
   "source": [
    "t = dt.datetime.now()    \n",
    "next_hour = t.replace(second=0, microsecond=0, minute=0, hour=t.hour+1)\n",
    "hourly = Campaign(id=0, title=\"hourly\", start=next_hour, end=dt.datetime(2099,1,1), interval=dt.timedelta(seconds=3600))\n",
    "db.session.add(hourly)\n",
    "db.session.commit()\n",
    "hourly"
   ]
  },
  {
   "cell_type": "markdown",
   "metadata": {},
   "source": [
    "## query"
   ]
  },
  {
   "cell_type": "code",
   "execution_count": 3,
   "metadata": {},
   "outputs": [
    {
     "data": {
      "text/plain": [
       "[Campaign(id:0, 'hourly' is active:True, start:2021-10-17 22:00:00, end:2050-01-01 00:00:00, interval:1:00:00),\n",
       " Campaign(id:1, 'High frequency polling for error checking.' is active:True, start:2021-10-17 21:12:00, end:2021-10-18 21:11:00, interval:1:00:00),\n",
       " Campaign(id:3, 'super campaign' is active:False, start:2021-10-25 20:51:00, end:2024-10-25 20:51:00, interval:1:00:00),\n",
       " Campaign(id:4, 'special 42' is active:True, start:2021-11-06 23:47:00, end:2021-11-20 23:47:00, interval:1:00:00),\n",
       " Campaign(id:5, 'Andies\n",
       " ' is active:True, start:2021-11-09 16:29:00, end:2021-11-07 16:29:00, interval:0:00:02)]"
      ]
     },
     "execution_count": 3,
     "metadata": {},
     "output_type": "execute_result"
    }
   ],
   "source": [
    "Campaign.query.all()"
   ]
  },
  {
   "cell_type": "code",
   "execution_count": 4,
   "metadata": {},
   "outputs": [
    {
     "data": {
      "text/plain": [
       "[Campaign(id:0, 'hourly' is active:True, start:2021-10-17 22:00:00, end:2050-01-01 00:00:00, interval:1:00:00),\n",
       " Campaign(id:1, 'High frequency polling for error checking.' is active:True, start:2021-10-17 21:12:00, end:2021-10-18 21:11:00, interval:1:00:00),\n",
       " Campaign(id:4, 'special 42' is active:True, start:2021-11-06 23:47:00, end:2021-11-20 23:47:00, interval:1:00:00),\n",
       " Campaign(id:5, 'Andies\n",
       " ' is active:True, start:2021-11-09 16:29:00, end:2021-11-07 16:29:00, interval:0:00:02)]"
      ]
     },
     "execution_count": 4,
     "metadata": {},
     "output_type": "execute_result"
    }
   ],
   "source": [
    "Campaign.query.filter(Campaign.is_active==True).all()"
   ]
  },
  {
   "cell_type": "code",
   "execution_count": 6,
   "metadata": {},
   "outputs": [
    {
     "data": {
      "text/plain": [
       "datetime.datetime(2021, 11, 1, 0, 0)"
      ]
     },
     "execution_count": 6,
     "metadata": {},
     "output_type": "execute_result"
    }
   ],
   "source": [
    "cmp = dt.datetime(2021, 11, 1)\n",
    "cmp"
   ]
  },
  {
   "cell_type": "code",
   "execution_count": 12,
   "metadata": {},
   "outputs": [
    {
     "data": {
      "text/plain": [
       "[Campaign(id:0, 'hourly' is active:True, start:2021-10-17 22:00:00, end:2050-01-01 00:00:00, interval:1:00:00),\n",
       " Campaign(id:6, 'understand the light sensor' is active:True, start:2021-12-05 11:31:00, end:2021-12-12 11:31:00, interval:0:00:30)]"
      ]
     },
     "execution_count": 12,
     "metadata": {},
     "output_type": "execute_result"
    }
   ],
   "source": [
    "now = dt.datetime.now()\n",
    "cmps = Campaign.query.filter(Campaign.is_active==True).filter(Campaign.end > now).all()\n",
    "cmps"
   ]
  },
  {
   "cell_type": "code",
   "execution_count": null,
   "metadata": {},
   "outputs": [],
   "source": []
  }
 ],
 "metadata": {
  "interpreter": {
   "hash": "4d920ee986183d6d7daed30b43bccfc4321a328276a83b3c8276323f0c218bd5"
  },
  "kernelspec": {
   "display_name": "Python 3.9.7 64-bit ('flask_env': conda)",
   "language": "python",
   "name": "python3"
  },
  "language_info": {
   "codemirror_mode": {
    "name": "ipython",
    "version": 3
   },
   "file_extension": ".py",
   "mimetype": "text/x-python",
   "name": "python",
   "nbconvert_exporter": "python",
   "pygments_lexer": "ipython3",
   "version": "3.9.7"
  },
  "orig_nbformat": 4
 },
 "nbformat": 4,
 "nbformat_minor": 2
}
