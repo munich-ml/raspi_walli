{
 "cells": [
  {
   "cell_type": "code",
   "execution_count": 1,
   "metadata": {},
   "outputs": [],
   "source": [
    "from app import commit_lux_to_db, db, Campaign\n",
    "import datetime as dt"
   ]
  },
  {
   "cell_type": "markdown",
   "metadata": {},
   "source": [
    "## Initial db creation "
   ]
  },
  {
   "cell_type": "code",
   "execution_count": 2,
   "metadata": {},
   "outputs": [],
   "source": [
    "db.create_all()"
   ]
  },
  {
   "cell_type": "code",
   "execution_count": 3,
   "metadata": {},
   "outputs": [
    {
     "data": {
      "text/plain": [
       "Campaign(id:0, 'hourly' is active:True, start:2021-12-05 13:00:00, end:2099-01-01 00:00:00, interval:1:00:00)"
      ]
     },
     "execution_count": 3,
     "metadata": {},
     "output_type": "execute_result"
    }
   ],
   "source": [
    "t = dt.datetime.now()    \n",
    "next_hour = t.replace(second=0, microsecond=0, minute=0, hour=t.hour+1)\n",
    "hourly = Campaign(id=0, title=\"hourly\", start=next_hour, end=dt.datetime(2099,1,1), interval=dt.timedelta(seconds=3600))\n",
    "db.session.add(hourly)\n",
    "db.session.commit()\n",
    "hourly"
   ]
  },
  {
   "cell_type": "markdown",
   "metadata": {},
   "source": [
    "## query"
   ]
  },
  {
   "cell_type": "code",
   "execution_count": 2,
   "metadata": {},
   "outputs": [
    {
     "data": {
      "text/plain": [
       "[Campaign(id:0, 'hourly' is active:True, start:2021-12-05 13:00:00, end:2099-01-01 00:00:00, interval:1:00:00),\n",
       " Campaign(id:1, 'understand the light' is active:True, start:2021-12-05 12:54:00, end:2021-12-12 12:54:00, interval:0:00:30)]"
      ]
     },
     "execution_count": 2,
     "metadata": {},
     "output_type": "execute_result"
    }
   ],
   "source": [
    "Campaign.query.all()"
   ]
  },
  {
   "cell_type": "code",
   "execution_count": 3,
   "metadata": {},
   "outputs": [
    {
     "data": {
      "text/plain": [
       "[Campaign(id:0, 'hourly' is active:True, start:2021-12-05 13:00:00, end:2099-01-01 00:00:00, interval:1:00:00),\n",
       " Campaign(id:1, 'understand the light' is active:True, start:2021-12-05 12:54:00, end:2021-12-12 12:54:00, interval:0:00:30)]"
      ]
     },
     "execution_count": 3,
     "metadata": {},
     "output_type": "execute_result"
    }
   ],
   "source": [
    "Campaign.query.filter(Campaign.is_active==True).all()"
   ]
  },
  {
   "cell_type": "code",
   "execution_count": 5,
   "metadata": {},
   "outputs": [
    {
     "data": {
      "text/plain": [
       "[Campaign(id:0, 'hourly' is active:True, start:2021-12-05 13:00:00, end:2099-01-01 00:00:00, interval:1:00:00),\n",
       " Campaign(id:1, 'understand the light' is active:True, start:2021-12-05 12:54:00, end:2021-12-12 12:54:00, interval:0:00:30)]"
      ]
     },
     "execution_count": 5,
     "metadata": {},
     "output_type": "execute_result"
    }
   ],
   "source": [
    "now = dt.datetime.now()\n",
    "cmps = Campaign.query.filter(Campaign.is_active==True).filter(Campaign.end > now).all()\n",
    "cmps"
   ]
  },
  {
   "cell_type": "code",
   "execution_count": 6,
   "metadata": {},
   "outputs": [
    {
     "data": {
      "text/plain": [
       "[Campaign(id:0, 'hourly' is active:True, start:2021-12-05 13:00:00, end:2099-01-01 00:00:00, interval:1:00:00),\n",
       " Campaign(id:1, 'understand the light' is active:True, start:2021-12-05 12:54:00, end:2021-12-12 12:54:00, interval:0:00:30)]"
      ]
     },
     "execution_count": 6,
     "metadata": {},
     "output_type": "execute_result"
    }
   ],
   "source": [
    "cmps"
   ]
  },
  {
   "cell_type": "code",
   "execution_count": 94,
   "metadata": {},
   "outputs": [],
   "source": [
    "def get_next_capture(cmps):\n",
    "    \"\"\"\n",
    "    Returns <dict> of for the next capture, with two items:\n",
    "        \"sleeptime\": time <float> in seconds to sleep until this capture\n",
    "        \"campain\": campaign <Campaign> of the next captur\n",
    "\n",
    "    Args:\n",
    "        cmps <list>: List of campaigns <Campaign>\n",
    "    \"\"\"\n",
    "    pending = {}   # pending captures with <timedelta> keys and <int> index values\n",
    "    now = dt.datetime.now()\n",
    "    for idx, cmp in enumerate(cmps):\n",
    "        # Overdue detection for immidiate capture\n",
    "        overdue = False\n",
    "        if now > cmp.start:\n",
    "            if cmp.previous is None:\n",
    "                overdue = True\n",
    "            else:\n",
    "                next = cmp.previous + cmp.interval\n",
    "                print(\"next:\", next)\n",
    "                if now >= next:\n",
    "                    overdue = True\n",
    "                    \n",
    "        if overdue:\n",
    "            return {\"sleeptime\": 0, \"campaign\": cmp}\n",
    "        \n",
    "        if now <= cmp.start:  # case: start time in the future\n",
    "            next_capture = cmp.start\n",
    "        else:  # case: ongoing campaign\n",
    "            next_capture = cmp.previous + cmp.interval\n",
    "        seconds_until_capture = max((next_capture - now) / dt.timedelta(seconds=1.0), 0.0) \n",
    "        print(\"next_capture:\", next_capture, seconds_until_capture)\n",
    "        pending[seconds_until_capture] = cmp\n",
    "            \n",
    "    print(\"todo: realign seconds function\")\n",
    "\n",
    "    print(\"pending:\")\n",
    "    for item in pending.items():\n",
    "        print(\"-\", item)\n",
    "    min_sleeptime, next_cmp = sorted(pending.items())[0]\n",
    "    return {\"sleeptime\": min_sleeptime, \"campaign\": next_cmp}\n",
    "    \n"
   ]
  },
  {
   "cell_type": "code",
   "execution_count": 95,
   "metadata": {},
   "outputs": [
    {
     "data": {
      "text/plain": [
       "{'sleeptime': 0,\n",
       " 'campaign': Campaign(id:0, 'hourly' is active:True, start:2021-12-05 13:00:00, end:2099-01-01 00:00:00, interval:1:00:00)}"
      ]
     },
     "execution_count": 95,
     "metadata": {},
     "output_type": "execute_result"
    }
   ],
   "source": [
    "get_next_capture(cmps)"
   ]
  },
  {
   "cell_type": "code",
   "execution_count": 96,
   "metadata": {},
   "outputs": [],
   "source": [
    "testvector = [Campaign(title=\"T1\", is_active=True, start=dt.datetime(2021,12,6), end=dt.datetime(2099,1,1), previous=None, interval=dt.timedelta(seconds=3600)), \n",
    "              Campaign(title=\"T2\", is_active=True, start=dt.datetime(2021,12,5), end=dt.datetime(2099,1,1), previous=dt.datetime(2021,12,5,21), interval=dt.timedelta(seconds=3600)), \n",
    "              Campaign(title=\"T3\", is_active=True, start=dt.datetime(2021,12,8), end=dt.datetime(2099,1,1), previous=None, interval=dt.timedelta(seconds=3600)), \n",
    "              ]"
   ]
  },
  {
   "cell_type": "code",
   "execution_count": 97,
   "metadata": {},
   "outputs": [
    {
     "name": "stdout",
     "output_type": "stream",
     "text": [
      "next_capture: 2021-12-06 00:00:00 9199.99196\n",
      "next: 2021-12-05 22:00:00\n",
      "next_capture: 2021-12-05 22:00:00 1999.99196\n",
      "next_capture: 2021-12-08 00:00:00 181999.99196\n",
      "todo: realign seconds function\n",
      "pending:\n",
      "- (9199.99196, Campaign(id:None, 'T1' is active:True, start:2021-12-06 00:00:00, end:2099-01-01 00:00:00, interval:1:00:00))\n",
      "- (1999.99196, Campaign(id:None, 'T2' is active:True, start:2021-12-05 00:00:00, end:2099-01-01 00:00:00, interval:1:00:00))\n",
      "- (181999.99196, Campaign(id:None, 'T3' is active:True, start:2021-12-08 00:00:00, end:2099-01-01 00:00:00, interval:1:00:00))\n"
     ]
    },
    {
     "data": {
      "text/plain": [
       "{'sleeptime': 1999.99196,\n",
       " 'campaign': Campaign(id:None, 'T2' is active:True, start:2021-12-05 00:00:00, end:2099-01-01 00:00:00, interval:1:00:00)}"
      ]
     },
     "execution_count": 97,
     "metadata": {},
     "output_type": "execute_result"
    }
   ],
   "source": [
    "get_next_capture(testvector)"
   ]
  },
  {
   "cell_type": "code",
   "execution_count": null,
   "metadata": {},
   "outputs": [],
   "source": []
  }
 ],
 "metadata": {
  "interpreter": {
   "hash": "4d920ee986183d6d7daed30b43bccfc4321a328276a83b3c8276323f0c218bd5"
  },
  "kernelspec": {
   "display_name": "Python 3.9.7 64-bit ('flask_env': conda)",
   "language": "python",
   "name": "python3"
  },
  "language_info": {
   "codemirror_mode": {
    "name": "ipython",
    "version": 3
   },
   "file_extension": ".py",
   "mimetype": "text/x-python",
   "name": "python",
   "nbconvert_exporter": "python",
   "pygments_lexer": "ipython3",
   "version": "3.9.7"
  },
  "orig_nbformat": 4
 },
 "nbformat": 4,
 "nbformat_minor": 2
}
