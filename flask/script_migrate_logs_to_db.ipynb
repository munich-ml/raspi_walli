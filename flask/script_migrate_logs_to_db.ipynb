{
 "cells": [
  {
   "cell_type": "markdown",
   "metadata": {},
   "source": [
    "# Data Migration \n",
    "Before using the database, logdata was storted to csv files into the `logs` directory. This Notebook creates a sqlite database `site.db` and writes the logdata to that file."
   ]
  },
  {
   "cell_type": "code",
   "execution_count": null,
   "metadata": {},
   "outputs": [],
   "source": [
    "import os\n",
    "import pandas as pd\n",
    "import datetime as dt\n",
    "import matplotlib.pyplot as plt\n",
    "from app import db, WalliStat, Campaign"
   ]
  },
  {
   "cell_type": "code",
   "execution_count": null,
   "metadata": {},
   "outputs": [],
   "source": [
    "db.create_all()"
   ]
  },
  {
   "cell_type": "code",
   "execution_count": null,
   "metadata": {},
   "outputs": [],
   "source": [
    "t = dt.datetime.now()    \n",
    "next_hour = t.replace(second=0, microsecond=0, minute=0, hour=t.hour+1)\n",
    "hourly = Campaign(id=0, title=\"hourly\", start=next_hour, end=dt.datetime(2050, 1, 1),\n",
    "                  interval=dt.timedelta(seconds=3600))\n",
    "hourly"
   ]
  },
  {
   "cell_type": "code",
   "execution_count": null,
   "metadata": {},
   "outputs": [],
   "source": [
    "db.session.add(hourly)\n",
    "db.session.commit()"
   ]
  },
  {
   "cell_type": "code",
   "execution_count": null,
   "metadata": {},
   "outputs": [],
   "source": [
    "path_ = os.path.join(\"..\", \"logs\")\n",
    "for fn in os.listdir(path_):\n",
    "    if fn.startswith(\"raw_2\"):\n",
    "        date_str = fn.split(\".\")[0].split(\"_\")[1]\n",
    "        df = pd.read_csv(os.path.join(path_, fn))\n",
    "        df[\"datetime\"] = [pd.to_datetime(date_str + \" \" + t).to_pydatetime() for t in df[\"time\"]]\n",
    "        dscr = df[\"datetime\"].describe()\n",
    "        print(fn, dscr[\"count\"], dscr[\"first\"], dscr[\"last\"])"
   ]
  },
  {
   "cell_type": "markdown",
   "metadata": {},
   "source": [
    "## Try resampling on one example logfile"
   ]
  },
  {
   "cell_type": "code",
   "execution_count": null,
   "metadata": {},
   "outputs": [],
   "source": [
    "fn = \"raw_2021-10-07.csv\"\n",
    "date_str = fn.split(\".\")[0].split(\"_\")[1]\n",
    "df = pd.read_csv(os.path.join(\"..\", \"logs\", fn))\n",
    "df[\"datetime\"] = [pd.to_datetime(date_str + \" \" + t).to_pydatetime() for t in df[\"time\"]]\n",
    "df.head()"
   ]
  },
  {
   "cell_type": "code",
   "execution_count": null,
   "metadata": {},
   "outputs": [],
   "source": [
    "lowres = df.set_index(\"datetime\").resample(dt.timedelta(seconds=3600)).first()\n",
    "lowres.shape"
   ]
  },
  {
   "cell_type": "code",
   "execution_count": null,
   "metadata": {},
   "outputs": [],
   "source": [
    "plt.figure(figsize=(13,5))\n",
    "plt.plot(df[\"datetime\"], df[\"Temp\"])\n",
    "plt.plot(lowres.index, lowres[\"Temp\"], \"o\")\n",
    "plt.grid();"
   ]
  },
  {
   "cell_type": "markdown",
   "metadata": {},
   "source": [
    "## Resample on all logfiles"
   ]
  },
  {
   "cell_type": "code",
   "execution_count": null,
   "metadata": {},
   "outputs": [],
   "source": [
    "highres = pd.DataFrame()\n",
    "path_ = os.path.join(\"..\", \"logs\")\n",
    "for fn in os.listdir(path_):\n",
    "    if fn.startswith(\"raw_2\"):\n",
    "        print(\".\", end=\"\")\n",
    "        date_str = fn.split(\".\")[0].split(\"_\")[1]\n",
    "        df = pd.read_csv(os.path.join(path_, fn))\n",
    "        df[\"datetime\"] = [pd.to_datetime(date_str + \" \" + t).to_pydatetime() for t in df[\"time\"]]\n",
    "        df.drop(\"time\", axis=1, inplace=True)\n",
    "        highres = pd.concat([highres, df], ignore_index=True)\n",
    "highres.shape"
   ]
  },
  {
   "cell_type": "code",
   "execution_count": null,
   "metadata": {},
   "outputs": [],
   "source": [
    "highres.set_index(\"datetime\", inplace=True)\n",
    "highres.shape\n"
   ]
  },
  {
   "cell_type": "code",
   "execution_count": null,
   "metadata": {},
   "outputs": [],
   "source": [
    "lowres = highres.resample(dt.timedelta(seconds=3600)).first()\n",
    "lowres.shape"
   ]
  },
  {
   "cell_type": "markdown",
   "metadata": {},
   "source": [
    "Some plausibility plots"
   ]
  },
  {
   "cell_type": "code",
   "execution_count": null,
   "metadata": {},
   "outputs": [],
   "source": [
    "plt.figure(figsize=(20,5))\n",
    "plt.plot(lowres.index, lowres[\"Temp\"]/10., label=\"Temp [°C]\")\n",
    "plt.plot(lowres.index, lowres[\"P\"]/1000., label=\"Power [KW]\")\n",
    "plt.grid(), plt.legend(), plt.tight_layout();"
   ]
  },
  {
   "cell_type": "code",
   "execution_count": null,
   "metadata": {},
   "outputs": [],
   "source": [
    "lowres[\"P\"].plot(figsize=(20,4));"
   ]
  },
  {
   "cell_type": "code",
   "execution_count": null,
   "metadata": {},
   "outputs": [],
   "source": [
    "lowres[[\"V_L1\", \"V_L2\", \"V_L3\"]].plot(figsize=(20,4));"
   ]
  },
  {
   "cell_type": "code",
   "execution_count": null,
   "metadata": {},
   "outputs": [],
   "source": [
    "lowres.charge_state.value_counts()"
   ]
  },
  {
   "cell_type": "markdown",
   "metadata": {},
   "source": [
    "## Write lowres data to database ``site.db``"
   ]
  },
  {
   "cell_type": "code",
   "execution_count": null,
   "metadata": {},
   "outputs": [],
   "source": [
    "for index, row in lowres.reset_index().iterrows():\n",
    "    row[\"campaign_id\"] = 0   # hourly campaign\n",
    "    ws = WalliStat.from_series(row)\n",
    "    db.session.add(ws)\n",
    "db.session.commit()"
   ]
  },
  {
   "cell_type": "code",
   "execution_count": null,
   "metadata": {},
   "outputs": [],
   "source": [
    "ws"
   ]
  },
  {
   "cell_type": "code",
   "execution_count": null,
   "metadata": {},
   "outputs": [],
   "source": []
  }
 ],
 "metadata": {
  "interpreter": {
   "hash": "4d920ee986183d6d7daed30b43bccfc4321a328276a83b3c8276323f0c218bd5"
  },
  "kernelspec": {
   "display_name": "Python 3.9.7 64-bit ('flask_env': conda)",
   "name": "python3"
  },
  "language_info": {
   "codemirror_mode": {
    "name": "ipython",
    "version": 3
   },
   "file_extension": ".py",
   "mimetype": "text/x-python",
   "name": "python",
   "nbconvert_exporter": "python",
   "pygments_lexer": "ipython3",
   "version": "3.9.7"
  }
 },
 "nbformat": 4,
 "nbformat_minor": 2
}
