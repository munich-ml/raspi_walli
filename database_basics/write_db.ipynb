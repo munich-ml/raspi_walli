{
 "cells": [
  {
   "cell_type": "markdown",
   "metadata": {},
   "source": [
    "# `flask_sqlalchemy` Tutorial\n",
    "## Part 1/2, Create the database"
   ]
  },
  {
   "cell_type": "code",
   "execution_count": 21,
   "metadata": {},
   "outputs": [],
   "source": [
    "import pandas as pd\n",
    "import datetime as dt\n",
    "from database_app import db, WalliStat, Campaign"
   ]
  },
  {
   "cell_type": "code",
   "execution_count": 22,
   "metadata": {},
   "outputs": [],
   "source": [
    "db.create_all()"
   ]
  },
  {
   "cell_type": "markdown",
   "metadata": {},
   "source": [
    "## Create a Campaign\n",
    "The default `hourly` Campaign starts the next full hour using the `id=0`"
   ]
  },
  {
   "cell_type": "code",
   "execution_count": 23,
   "metadata": {},
   "outputs": [
    {
     "data": {
      "text/plain": [
       "Campaign(id:0, 'hourly' is active:None, start:2022-01-04 21:00:00, end:None, interval:1:00:00)"
      ]
     },
     "execution_count": 23,
     "metadata": {},
     "output_type": "execute_result"
    }
   ],
   "source": [
    "t = dt.datetime.now()    \n",
    "next_hour = t.replace(second=0, microsecond=0, minute=0, hour=t.hour+1)\n",
    "hourly = Campaign(id=0, title=\"hourly\", start=next_hour, interval=dt.timedelta(seconds=3600))\n",
    "hourly"
   ]
  },
  {
   "cell_type": "code",
   "execution_count": 24,
   "metadata": {},
   "outputs": [
    {
     "ename": "PendingRollbackError",
     "evalue": "This Session's transaction has been rolled back due to a previous exception during flush. To begin a new transaction with this Session, first issue Session.rollback(). Original exception was: (sqlite3.OperationalError) database is locked\n[SQL: INSERT INTO campaign (id, title, is_active, start, previous, \"end\", interval, measure_walli, measure_light) VALUES (?, ?, ?, ?, ?, ?, ?, ?, ?)]\n[parameters: (0, 'hourly', 1, '2022-01-04 21:00:00.000000', None, None, '1970-01-01 01:00:00.000000', 1, 1)]\n(Background on this error at: http://sqlalche.me/e/14/e3q8) (Background on this error at: http://sqlalche.me/e/14/7s2a)",
     "output_type": "error",
     "traceback": [
      "\u001b[1;31m---------------------------------------------------------------------------\u001b[0m",
      "\u001b[1;31mPendingRollbackError\u001b[0m                      Traceback (most recent call last)",
      "\u001b[1;32m~\\AppData\\Local\\Temp/ipykernel_18564/770639423.py\u001b[0m in \u001b[0;36m<module>\u001b[1;34m\u001b[0m\n\u001b[0;32m      1\u001b[0m \u001b[0mdb\u001b[0m\u001b[1;33m.\u001b[0m\u001b[0msession\u001b[0m\u001b[1;33m.\u001b[0m\u001b[0madd\u001b[0m\u001b[1;33m(\u001b[0m\u001b[0mhourly\u001b[0m\u001b[1;33m)\u001b[0m\u001b[1;33m\u001b[0m\u001b[1;33m\u001b[0m\u001b[0m\n\u001b[1;32m----> 2\u001b[1;33m \u001b[0mdb\u001b[0m\u001b[1;33m.\u001b[0m\u001b[0msession\u001b[0m\u001b[1;33m.\u001b[0m\u001b[0mcommit\u001b[0m\u001b[1;33m(\u001b[0m\u001b[1;33m)\u001b[0m\u001b[1;33m\u001b[0m\u001b[1;33m\u001b[0m\u001b[0m\n\u001b[0m",
      "\u001b[1;32m<string>\u001b[0m in \u001b[0;36mcommit\u001b[1;34m(self)\u001b[0m\n",
      "\u001b[1;32mC:\\ProgramData\\Anaconda3\\envs\\flask_env\\lib\\site-packages\\sqlalchemy\\orm\\session.py\u001b[0m in \u001b[0;36mcommit\u001b[1;34m(self)\u001b[0m\n\u001b[0;32m   1413\u001b[0m                 \u001b[1;32mraise\u001b[0m \u001b[0msa_exc\u001b[0m\u001b[1;33m.\u001b[0m\u001b[0mInvalidRequestError\u001b[0m\u001b[1;33m(\u001b[0m\u001b[1;34m\"No transaction is begun.\"\u001b[0m\u001b[1;33m)\u001b[0m\u001b[1;33m\u001b[0m\u001b[1;33m\u001b[0m\u001b[0m\n\u001b[0;32m   1414\u001b[0m \u001b[1;33m\u001b[0m\u001b[0m\n\u001b[1;32m-> 1415\u001b[1;33m         \u001b[0mself\u001b[0m\u001b[1;33m.\u001b[0m\u001b[0m_transaction\u001b[0m\u001b[1;33m.\u001b[0m\u001b[0mcommit\u001b[0m\u001b[1;33m(\u001b[0m\u001b[0m_to_root\u001b[0m\u001b[1;33m=\u001b[0m\u001b[0mself\u001b[0m\u001b[1;33m.\u001b[0m\u001b[0mfuture\u001b[0m\u001b[1;33m)\u001b[0m\u001b[1;33m\u001b[0m\u001b[1;33m\u001b[0m\u001b[0m\n\u001b[0m\u001b[0;32m   1416\u001b[0m \u001b[1;33m\u001b[0m\u001b[0m\n\u001b[0;32m   1417\u001b[0m     \u001b[1;32mdef\u001b[0m \u001b[0mprepare\u001b[0m\u001b[1;33m(\u001b[0m\u001b[0mself\u001b[0m\u001b[1;33m)\u001b[0m\u001b[1;33m:\u001b[0m\u001b[1;33m\u001b[0m\u001b[1;33m\u001b[0m\u001b[0m\n",
      "\u001b[1;32mC:\\ProgramData\\Anaconda3\\envs\\flask_env\\lib\\site-packages\\sqlalchemy\\orm\\session.py\u001b[0m in \u001b[0;36mcommit\u001b[1;34m(self, _to_root)\u001b[0m\n\u001b[0;32m    825\u001b[0m \u001b[1;33m\u001b[0m\u001b[0m\n\u001b[0;32m    826\u001b[0m     \u001b[1;32mdef\u001b[0m \u001b[0mcommit\u001b[0m\u001b[1;33m(\u001b[0m\u001b[0mself\u001b[0m\u001b[1;33m,\u001b[0m \u001b[0m_to_root\u001b[0m\u001b[1;33m=\u001b[0m\u001b[1;32mFalse\u001b[0m\u001b[1;33m)\u001b[0m\u001b[1;33m:\u001b[0m\u001b[1;33m\u001b[0m\u001b[1;33m\u001b[0m\u001b[0m\n\u001b[1;32m--> 827\u001b[1;33m         \u001b[0mself\u001b[0m\u001b[1;33m.\u001b[0m\u001b[0m_assert_active\u001b[0m\u001b[1;33m(\u001b[0m\u001b[0mprepared_ok\u001b[0m\u001b[1;33m=\u001b[0m\u001b[1;32mTrue\u001b[0m\u001b[1;33m)\u001b[0m\u001b[1;33m\u001b[0m\u001b[1;33m\u001b[0m\u001b[0m\n\u001b[0m\u001b[0;32m    828\u001b[0m         \u001b[1;32mif\u001b[0m \u001b[0mself\u001b[0m\u001b[1;33m.\u001b[0m\u001b[0m_state\u001b[0m \u001b[1;32mis\u001b[0m \u001b[1;32mnot\u001b[0m \u001b[0mPREPARED\u001b[0m\u001b[1;33m:\u001b[0m\u001b[1;33m\u001b[0m\u001b[1;33m\u001b[0m\u001b[0m\n\u001b[0;32m    829\u001b[0m             \u001b[0mself\u001b[0m\u001b[1;33m.\u001b[0m\u001b[0m_prepare_impl\u001b[0m\u001b[1;33m(\u001b[0m\u001b[1;33m)\u001b[0m\u001b[1;33m\u001b[0m\u001b[1;33m\u001b[0m\u001b[0m\n",
      "\u001b[1;32mC:\\ProgramData\\Anaconda3\\envs\\flask_env\\lib\\site-packages\\sqlalchemy\\orm\\session.py\u001b[0m in \u001b[0;36m_assert_active\u001b[1;34m(self, prepared_ok, rollback_ok, deactive_ok, closed_msg)\u001b[0m\n\u001b[0;32m    599\u001b[0m             \u001b[1;32mif\u001b[0m \u001b[1;32mnot\u001b[0m \u001b[0mdeactive_ok\u001b[0m \u001b[1;32mand\u001b[0m \u001b[1;32mnot\u001b[0m \u001b[0mrollback_ok\u001b[0m\u001b[1;33m:\u001b[0m\u001b[1;33m\u001b[0m\u001b[1;33m\u001b[0m\u001b[0m\n\u001b[0;32m    600\u001b[0m                 \u001b[1;32mif\u001b[0m \u001b[0mself\u001b[0m\u001b[1;33m.\u001b[0m\u001b[0m_rollback_exception\u001b[0m\u001b[1;33m:\u001b[0m\u001b[1;33m\u001b[0m\u001b[1;33m\u001b[0m\u001b[0m\n\u001b[1;32m--> 601\u001b[1;33m                     raise sa_exc.PendingRollbackError(\n\u001b[0m\u001b[0;32m    602\u001b[0m                         \u001b[1;34m\"This Session's transaction has been rolled back \"\u001b[0m\u001b[1;33m\u001b[0m\u001b[1;33m\u001b[0m\u001b[0m\n\u001b[0;32m    603\u001b[0m                         \u001b[1;34m\"due to a previous exception during flush.\"\u001b[0m\u001b[1;33m\u001b[0m\u001b[1;33m\u001b[0m\u001b[0m\n",
      "\u001b[1;31mPendingRollbackError\u001b[0m: This Session's transaction has been rolled back due to a previous exception during flush. To begin a new transaction with this Session, first issue Session.rollback(). Original exception was: (sqlite3.OperationalError) database is locked\n[SQL: INSERT INTO campaign (id, title, is_active, start, previous, \"end\", interval, measure_walli, measure_light) VALUES (?, ?, ?, ?, ?, ?, ?, ?, ?)]\n[parameters: (0, 'hourly', 1, '2022-01-04 21:00:00.000000', None, None, '1970-01-01 01:00:00.000000', 1, 1)]\n(Background on this error at: http://sqlalche.me/e/14/e3q8) (Background on this error at: http://sqlalche.me/e/14/7s2a)"
     ]
    }
   ],
   "source": [
    "db.session.add(hourly)\n",
    "db.session.commit()"
   ]
  },
  {
   "cell_type": "markdown",
   "metadata": {},
   "source": [
    "## Commit WalliStats from .csv-file\n",
    "use the default Campaign: `hourly`"
   ]
  },
  {
   "cell_type": "code",
   "execution_count": null,
   "metadata": {},
   "outputs": [
    {
     "data": {
      "text/plain": [
       "0"
      ]
     },
     "execution_count": 5,
     "metadata": {},
     "output_type": "execute_result"
    }
   ],
   "source": [
    "hourly.id"
   ]
  },
  {
   "cell_type": "code",
   "execution_count": null,
   "metadata": {},
   "outputs": [
    {
     "data": {
      "text/html": [
       "<div>\n",
       "<style scoped>\n",
       "    .dataframe tbody tr th:only-of-type {\n",
       "        vertical-align: middle;\n",
       "    }\n",
       "\n",
       "    .dataframe tbody tr th {\n",
       "        vertical-align: top;\n",
       "    }\n",
       "\n",
       "    .dataframe thead th {\n",
       "        text-align: right;\n",
       "    }\n",
       "</style>\n",
       "<table border=\"1\" class=\"dataframe\">\n",
       "  <thead>\n",
       "    <tr style=\"text-align: right;\">\n",
       "      <th></th>\n",
       "      <th>time</th>\n",
       "      <th>ver</th>\n",
       "      <th>charge_state</th>\n",
       "      <th>I_L1</th>\n",
       "      <th>I_L2</th>\n",
       "      <th>I_L3</th>\n",
       "      <th>Temp</th>\n",
       "      <th>V_L1</th>\n",
       "      <th>V_L2</th>\n",
       "      <th>V_L3</th>\n",
       "      <th>...</th>\n",
       "      <th>E_cyc_lb</th>\n",
       "      <th>E_hb</th>\n",
       "      <th>E_lb</th>\n",
       "      <th>I_max</th>\n",
       "      <th>I_min</th>\n",
       "      <th>watchdog</th>\n",
       "      <th>standby</th>\n",
       "      <th>remote_lock</th>\n",
       "      <th>max_I_cmd</th>\n",
       "      <th>FailSafe_I</th>\n",
       "    </tr>\n",
       "  </thead>\n",
       "  <tbody>\n",
       "    <tr>\n",
       "      <th>0</th>\n",
       "      <td>01:01:53</td>\n",
       "      <td>264</td>\n",
       "      <td>4</td>\n",
       "      <td>0</td>\n",
       "      <td>0</td>\n",
       "      <td>0</td>\n",
       "      <td>275</td>\n",
       "      <td>238</td>\n",
       "      <td>236</td>\n",
       "      <td>240</td>\n",
       "      <td>...</td>\n",
       "      <td>0</td>\n",
       "      <td>2</td>\n",
       "      <td>49607</td>\n",
       "      <td>10</td>\n",
       "      <td>6</td>\n",
       "      <td>15000</td>\n",
       "      <td>4</td>\n",
       "      <td>1</td>\n",
       "      <td>0</td>\n",
       "      <td>10</td>\n",
       "    </tr>\n",
       "    <tr>\n",
       "      <th>1</th>\n",
       "      <td>01:01:58</td>\n",
       "      <td>264</td>\n",
       "      <td>4</td>\n",
       "      <td>0</td>\n",
       "      <td>0</td>\n",
       "      <td>0</td>\n",
       "      <td>275</td>\n",
       "      <td>238</td>\n",
       "      <td>236</td>\n",
       "      <td>240</td>\n",
       "      <td>...</td>\n",
       "      <td>0</td>\n",
       "      <td>2</td>\n",
       "      <td>49607</td>\n",
       "      <td>10</td>\n",
       "      <td>6</td>\n",
       "      <td>15000</td>\n",
       "      <td>4</td>\n",
       "      <td>1</td>\n",
       "      <td>0</td>\n",
       "      <td>10</td>\n",
       "    </tr>\n",
       "    <tr>\n",
       "      <th>2</th>\n",
       "      <td>01:02:15</td>\n",
       "      <td>264</td>\n",
       "      <td>5</td>\n",
       "      <td>0</td>\n",
       "      <td>0</td>\n",
       "      <td>0</td>\n",
       "      <td>275</td>\n",
       "      <td>237</td>\n",
       "      <td>236</td>\n",
       "      <td>240</td>\n",
       "      <td>...</td>\n",
       "      <td>0</td>\n",
       "      <td>2</td>\n",
       "      <td>49607</td>\n",
       "      <td>10</td>\n",
       "      <td>6</td>\n",
       "      <td>15000</td>\n",
       "      <td>4</td>\n",
       "      <td>1</td>\n",
       "      <td>100</td>\n",
       "      <td>10</td>\n",
       "    </tr>\n",
       "    <tr>\n",
       "      <th>3</th>\n",
       "      <td>01:02:20</td>\n",
       "      <td>264</td>\n",
       "      <td>7</td>\n",
       "      <td>0</td>\n",
       "      <td>0</td>\n",
       "      <td>0</td>\n",
       "      <td>275</td>\n",
       "      <td>237</td>\n",
       "      <td>236</td>\n",
       "      <td>240</td>\n",
       "      <td>...</td>\n",
       "      <td>0</td>\n",
       "      <td>2</td>\n",
       "      <td>49607</td>\n",
       "      <td>10</td>\n",
       "      <td>6</td>\n",
       "      <td>15000</td>\n",
       "      <td>4</td>\n",
       "      <td>1</td>\n",
       "      <td>100</td>\n",
       "      <td>10</td>\n",
       "    </tr>\n",
       "    <tr>\n",
       "      <th>4</th>\n",
       "      <td>01:02:25</td>\n",
       "      <td>264</td>\n",
       "      <td>7</td>\n",
       "      <td>0</td>\n",
       "      <td>0</td>\n",
       "      <td>22</td>\n",
       "      <td>275</td>\n",
       "      <td>238</td>\n",
       "      <td>236</td>\n",
       "      <td>240</td>\n",
       "      <td>...</td>\n",
       "      <td>0</td>\n",
       "      <td>2</td>\n",
       "      <td>49607</td>\n",
       "      <td>10</td>\n",
       "      <td>6</td>\n",
       "      <td>15000</td>\n",
       "      <td>4</td>\n",
       "      <td>1</td>\n",
       "      <td>100</td>\n",
       "      <td>10</td>\n",
       "    </tr>\n",
       "    <tr>\n",
       "      <th>5</th>\n",
       "      <td>01:02:30</td>\n",
       "      <td>264</td>\n",
       "      <td>7</td>\n",
       "      <td>53</td>\n",
       "      <td>0</td>\n",
       "      <td>15</td>\n",
       "      <td>275</td>\n",
       "      <td>237</td>\n",
       "      <td>236</td>\n",
       "      <td>240</td>\n",
       "      <td>...</td>\n",
       "      <td>0</td>\n",
       "      <td>2</td>\n",
       "      <td>49607</td>\n",
       "      <td>10</td>\n",
       "      <td>6</td>\n",
       "      <td>15000</td>\n",
       "      <td>4</td>\n",
       "      <td>1</td>\n",
       "      <td>100</td>\n",
       "      <td>10</td>\n",
       "    </tr>\n",
       "    <tr>\n",
       "      <th>6</th>\n",
       "      <td>01:02:36</td>\n",
       "      <td>264</td>\n",
       "      <td>7</td>\n",
       "      <td>85</td>\n",
       "      <td>69</td>\n",
       "      <td>92</td>\n",
       "      <td>275</td>\n",
       "      <td>236</td>\n",
       "      <td>235</td>\n",
       "      <td>238</td>\n",
       "      <td>...</td>\n",
       "      <td>5</td>\n",
       "      <td>2</td>\n",
       "      <td>49612</td>\n",
       "      <td>10</td>\n",
       "      <td>6</td>\n",
       "      <td>15000</td>\n",
       "      <td>4</td>\n",
       "      <td>1</td>\n",
       "      <td>100</td>\n",
       "      <td>10</td>\n",
       "    </tr>\n",
       "  </tbody>\n",
       "</table>\n",
       "<p>7 rows × 23 columns</p>\n",
       "</div>"
      ],
      "text/plain": [
       "       time  ver  charge_state  I_L1  I_L2  I_L3  Temp  V_L1  V_L2  V_L3  ...  \\\n",
       "0  01:01:53  264             4     0     0     0   275   238   236   240  ...   \n",
       "1  01:01:58  264             4     0     0     0   275   238   236   240  ...   \n",
       "2  01:02:15  264             5     0     0     0   275   237   236   240  ...   \n",
       "3  01:02:20  264             7     0     0     0   275   237   236   240  ...   \n",
       "4  01:02:25  264             7     0     0    22   275   238   236   240  ...   \n",
       "5  01:02:30  264             7    53     0    15   275   237   236   240  ...   \n",
       "6  01:02:36  264             7    85    69    92   275   236   235   238  ...   \n",
       "\n",
       "   E_cyc_lb  E_hb   E_lb  I_max  I_min  watchdog  standby  remote_lock  \\\n",
       "0         0     2  49607     10      6     15000        4            1   \n",
       "1         0     2  49607     10      6     15000        4            1   \n",
       "2         0     2  49607     10      6     15000        4            1   \n",
       "3         0     2  49607     10      6     15000        4            1   \n",
       "4         0     2  49607     10      6     15000        4            1   \n",
       "5         0     2  49607     10      6     15000        4            1   \n",
       "6         5     2  49612     10      6     15000        4            1   \n",
       "\n",
       "   max_I_cmd  FailSafe_I  \n",
       "0          0          10  \n",
       "1          0          10  \n",
       "2        100          10  \n",
       "3        100          10  \n",
       "4        100          10  \n",
       "5        100          10  \n",
       "6        100          10  \n",
       "\n",
       "[7 rows x 23 columns]"
      ]
     },
     "execution_count": 6,
     "metadata": {},
     "output_type": "execute_result"
    }
   ],
   "source": [
    "fn = \"ExampleData_2021-07-25.csv\"\n",
    "date_str = fn.split(\".\")[0].split(\"_\")[1]\n",
    "df = pd.read_csv(fn)\n",
    "df.head(7)"
   ]
  },
  {
   "cell_type": "code",
   "execution_count": null,
   "metadata": {},
   "outputs": [],
   "source": [
    "for index, row in df.head(6).iterrows():\n",
    "    ws = WalliStat(datetime=pd.to_datetime(date_str + \" \" + row.time).to_pydatetime(), \n",
    "                   Temp=row.Temp/10., \n",
    "                   Power=row.P,\n",
    "                   campaign_id=hourly.id)\n",
    "    db.session.add(ws)\n",
    "db.session.commit()"
   ]
  },
  {
   "cell_type": "code",
   "execution_count": null,
   "metadata": {},
   "outputs": [],
   "source": [
    "#db.session.query(Campaign).filter(Campaign.id==campaign.id).update({\"previous\": now})"
   ]
  },
  {
   "cell_type": "code",
   "execution_count": null,
   "metadata": {},
   "outputs": [
    {
     "data": {
      "text/plain": [
       "6"
      ]
     },
     "execution_count": 9,
     "metadata": {},
     "output_type": "execute_result"
    }
   ],
   "source": [
    "db.session.query(WalliStat).filter(WalliStat.Temp>1).update({\"Power\": 22})"
   ]
  },
  {
   "cell_type": "code",
   "execution_count": null,
   "metadata": {},
   "outputs": [
    {
     "data": {
      "text/plain": [
       "[WalliStat(id:1-->campaign.id:0, 2021-07-25 01:01:53: 27.5°C, 22W),\n",
       " WalliStat(id:2-->campaign.id:0, 2021-07-25 01:01:58: 27.5°C, 22W),\n",
       " WalliStat(id:3-->campaign.id:0, 2021-07-25 01:02:15: 27.5°C, 22W),\n",
       " WalliStat(id:4-->campaign.id:0, 2021-07-25 01:02:20: 27.5°C, 22W),\n",
       " WalliStat(id:5-->campaign.id:0, 2021-07-25 01:02:25: 27.5°C, 22W),\n",
       " WalliStat(id:6-->campaign.id:0, 2021-07-25 01:02:30: 27.5°C, 22W)]"
      ]
     },
     "execution_count": 10,
     "metadata": {},
     "output_type": "execute_result"
    }
   ],
   "source": [
    "db.session.query(WalliStat).filter(WalliStat.Temp>1).all()"
   ]
  },
  {
   "cell_type": "markdown",
   "metadata": {},
   "source": [
    "## Create a second Campaign"
   ]
  },
  {
   "cell_type": "code",
   "execution_count": null,
   "metadata": {},
   "outputs": [],
   "source": [
    "campaign1 = Campaign(title=\"High frequency polling for error checking.\", start=dt.datetime.now(), end=dt.datetime.now()+dt.timedelta(days=1), interval=dt.timedelta(seconds=1))\n",
    "db.session.add(campaign1)\n",
    "db.session.commit()"
   ]
  },
  {
   "cell_type": "code",
   "execution_count": null,
   "metadata": {},
   "outputs": [
    {
     "data": {
      "text/plain": [
       "[Campaign(id:0, 'hourly' is active:True, start:2022-01-04 21:00:00, end:None, interval:1:00:00),\n",
       " Campaign(id:1, 'High frequency polling for error checking.' is active:True, start:2022-01-04 20:28:33.830452, end:2022-01-05 20:28:33.830452, interval:0:00:01)]"
      ]
     },
     "execution_count": 12,
     "metadata": {},
     "output_type": "execute_result"
    }
   ],
   "source": [
    "Campaign.query.all()"
   ]
  },
  {
   "cell_type": "code",
   "execution_count": null,
   "metadata": {},
   "outputs": [
    {
     "data": {
      "text/plain": [
       "{'_sa_instance_state': <sqlalchemy.orm.state.InstanceState at 0x1c21bea6af0>,\n",
       " 'title': 'High frequency polling for error checking.',\n",
       " 'start': datetime.datetime(2022, 1, 4, 20, 28, 33, 830452),\n",
       " 'end': datetime.datetime(2022, 1, 5, 20, 28, 33, 830452),\n",
       " 'interval': datetime.timedelta(seconds=1),\n",
       " 'measure_light': True,\n",
       " 'id': 1,\n",
       " 'is_active': True,\n",
       " 'previous': None,\n",
       " 'measure_walli': True}"
      ]
     },
     "execution_count": 13,
     "metadata": {},
     "output_type": "execute_result"
    }
   ],
   "source": [
    "vars(campaign1)"
   ]
  },
  {
   "cell_type": "markdown",
   "metadata": {},
   "source": [
    "## Commit WalliStats to the new Campaign\n",
    "This time, use the `campaign` attribute. Note this hasn't even been defined within the ``database_app.py`` Models."
   ]
  },
  {
   "cell_type": "code",
   "execution_count": null,
   "metadata": {},
   "outputs": [],
   "source": [
    "for index, row in df.tail(3).iterrows():\n",
    "    ws = WalliStat(datetime=pd.to_datetime(date_str + \" \" + row.time).to_pydatetime(), \n",
    "                   Temp=row.Temp/10., \n",
    "                   Power=row.P,\n",
    "                   campaign=campaign1)\n",
    "    db.session.add(ws)\n",
    "db.session.commit()"
   ]
  },
  {
   "cell_type": "code",
   "execution_count": null,
   "metadata": {},
   "outputs": [
    {
     "data": {
      "text/plain": [
       "[WalliStat(id:1-->campaign.id:0, 2021-07-25 01:01:53: 27.5°C, 22W),\n",
       " WalliStat(id:2-->campaign.id:0, 2021-07-25 01:01:58: 27.5°C, 22W),\n",
       " WalliStat(id:3-->campaign.id:0, 2021-07-25 01:02:15: 27.5°C, 22W),\n",
       " WalliStat(id:4-->campaign.id:0, 2021-07-25 01:02:20: 27.5°C, 22W),\n",
       " WalliStat(id:5-->campaign.id:0, 2021-07-25 01:02:25: 27.5°C, 22W),\n",
       " WalliStat(id:6-->campaign.id:0, 2021-07-25 01:02:30: 27.5°C, 22W),\n",
       " WalliStat(id:7-->campaign.id:1, 2021-07-25 10:23:31: 32.8°C, 0W),\n",
       " WalliStat(id:8-->campaign.id:1, 2021-07-25 10:23:36: 32.8°C, 0W),\n",
       " WalliStat(id:9-->campaign.id:1, 2021-07-25 10:23:41: 32.8°C, 0W)]"
      ]
     },
     "execution_count": 15,
     "metadata": {},
     "output_type": "execute_result"
    }
   ],
   "source": [
    "WalliStat.query.all()"
   ]
  },
  {
   "cell_type": "markdown",
   "metadata": {},
   "source": [
    "## Modify one value in the Database"
   ]
  },
  {
   "cell_type": "code",
   "execution_count": null,
   "metadata": {},
   "outputs": [],
   "source": [
    "db.session.query(WalliStat).filter(WalliStat.id == 4).update({\"Power\": 43})\n",
    "db.session.commit()"
   ]
  },
  {
   "cell_type": "code",
   "execution_count": null,
   "metadata": {},
   "outputs": [],
   "source": []
  }
 ],
 "metadata": {
  "interpreter": {
   "hash": "4d920ee986183d6d7daed30b43bccfc4321a328276a83b3c8276323f0c218bd5"
  },
  "kernelspec": {
   "display_name": "Python 3.9.7 64-bit ('flask_env': conda)",
   "name": "python3"
  },
  "language_info": {
   "codemirror_mode": {
    "name": "ipython",
    "version": 3
   },
   "file_extension": ".py",
   "mimetype": "text/x-python",
   "name": "python",
   "nbconvert_exporter": "python",
   "pygments_lexer": "ipython3",
   "version": "3.9.7"
  }
 },
 "nbformat": 4,
 "nbformat_minor": 2
}
