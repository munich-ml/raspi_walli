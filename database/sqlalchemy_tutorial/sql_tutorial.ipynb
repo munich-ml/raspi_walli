{
 "cells": [
  {
   "cell_type": "code",
   "execution_count": 34,
   "source": [
    "import os\r\n",
    "import pandas as pd\r\n",
    "import datetime as dt\r\n",
    "from flask import Flask\r\n",
    "from flask_sqlalchemy import SQLAlchemy"
   ],
   "outputs": [],
   "metadata": {}
  },
  {
   "cell_type": "code",
   "execution_count": 35,
   "source": [
    "fn = \"raw_2021-07-25.csv\"\r\n",
    "date_str = fn.split(\".\")[0].split(\"_\")[1]\r\n",
    "df = pd.read_csv(os.path.join(\"..\", \"..\", \"logs\", fn))\r\n",
    "df.tail()"
   ],
   "outputs": [
    {
     "output_type": "execute_result",
     "data": {
      "text/html": [
       "<div>\n",
       "<style scoped>\n",
       "    .dataframe tbody tr th:only-of-type {\n",
       "        vertical-align: middle;\n",
       "    }\n",
       "\n",
       "    .dataframe tbody tr th {\n",
       "        vertical-align: top;\n",
       "    }\n",
       "\n",
       "    .dataframe thead th {\n",
       "        text-align: right;\n",
       "    }\n",
       "</style>\n",
       "<table border=\"1\" class=\"dataframe\">\n",
       "  <thead>\n",
       "    <tr style=\"text-align: right;\">\n",
       "      <th></th>\n",
       "      <th>time</th>\n",
       "      <th>ver</th>\n",
       "      <th>charge_state</th>\n",
       "      <th>I_L1</th>\n",
       "      <th>I_L2</th>\n",
       "      <th>I_L3</th>\n",
       "      <th>Temp</th>\n",
       "      <th>V_L1</th>\n",
       "      <th>V_L2</th>\n",
       "      <th>V_L3</th>\n",
       "      <th>...</th>\n",
       "      <th>E_cyc_lb</th>\n",
       "      <th>E_hb</th>\n",
       "      <th>E_lb</th>\n",
       "      <th>I_max</th>\n",
       "      <th>I_min</th>\n",
       "      <th>watchdog</th>\n",
       "      <th>standby</th>\n",
       "      <th>remote_lock</th>\n",
       "      <th>max_I_cmd</th>\n",
       "      <th>FailSafe_I</th>\n",
       "    </tr>\n",
       "  </thead>\n",
       "  <tbody>\n",
       "    <tr>\n",
       "      <th>6685</th>\n",
       "      <td>10:23:20</td>\n",
       "      <td>264</td>\n",
       "      <td>2</td>\n",
       "      <td>0</td>\n",
       "      <td>0</td>\n",
       "      <td>0</td>\n",
       "      <td>328</td>\n",
       "      <td>237</td>\n",
       "      <td>235</td>\n",
       "      <td>239</td>\n",
       "      <td>...</td>\n",
       "      <td>12088</td>\n",
       "      <td>2</td>\n",
       "      <td>61695</td>\n",
       "      <td>10</td>\n",
       "      <td>6</td>\n",
       "      <td>15000</td>\n",
       "      <td>4</td>\n",
       "      <td>1</td>\n",
       "      <td>100</td>\n",
       "      <td>10</td>\n",
       "    </tr>\n",
       "    <tr>\n",
       "      <th>6686</th>\n",
       "      <td>10:23:26</td>\n",
       "      <td>264</td>\n",
       "      <td>2</td>\n",
       "      <td>0</td>\n",
       "      <td>0</td>\n",
       "      <td>0</td>\n",
       "      <td>325</td>\n",
       "      <td>236</td>\n",
       "      <td>235</td>\n",
       "      <td>238</td>\n",
       "      <td>...</td>\n",
       "      <td>12088</td>\n",
       "      <td>2</td>\n",
       "      <td>61695</td>\n",
       "      <td>10</td>\n",
       "      <td>6</td>\n",
       "      <td>15000</td>\n",
       "      <td>4</td>\n",
       "      <td>1</td>\n",
       "      <td>100</td>\n",
       "      <td>10</td>\n",
       "    </tr>\n",
       "    <tr>\n",
       "      <th>6687</th>\n",
       "      <td>10:23:31</td>\n",
       "      <td>264</td>\n",
       "      <td>2</td>\n",
       "      <td>0</td>\n",
       "      <td>0</td>\n",
       "      <td>0</td>\n",
       "      <td>328</td>\n",
       "      <td>235</td>\n",
       "      <td>234</td>\n",
       "      <td>238</td>\n",
       "      <td>...</td>\n",
       "      <td>12088</td>\n",
       "      <td>2</td>\n",
       "      <td>61695</td>\n",
       "      <td>10</td>\n",
       "      <td>6</td>\n",
       "      <td>15000</td>\n",
       "      <td>4</td>\n",
       "      <td>1</td>\n",
       "      <td>100</td>\n",
       "      <td>10</td>\n",
       "    </tr>\n",
       "    <tr>\n",
       "      <th>6688</th>\n",
       "      <td>10:23:36</td>\n",
       "      <td>264</td>\n",
       "      <td>2</td>\n",
       "      <td>0</td>\n",
       "      <td>0</td>\n",
       "      <td>0</td>\n",
       "      <td>328</td>\n",
       "      <td>235</td>\n",
       "      <td>234</td>\n",
       "      <td>238</td>\n",
       "      <td>...</td>\n",
       "      <td>12088</td>\n",
       "      <td>2</td>\n",
       "      <td>61695</td>\n",
       "      <td>10</td>\n",
       "      <td>6</td>\n",
       "      <td>15000</td>\n",
       "      <td>4</td>\n",
       "      <td>1</td>\n",
       "      <td>100</td>\n",
       "      <td>10</td>\n",
       "    </tr>\n",
       "    <tr>\n",
       "      <th>6689</th>\n",
       "      <td>10:23:41</td>\n",
       "      <td>264</td>\n",
       "      <td>2</td>\n",
       "      <td>0</td>\n",
       "      <td>0</td>\n",
       "      <td>0</td>\n",
       "      <td>328</td>\n",
       "      <td>235</td>\n",
       "      <td>234</td>\n",
       "      <td>238</td>\n",
       "      <td>...</td>\n",
       "      <td>12088</td>\n",
       "      <td>2</td>\n",
       "      <td>61695</td>\n",
       "      <td>10</td>\n",
       "      <td>6</td>\n",
       "      <td>15000</td>\n",
       "      <td>4</td>\n",
       "      <td>1</td>\n",
       "      <td>100</td>\n",
       "      <td>10</td>\n",
       "    </tr>\n",
       "  </tbody>\n",
       "</table>\n",
       "<p>5 rows × 23 columns</p>\n",
       "</div>"
      ],
      "text/plain": [
       "          time  ver  charge_state  I_L1  I_L2  I_L3  Temp  V_L1  V_L2  V_L3  \\\n",
       "6685  10:23:20  264             2     0     0     0   328   237   235   239   \n",
       "6686  10:23:26  264             2     0     0     0   325   236   235   238   \n",
       "6687  10:23:31  264             2     0     0     0   328   235   234   238   \n",
       "6688  10:23:36  264             2     0     0     0   328   235   234   238   \n",
       "6689  10:23:41  264             2     0     0     0   328   235   234   238   \n",
       "\n",
       "      ...  E_cyc_lb  E_hb   E_lb  I_max  I_min  watchdog  standby  \\\n",
       "6685  ...     12088     2  61695     10      6     15000        4   \n",
       "6686  ...     12088     2  61695     10      6     15000        4   \n",
       "6687  ...     12088     2  61695     10      6     15000        4   \n",
       "6688  ...     12088     2  61695     10      6     15000        4   \n",
       "6689  ...     12088     2  61695     10      6     15000        4   \n",
       "\n",
       "      remote_lock  max_I_cmd  FailSafe_I  \n",
       "6685            1        100          10  \n",
       "6686            1        100          10  \n",
       "6687            1        100          10  \n",
       "6688            1        100          10  \n",
       "6689            1        100          10  \n",
       "\n",
       "[5 rows x 23 columns]"
      ]
     },
     "metadata": {},
     "execution_count": 35
    }
   ],
   "metadata": {}
  },
  {
   "cell_type": "code",
   "execution_count": null,
   "source": [],
   "outputs": [],
   "metadata": {}
  },
  {
   "cell_type": "code",
   "execution_count": null,
   "source": [],
   "outputs": [],
   "metadata": {}
  },
  {
   "cell_type": "code",
   "execution_count": 2,
   "source": [
    "app = Flask(__name__)\r\n",
    "app.config['SQLALCHEMY_DATABASE_URI'] = 'sqlite:///site.db'\r\n",
    "db = SQLAlchemy(app)"
   ],
   "outputs": [
    {
     "output_type": "stream",
     "name": "stderr",
     "text": [
      "C:\\ProgramData\\Anaconda3\\envs\\flask_env\\lib\\site-packages\\flask_sqlalchemy\\__init__.py:872: FSADeprecationWarning: SQLALCHEMY_TRACK_MODIFICATIONS adds significant overhead and will be disabled by default in the future.  Set it to True or False to suppress this warning.\n",
      "  warnings.warn(FSADeprecationWarning(\n"
     ]
    }
   ],
   "metadata": {}
  },
  {
   "cell_type": "code",
   "execution_count": 50,
   "source": [
    "class WalliStat(db.Model):\r\n",
    "    dt = db.Column(db.DateTime, nullable=False, primary_key=True)\r\n",
    "    Temp = db.Column(db.Integer, nullable=False, unique=False)\r\n",
    "    Power = db.Column(db.Integer, nullable=False, unique=False)\r\n",
    "    \r\n",
    "    def __repr__(self):\r\n",
    "        return f\"WalliStat({self.dt}: {self.Temp}°C, {self.Power}W)\""
   ],
   "outputs": [],
   "metadata": {}
  },
  {
   "cell_type": "code",
   "execution_count": 51,
   "source": [
    "db.create_all()"
   ],
   "outputs": [],
   "metadata": {}
  },
  {
   "cell_type": "code",
   "execution_count": 53,
   "source": [
    "for index, row in df.tail().iterrows():\r\n",
    "    date = pd.to_datetime(date_str + \" \" + row.time).to_pydatetime()\r\n",
    "    ws = WalliStat(dt=date, Temp=row.Temp, Power=row.P)\r\n",
    "    db.session.add(ws)\r\n",
    "    print(ws)"
   ],
   "outputs": [
    {
     "output_type": "stream",
     "name": "stdout",
     "text": [
      "WalliStat(2021-07-25 10:23:20: 328°C, 0W)\n",
      "WalliStat(2021-07-25 10:23:26: 325°C, 0W)\n",
      "WalliStat(2021-07-25 10:23:31: 328°C, 0W)\n",
      "WalliStat(2021-07-25 10:23:36: 328°C, 0W)\n",
      "WalliStat(2021-07-25 10:23:41: 328°C, 0W)\n"
     ]
    }
   ],
   "metadata": {}
  },
  {
   "cell_type": "code",
   "execution_count": 54,
   "source": [
    "db.session.commit()"
   ],
   "outputs": [],
   "metadata": {}
  },
  {
   "cell_type": "code",
   "execution_count": 58,
   "source": [
    "WalliStat.query.all()"
   ],
   "outputs": [
    {
     "output_type": "execute_result",
     "data": {
      "text/plain": [
       "[WalliStat(2021-07-25 10:23:20: 328°C, 0W),\n",
       " WalliStat(2021-07-25 10:23:26: 325°C, 0W),\n",
       " WalliStat(2021-07-25 10:23:31: 328°C, 0W),\n",
       " WalliStat(2021-07-25 10:23:36: 328°C, 0W),\n",
       " WalliStat(2021-07-25 10:23:41: 328°C, 0W)]"
      ]
     },
     "metadata": {},
     "execution_count": 58
    }
   ],
   "metadata": {}
  },
  {
   "cell_type": "code",
   "execution_count": 66,
   "source": [
    "WalliStat.query.filter_by(Temp = 328).all()"
   ],
   "outputs": [
    {
     "output_type": "execute_result",
     "data": {
      "text/plain": [
       "[WalliStat(2021-07-25 10:23:20: 328°C, 0W),\n",
       " WalliStat(2021-07-25 10:23:31: 328°C, 0W),\n",
       " WalliStat(2021-07-25 10:23:36: 328°C, 0W),\n",
       " WalliStat(2021-07-25 10:23:41: 328°C, 0W)]"
      ]
     },
     "metadata": {},
     "execution_count": 66
    }
   ],
   "metadata": {}
  },
  {
   "cell_type": "code",
   "execution_count": null,
   "source": [],
   "outputs": [],
   "metadata": {}
  }
 ],
 "metadata": {
  "interpreter": {
   "hash": "4d920ee986183d6d7daed30b43bccfc4321a328276a83b3c8276323f0c218bd5"
  },
  "kernelspec": {
   "name": "python3",
   "display_name": "Python 3.9.7 64-bit ('flask_env': conda)"
  },
  "language_info": {
   "codemirror_mode": {
    "name": "ipython",
    "version": 3
   },
   "file_extension": ".py",
   "mimetype": "text/x-python",
   "name": "python",
   "nbconvert_exporter": "python",
   "pygments_lexer": "ipython3",
   "version": "3.9.7"
  }
 },
 "nbformat": 4,
 "nbformat_minor": 2
}