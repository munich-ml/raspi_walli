{
 "cells": [
  {
   "cell_type": "code",
   "execution_count": 1,
   "metadata": {},
   "outputs": [
    {
     "name": "stderr",
     "output_type": "stream",
     "text": [
      "C:\\ProgramData\\Anaconda3\\envs\\flask_env\\lib\\site-packages\\flask_sqlalchemy\\__init__.py:872: FSADeprecationWarning: SQLALCHEMY_TRACK_MODIFICATIONS adds significant overhead and will be disabled by default in the future.  Set it to True or False to suppress this warning.\n",
      "  warnings.warn(FSADeprecationWarning(\n"
     ]
    }
   ],
   "source": [
    "import os\n",
    "import pandas as pd\n",
    "import datetime as dt\n",
    "from database_app import db, WalliStat, Campaign"
   ]
  },
  {
   "cell_type": "code",
   "execution_count": 2,
   "metadata": {},
   "outputs": [],
   "source": [
    "db.create_all()"
   ]
  },
  {
   "cell_type": "markdown",
   "metadata": {},
   "source": [
    "Create `hourly` Campaign starting the next full hour using the `id=0`"
   ]
  },
  {
   "cell_type": "code",
   "execution_count": 3,
   "metadata": {},
   "outputs": [
    {
     "data": {
      "text/plain": [
       "Campaign(id:0, 'hourly' is active:None, start:2021-10-17 10:00:00, end:None, interval:1:00:00)"
      ]
     },
     "execution_count": 3,
     "metadata": {},
     "output_type": "execute_result"
    }
   ],
   "source": [
    "t = dt.datetime.now()    \n",
    "next_hour = t.replace(second=0, microsecond=0, minute=0, hour=t.hour+1)\n",
    "hourly = Campaign(id=0, title=\"hourly\", start=next_hour, interval=dt.timedelta(seconds=3600))\n",
    "hourly"
   ]
  },
  {
   "cell_type": "code",
   "execution_count": 4,
   "metadata": {},
   "outputs": [],
   "source": [
    "db.session.add(hourly)\n",
    "db.session.commit()"
   ]
  },
  {
   "cell_type": "code",
   "execution_count": null,
   "metadata": {},
   "outputs": [],
   "source": []
  },
  {
   "cell_type": "code",
   "execution_count": 5,
   "metadata": {},
   "outputs": [
    {
     "data": {
      "text/html": [
       "<div>\n",
       "<style scoped>\n",
       "    .dataframe tbody tr th:only-of-type {\n",
       "        vertical-align: middle;\n",
       "    }\n",
       "\n",
       "    .dataframe tbody tr th {\n",
       "        vertical-align: top;\n",
       "    }\n",
       "\n",
       "    .dataframe thead th {\n",
       "        text-align: right;\n",
       "    }\n",
       "</style>\n",
       "<table border=\"1\" class=\"dataframe\">\n",
       "  <thead>\n",
       "    <tr style=\"text-align: right;\">\n",
       "      <th></th>\n",
       "      <th>time</th>\n",
       "      <th>ver</th>\n",
       "      <th>charge_state</th>\n",
       "      <th>I_L1</th>\n",
       "      <th>I_L2</th>\n",
       "      <th>I_L3</th>\n",
       "      <th>Temp</th>\n",
       "      <th>V_L1</th>\n",
       "      <th>V_L2</th>\n",
       "      <th>V_L3</th>\n",
       "      <th>...</th>\n",
       "      <th>E_cyc_lb</th>\n",
       "      <th>E_hb</th>\n",
       "      <th>E_lb</th>\n",
       "      <th>I_max</th>\n",
       "      <th>I_min</th>\n",
       "      <th>watchdog</th>\n",
       "      <th>standby</th>\n",
       "      <th>remote_lock</th>\n",
       "      <th>max_I_cmd</th>\n",
       "      <th>FailSafe_I</th>\n",
       "    </tr>\n",
       "  </thead>\n",
       "  <tbody>\n",
       "    <tr>\n",
       "      <th>6685</th>\n",
       "      <td>10:23:20</td>\n",
       "      <td>264</td>\n",
       "      <td>2</td>\n",
       "      <td>0</td>\n",
       "      <td>0</td>\n",
       "      <td>0</td>\n",
       "      <td>328</td>\n",
       "      <td>237</td>\n",
       "      <td>235</td>\n",
       "      <td>239</td>\n",
       "      <td>...</td>\n",
       "      <td>12088</td>\n",
       "      <td>2</td>\n",
       "      <td>61695</td>\n",
       "      <td>10</td>\n",
       "      <td>6</td>\n",
       "      <td>15000</td>\n",
       "      <td>4</td>\n",
       "      <td>1</td>\n",
       "      <td>100</td>\n",
       "      <td>10</td>\n",
       "    </tr>\n",
       "    <tr>\n",
       "      <th>6686</th>\n",
       "      <td>10:23:26</td>\n",
       "      <td>264</td>\n",
       "      <td>2</td>\n",
       "      <td>0</td>\n",
       "      <td>0</td>\n",
       "      <td>0</td>\n",
       "      <td>325</td>\n",
       "      <td>236</td>\n",
       "      <td>235</td>\n",
       "      <td>238</td>\n",
       "      <td>...</td>\n",
       "      <td>12088</td>\n",
       "      <td>2</td>\n",
       "      <td>61695</td>\n",
       "      <td>10</td>\n",
       "      <td>6</td>\n",
       "      <td>15000</td>\n",
       "      <td>4</td>\n",
       "      <td>1</td>\n",
       "      <td>100</td>\n",
       "      <td>10</td>\n",
       "    </tr>\n",
       "    <tr>\n",
       "      <th>6687</th>\n",
       "      <td>10:23:31</td>\n",
       "      <td>264</td>\n",
       "      <td>2</td>\n",
       "      <td>0</td>\n",
       "      <td>0</td>\n",
       "      <td>0</td>\n",
       "      <td>328</td>\n",
       "      <td>235</td>\n",
       "      <td>234</td>\n",
       "      <td>238</td>\n",
       "      <td>...</td>\n",
       "      <td>12088</td>\n",
       "      <td>2</td>\n",
       "      <td>61695</td>\n",
       "      <td>10</td>\n",
       "      <td>6</td>\n",
       "      <td>15000</td>\n",
       "      <td>4</td>\n",
       "      <td>1</td>\n",
       "      <td>100</td>\n",
       "      <td>10</td>\n",
       "    </tr>\n",
       "    <tr>\n",
       "      <th>6688</th>\n",
       "      <td>10:23:36</td>\n",
       "      <td>264</td>\n",
       "      <td>2</td>\n",
       "      <td>0</td>\n",
       "      <td>0</td>\n",
       "      <td>0</td>\n",
       "      <td>328</td>\n",
       "      <td>235</td>\n",
       "      <td>234</td>\n",
       "      <td>238</td>\n",
       "      <td>...</td>\n",
       "      <td>12088</td>\n",
       "      <td>2</td>\n",
       "      <td>61695</td>\n",
       "      <td>10</td>\n",
       "      <td>6</td>\n",
       "      <td>15000</td>\n",
       "      <td>4</td>\n",
       "      <td>1</td>\n",
       "      <td>100</td>\n",
       "      <td>10</td>\n",
       "    </tr>\n",
       "    <tr>\n",
       "      <th>6689</th>\n",
       "      <td>10:23:41</td>\n",
       "      <td>264</td>\n",
       "      <td>2</td>\n",
       "      <td>0</td>\n",
       "      <td>0</td>\n",
       "      <td>0</td>\n",
       "      <td>328</td>\n",
       "      <td>235</td>\n",
       "      <td>234</td>\n",
       "      <td>238</td>\n",
       "      <td>...</td>\n",
       "      <td>12088</td>\n",
       "      <td>2</td>\n",
       "      <td>61695</td>\n",
       "      <td>10</td>\n",
       "      <td>6</td>\n",
       "      <td>15000</td>\n",
       "      <td>4</td>\n",
       "      <td>1</td>\n",
       "      <td>100</td>\n",
       "      <td>10</td>\n",
       "    </tr>\n",
       "  </tbody>\n",
       "</table>\n",
       "<p>5 rows × 23 columns</p>\n",
       "</div>"
      ],
      "text/plain": [
       "          time  ver  charge_state  I_L1  I_L2  I_L3  Temp  V_L1  V_L2  V_L3  \\\n",
       "6685  10:23:20  264             2     0     0     0   328   237   235   239   \n",
       "6686  10:23:26  264             2     0     0     0   325   236   235   238   \n",
       "6687  10:23:31  264             2     0     0     0   328   235   234   238   \n",
       "6688  10:23:36  264             2     0     0     0   328   235   234   238   \n",
       "6689  10:23:41  264             2     0     0     0   328   235   234   238   \n",
       "\n",
       "      ...  E_cyc_lb  E_hb   E_lb  I_max  I_min  watchdog  standby  \\\n",
       "6685  ...     12088     2  61695     10      6     15000        4   \n",
       "6686  ...     12088     2  61695     10      6     15000        4   \n",
       "6687  ...     12088     2  61695     10      6     15000        4   \n",
       "6688  ...     12088     2  61695     10      6     15000        4   \n",
       "6689  ...     12088     2  61695     10      6     15000        4   \n",
       "\n",
       "      remote_lock  max_I_cmd  FailSafe_I  \n",
       "6685            1        100          10  \n",
       "6686            1        100          10  \n",
       "6687            1        100          10  \n",
       "6688            1        100          10  \n",
       "6689            1        100          10  \n",
       "\n",
       "[5 rows x 23 columns]"
      ]
     },
     "execution_count": 5,
     "metadata": {},
     "output_type": "execute_result"
    }
   ],
   "source": [
    "fn = \"raw_2021-07-25.csv\"\n",
    "date_str = fn.split(\".\")[0].split(\"_\")[1]\n",
    "df = pd.read_csv(os.path.join(\"..\", \"logs\", fn))\n",
    "df.tail()"
   ]
  },
  {
   "cell_type": "code",
   "execution_count": 6,
   "metadata": {},
   "outputs": [
    {
     "data": {
      "text/html": [
       "<div>\n",
       "<style scoped>\n",
       "    .dataframe tbody tr th:only-of-type {\n",
       "        vertical-align: middle;\n",
       "    }\n",
       "\n",
       "    .dataframe tbody tr th {\n",
       "        vertical-align: top;\n",
       "    }\n",
       "\n",
       "    .dataframe thead th {\n",
       "        text-align: right;\n",
       "    }\n",
       "</style>\n",
       "<table border=\"1\" class=\"dataframe\">\n",
       "  <thead>\n",
       "    <tr style=\"text-align: right;\">\n",
       "      <th></th>\n",
       "      <th>ver</th>\n",
       "      <th>charge_state</th>\n",
       "      <th>I_L1</th>\n",
       "      <th>I_L2</th>\n",
       "      <th>I_L3</th>\n",
       "      <th>Temp</th>\n",
       "      <th>V_L1</th>\n",
       "      <th>V_L2</th>\n",
       "      <th>V_L3</th>\n",
       "      <th>ext_lock</th>\n",
       "      <th>...</th>\n",
       "      <th>E_cyc_lb</th>\n",
       "      <th>E_hb</th>\n",
       "      <th>E_lb</th>\n",
       "      <th>I_max</th>\n",
       "      <th>I_min</th>\n",
       "      <th>watchdog</th>\n",
       "      <th>standby</th>\n",
       "      <th>remote_lock</th>\n",
       "      <th>max_I_cmd</th>\n",
       "      <th>FailSafe_I</th>\n",
       "    </tr>\n",
       "  </thead>\n",
       "  <tbody>\n",
       "    <tr>\n",
       "      <th>count</th>\n",
       "      <td>6690.0</td>\n",
       "      <td>6690.000000</td>\n",
       "      <td>6690.000000</td>\n",
       "      <td>6690.000000</td>\n",
       "      <td>6690.000000</td>\n",
       "      <td>6690.000000</td>\n",
       "      <td>6690.000000</td>\n",
       "      <td>6690.000000</td>\n",
       "      <td>6690.000000</td>\n",
       "      <td>6690.0</td>\n",
       "      <td>...</td>\n",
       "      <td>6690.000000</td>\n",
       "      <td>6690.0</td>\n",
       "      <td>6690.000000</td>\n",
       "      <td>6690.0</td>\n",
       "      <td>6690.0</td>\n",
       "      <td>6690.0</td>\n",
       "      <td>6690.0</td>\n",
       "      <td>6690.0</td>\n",
       "      <td>6690.000000</td>\n",
       "      <td>6690.0</td>\n",
       "    </tr>\n",
       "    <tr>\n",
       "      <th>mean</th>\n",
       "      <td>264.0</td>\n",
       "      <td>5.008371</td>\n",
       "      <td>19.503737</td>\n",
       "      <td>17.402990</td>\n",
       "      <td>16.397459</td>\n",
       "      <td>292.886996</td>\n",
       "      <td>236.999253</td>\n",
       "      <td>235.891779</td>\n",
       "      <td>239.402242</td>\n",
       "      <td>1.0</td>\n",
       "      <td>...</td>\n",
       "      <td>10796.983558</td>\n",
       "      <td>2.0</td>\n",
       "      <td>60403.983558</td>\n",
       "      <td>10.0</td>\n",
       "      <td>6.0</td>\n",
       "      <td>15000.0</td>\n",
       "      <td>4.0</td>\n",
       "      <td>1.0</td>\n",
       "      <td>98.505232</td>\n",
       "      <td>10.0</td>\n",
       "    </tr>\n",
       "    <tr>\n",
       "      <th>std</th>\n",
       "      <td>0.0</td>\n",
       "      <td>1.402405</td>\n",
       "      <td>39.795441</td>\n",
       "      <td>36.834195</td>\n",
       "      <td>34.548114</td>\n",
       "      <td>18.596817</td>\n",
       "      <td>1.342131</td>\n",
       "      <td>1.429232</td>\n",
       "      <td>1.326984</td>\n",
       "      <td>0.0</td>\n",
       "      <td>...</td>\n",
       "      <td>3076.976561</td>\n",
       "      <td>0.0</td>\n",
       "      <td>3076.976561</td>\n",
       "      <td>0.0</td>\n",
       "      <td>0.0</td>\n",
       "      <td>0.0</td>\n",
       "      <td>0.0</td>\n",
       "      <td>0.0</td>\n",
       "      <td>12.135259</td>\n",
       "      <td>0.0</td>\n",
       "    </tr>\n",
       "    <tr>\n",
       "      <th>min</th>\n",
       "      <td>264.0</td>\n",
       "      <td>2.000000</td>\n",
       "      <td>0.000000</td>\n",
       "      <td>0.000000</td>\n",
       "      <td>0.000000</td>\n",
       "      <td>272.000000</td>\n",
       "      <td>233.000000</td>\n",
       "      <td>231.000000</td>\n",
       "      <td>236.000000</td>\n",
       "      <td>1.0</td>\n",
       "      <td>...</td>\n",
       "      <td>0.000000</td>\n",
       "      <td>2.0</td>\n",
       "      <td>49607.000000</td>\n",
       "      <td>10.0</td>\n",
       "      <td>6.0</td>\n",
       "      <td>15000.0</td>\n",
       "      <td>4.0</td>\n",
       "      <td>1.0</td>\n",
       "      <td>0.000000</td>\n",
       "      <td>10.0</td>\n",
       "    </tr>\n",
       "    <tr>\n",
       "      <th>25%</th>\n",
       "      <td>264.0</td>\n",
       "      <td>5.000000</td>\n",
       "      <td>0.000000</td>\n",
       "      <td>0.000000</td>\n",
       "      <td>0.000000</td>\n",
       "      <td>277.000000</td>\n",
       "      <td>236.000000</td>\n",
       "      <td>235.000000</td>\n",
       "      <td>238.000000</td>\n",
       "      <td>1.0</td>\n",
       "      <td>...</td>\n",
       "      <td>12088.000000</td>\n",
       "      <td>2.0</td>\n",
       "      <td>61695.000000</td>\n",
       "      <td>10.0</td>\n",
       "      <td>6.0</td>\n",
       "      <td>15000.0</td>\n",
       "      <td>4.0</td>\n",
       "      <td>1.0</td>\n",
       "      <td>100.000000</td>\n",
       "      <td>10.0</td>\n",
       "    </tr>\n",
       "    <tr>\n",
       "      <th>50%</th>\n",
       "      <td>264.0</td>\n",
       "      <td>5.000000</td>\n",
       "      <td>0.000000</td>\n",
       "      <td>0.000000</td>\n",
       "      <td>0.000000</td>\n",
       "      <td>283.000000</td>\n",
       "      <td>237.000000</td>\n",
       "      <td>236.000000</td>\n",
       "      <td>239.000000</td>\n",
       "      <td>1.0</td>\n",
       "      <td>...</td>\n",
       "      <td>12088.000000</td>\n",
       "      <td>2.0</td>\n",
       "      <td>61695.000000</td>\n",
       "      <td>10.0</td>\n",
       "      <td>6.0</td>\n",
       "      <td>15000.0</td>\n",
       "      <td>4.0</td>\n",
       "      <td>1.0</td>\n",
       "      <td>100.000000</td>\n",
       "      <td>10.0</td>\n",
       "    </tr>\n",
       "    <tr>\n",
       "      <th>75%</th>\n",
       "      <td>264.0</td>\n",
       "      <td>5.000000</td>\n",
       "      <td>0.000000</td>\n",
       "      <td>0.000000</td>\n",
       "      <td>0.000000</td>\n",
       "      <td>310.000000</td>\n",
       "      <td>238.000000</td>\n",
       "      <td>237.000000</td>\n",
       "      <td>240.000000</td>\n",
       "      <td>1.0</td>\n",
       "      <td>...</td>\n",
       "      <td>12088.000000</td>\n",
       "      <td>2.0</td>\n",
       "      <td>61695.000000</td>\n",
       "      <td>10.0</td>\n",
       "      <td>6.0</td>\n",
       "      <td>15000.0</td>\n",
       "      <td>4.0</td>\n",
       "      <td>1.0</td>\n",
       "      <td>100.000000</td>\n",
       "      <td>10.0</td>\n",
       "    </tr>\n",
       "    <tr>\n",
       "      <th>max</th>\n",
       "      <td>264.0</td>\n",
       "      <td>7.000000</td>\n",
       "      <td>106.000000</td>\n",
       "      <td>99.000000</td>\n",
       "      <td>92.000000</td>\n",
       "      <td>328.000000</td>\n",
       "      <td>240.000000</td>\n",
       "      <td>239.000000</td>\n",
       "      <td>243.000000</td>\n",
       "      <td>1.0</td>\n",
       "      <td>...</td>\n",
       "      <td>12088.000000</td>\n",
       "      <td>2.0</td>\n",
       "      <td>61695.000000</td>\n",
       "      <td>10.0</td>\n",
       "      <td>6.0</td>\n",
       "      <td>15000.0</td>\n",
       "      <td>4.0</td>\n",
       "      <td>1.0</td>\n",
       "      <td>100.000000</td>\n",
       "      <td>10.0</td>\n",
       "    </tr>\n",
       "  </tbody>\n",
       "</table>\n",
       "<p>8 rows × 22 columns</p>\n",
       "</div>"
      ],
      "text/plain": [
       "          ver  charge_state         I_L1         I_L2         I_L3  \\\n",
       "count  6690.0   6690.000000  6690.000000  6690.000000  6690.000000   \n",
       "mean    264.0      5.008371    19.503737    17.402990    16.397459   \n",
       "std       0.0      1.402405    39.795441    36.834195    34.548114   \n",
       "min     264.0      2.000000     0.000000     0.000000     0.000000   \n",
       "25%     264.0      5.000000     0.000000     0.000000     0.000000   \n",
       "50%     264.0      5.000000     0.000000     0.000000     0.000000   \n",
       "75%     264.0      5.000000     0.000000     0.000000     0.000000   \n",
       "max     264.0      7.000000   106.000000    99.000000    92.000000   \n",
       "\n",
       "              Temp         V_L1         V_L2         V_L3  ext_lock  ...  \\\n",
       "count  6690.000000  6690.000000  6690.000000  6690.000000    6690.0  ...   \n",
       "mean    292.886996   236.999253   235.891779   239.402242       1.0  ...   \n",
       "std      18.596817     1.342131     1.429232     1.326984       0.0  ...   \n",
       "min     272.000000   233.000000   231.000000   236.000000       1.0  ...   \n",
       "25%     277.000000   236.000000   235.000000   238.000000       1.0  ...   \n",
       "50%     283.000000   237.000000   236.000000   239.000000       1.0  ...   \n",
       "75%     310.000000   238.000000   237.000000   240.000000       1.0  ...   \n",
       "max     328.000000   240.000000   239.000000   243.000000       1.0  ...   \n",
       "\n",
       "           E_cyc_lb    E_hb          E_lb   I_max   I_min  watchdog  standby  \\\n",
       "count   6690.000000  6690.0   6690.000000  6690.0  6690.0    6690.0   6690.0   \n",
       "mean   10796.983558     2.0  60403.983558    10.0     6.0   15000.0      4.0   \n",
       "std     3076.976561     0.0   3076.976561     0.0     0.0       0.0      0.0   \n",
       "min        0.000000     2.0  49607.000000    10.0     6.0   15000.0      4.0   \n",
       "25%    12088.000000     2.0  61695.000000    10.0     6.0   15000.0      4.0   \n",
       "50%    12088.000000     2.0  61695.000000    10.0     6.0   15000.0      4.0   \n",
       "75%    12088.000000     2.0  61695.000000    10.0     6.0   15000.0      4.0   \n",
       "max    12088.000000     2.0  61695.000000    10.0     6.0   15000.0      4.0   \n",
       "\n",
       "       remote_lock    max_I_cmd  FailSafe_I  \n",
       "count       6690.0  6690.000000      6690.0  \n",
       "mean           1.0    98.505232        10.0  \n",
       "std            0.0    12.135259         0.0  \n",
       "min            1.0     0.000000        10.0  \n",
       "25%            1.0   100.000000        10.0  \n",
       "50%            1.0   100.000000        10.0  \n",
       "75%            1.0   100.000000        10.0  \n",
       "max            1.0   100.000000        10.0  \n",
       "\n",
       "[8 rows x 22 columns]"
      ]
     },
     "execution_count": 6,
     "metadata": {},
     "output_type": "execute_result"
    }
   ],
   "source": [
    "df.describe()"
   ]
  },
  {
   "cell_type": "code",
   "execution_count": 7,
   "metadata": {},
   "outputs": [
    {
     "data": {
      "text/plain": [
       "0"
      ]
     },
     "execution_count": 7,
     "metadata": {},
     "output_type": "execute_result"
    }
   ],
   "source": [
    "hourly.id"
   ]
  },
  {
   "cell_type": "code",
   "execution_count": 8,
   "metadata": {},
   "outputs": [],
   "source": [
    "for index, row in df.head(6).iterrows():\n",
    "    ws = WalliStat(datetime=pd.to_datetime(date_str + \" \" + row.time).to_pydatetime(), \n",
    "                   Temp=row.Temp/10., \n",
    "                   Power=row.P,\n",
    "                   campaign_id=hourly.id)\n",
    "    db.session.add(ws)\n",
    "db.session.commit()"
   ]
  },
  {
   "cell_type": "code",
   "execution_count": 9,
   "metadata": {},
   "outputs": [
    {
     "data": {
      "text/plain": [
       "[WalliStat(id:1-->campaign.id:0, 2021-07-25 00:53:32: 27.2°C, 0W),\n",
       " WalliStat(id:2-->campaign.id:0, 2021-07-25 00:53:37: 27.2°C, 0W),\n",
       " WalliStat(id:3-->campaign.id:0, 2021-07-25 00:53:43: 27.2°C, 0W),\n",
       " WalliStat(id:4-->campaign.id:0, 2021-07-25 00:53:48: 27.2°C, 0W),\n",
       " WalliStat(id:5-->campaign.id:0, 2021-07-25 00:53:53: 27.2°C, 0W),\n",
       " WalliStat(id:6-->campaign.id:0, 2021-07-25 00:53:58: 27.2°C, 0W)]"
      ]
     },
     "execution_count": 9,
     "metadata": {},
     "output_type": "execute_result"
    }
   ],
   "source": [
    "WalliStat.query.filter(WalliStat.Temp>1).all()"
   ]
  },
  {
   "cell_type": "code",
   "execution_count": null,
   "metadata": {},
   "outputs": [],
   "source": []
  },
  {
   "cell_type": "code",
   "execution_count": 10,
   "metadata": {},
   "outputs": [],
   "source": [
    "campaign1 = Campaign(title=\"High frequency polling for error checking.\", start=dt.datetime.now(), end=dt.datetime.now()+dt.timedelta(days=1), interval=dt.timedelta(seconds=1))\n",
    "db.session.add(campaign1)\n",
    "db.session.commit()"
   ]
  },
  {
   "cell_type": "code",
   "execution_count": 11,
   "metadata": {},
   "outputs": [
    {
     "data": {
      "text/plain": [
       "[Campaign(id:0, 'hourly' is active:True, start:2021-10-17 10:00:00, end:None, interval:1:00:00),\n",
       " Campaign(id:1, 'High frequency polling for error checking.' is active:True, start:2021-10-17 09:26:10.057643, end:2021-10-18 09:26:10.057643, interval:0:00:01)]"
      ]
     },
     "execution_count": 11,
     "metadata": {},
     "output_type": "execute_result"
    }
   ],
   "source": [
    "cmps = Campaign.query.all()\n",
    "cmps"
   ]
  },
  {
   "cell_type": "code",
   "execution_count": 12,
   "metadata": {},
   "outputs": [
    {
     "data": {
      "text/plain": [
       "{'_sa_instance_state': <sqlalchemy.orm.state.InstanceState at 0x1bfe24a0910>,\n",
       " 'title': 'High frequency polling for error checking.',\n",
       " 'start': datetime.datetime(2021, 10, 17, 9, 26, 10, 57643),\n",
       " 'end': datetime.datetime(2021, 10, 18, 9, 26, 10, 57643),\n",
       " 'measure_walli': True,\n",
       " 'id': 1,\n",
       " 'is_active': True,\n",
       " 'interval': datetime.timedelta(seconds=1),\n",
       " 'measure_light': True}"
      ]
     },
     "execution_count": 12,
     "metadata": {},
     "output_type": "execute_result"
    }
   ],
   "source": [
    "vars(campaign1)"
   ]
  },
  {
   "cell_type": "code",
   "execution_count": 13,
   "metadata": {},
   "outputs": [
    {
     "data": {
      "text/plain": [
       "[WalliStat(id:1-->campaign.id:0, 2021-07-25 00:53:32: 27.2°C, 0W),\n",
       " WalliStat(id:2-->campaign.id:0, 2021-07-25 00:53:37: 27.2°C, 0W),\n",
       " WalliStat(id:3-->campaign.id:0, 2021-07-25 00:53:43: 27.2°C, 0W),\n",
       " WalliStat(id:4-->campaign.id:0, 2021-07-25 00:53:48: 27.2°C, 0W),\n",
       " WalliStat(id:5-->campaign.id:0, 2021-07-25 00:53:53: 27.2°C, 0W),\n",
       " WalliStat(id:6-->campaign.id:0, 2021-07-25 00:53:58: 27.2°C, 0W)]"
      ]
     },
     "execution_count": 13,
     "metadata": {},
     "output_type": "execute_result"
    }
   ],
   "source": [
    "hourly.walli_stats"
   ]
  },
  {
   "cell_type": "code",
   "execution_count": 16,
   "metadata": {},
   "outputs": [
    {
     "data": {
      "text/plain": [
       "Campaign(id:0, 'hourly' is active:True, start:2021-10-17 10:00:00, end:None, interval:1:00:00)"
      ]
     },
     "execution_count": 16,
     "metadata": {},
     "output_type": "execute_result"
    }
   ],
   "source": [
    "WalliStat.query.first().campaign"
   ]
  },
  {
   "cell_type": "code",
   "execution_count": 12,
   "metadata": {},
   "outputs": [],
   "source": [
    "#db.drop_all()"
   ]
  },
  {
   "cell_type": "code",
   "execution_count": null,
   "metadata": {},
   "outputs": [],
   "source": []
  }
 ],
 "metadata": {
  "interpreter": {
   "hash": "4d920ee986183d6d7daed30b43bccfc4321a328276a83b3c8276323f0c218bd5"
  },
  "kernelspec": {
   "display_name": "Python 3.9.7 64-bit ('flask_env': conda)",
   "name": "python3"
  },
  "language_info": {
   "codemirror_mode": {
    "name": "ipython",
    "version": 3
   },
   "file_extension": ".py",
   "mimetype": "text/x-python",
   "name": "python",
   "nbconvert_exporter": "python",
   "pygments_lexer": "ipython3",
   "version": "3.9.7"
  }
 },
 "nbformat": 4,
 "nbformat_minor": 2
}
