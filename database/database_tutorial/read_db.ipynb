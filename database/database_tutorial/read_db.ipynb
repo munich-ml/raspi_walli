{
 "cells": [
  {
   "cell_type": "markdown",
   "metadata": {},
   "source": [
    "# `flask_sqlalchemy` Tutorial\n",
    "## Part 2/2, Read from the database"
   ]
  },
  {
   "cell_type": "code",
   "execution_count": 1,
   "metadata": {},
   "outputs": [
    {
     "name": "stderr",
     "output_type": "stream",
     "text": [
      "C:\\ProgramData\\Anaconda3\\envs\\flask_env\\lib\\site-packages\\flask_sqlalchemy\\__init__.py:872: FSADeprecationWarning: SQLALCHEMY_TRACK_MODIFICATIONS adds significant overhead and will be disabled by default in the future.  Set it to True or False to suppress this warning.\n",
      "  warnings.warn(FSADeprecationWarning(\n"
     ]
    }
   ],
   "source": [
    "from database_app import WalliStat, Campaign"
   ]
  },
  {
   "cell_type": "code",
   "execution_count": 2,
   "metadata": {},
   "outputs": [
    {
     "data": {
      "text/plain": [
       "[WalliStat(id:1-->campaign.id:0, 2021-07-25 01:01:53: 27.5°C, 0W),\n",
       " WalliStat(id:2-->campaign.id:0, 2021-07-25 01:01:58: 27.5°C, 0W),\n",
       " WalliStat(id:3-->campaign.id:0, 2021-07-25 01:02:15: 27.5°C, 0W),\n",
       " WalliStat(id:4-->campaign.id:0, 2021-07-25 01:02:20: 27.5°C, 0W),\n",
       " WalliStat(id:5-->campaign.id:0, 2021-07-25 01:02:25: 27.5°C, 531W),\n",
       " WalliStat(id:6-->campaign.id:0, 2021-07-25 01:02:30: 27.5°C, 1641W),\n",
       " WalliStat(id:7-->campaign.id:1, 2021-07-25 10:23:31: 32.8°C, 0W),\n",
       " WalliStat(id:8-->campaign.id:1, 2021-07-25 10:23:36: 32.8°C, 0W),\n",
       " WalliStat(id:9-->campaign.id:1, 2021-07-25 10:23:41: 32.8°C, 0W)]"
      ]
     },
     "execution_count": 2,
     "metadata": {},
     "output_type": "execute_result"
    }
   ],
   "source": [
    "WalliStat.query.all()"
   ]
  },
  {
   "cell_type": "markdown",
   "metadata": {},
   "source": [
    "Recreae the `hourly Campaign` object"
   ]
  },
  {
   "cell_type": "code",
   "execution_count": 3,
   "metadata": {},
   "outputs": [
    {
     "data": {
      "text/plain": [
       "Campaign(id:0, 'hourly' is active:True, start:2021-10-17 22:00:00, end:None, interval:1:00:00)"
      ]
     },
     "execution_count": 3,
     "metadata": {},
     "output_type": "execute_result"
    }
   ],
   "source": [
    "hourly = Campaign.query.filter(Campaign.title==\"hourly\").first()\n",
    "hourly"
   ]
  },
  {
   "cell_type": "code",
   "execution_count": 4,
   "metadata": {},
   "outputs": [
    {
     "data": {
      "text/plain": [
       "[WalliStat(id:1-->campaign.id:0, 2021-07-25 01:01:53: 27.5°C, 0W),\n",
       " WalliStat(id:2-->campaign.id:0, 2021-07-25 01:01:58: 27.5°C, 0W),\n",
       " WalliStat(id:3-->campaign.id:0, 2021-07-25 01:02:15: 27.5°C, 0W),\n",
       " WalliStat(id:4-->campaign.id:0, 2021-07-25 01:02:20: 27.5°C, 0W),\n",
       " WalliStat(id:5-->campaign.id:0, 2021-07-25 01:02:25: 27.5°C, 531W),\n",
       " WalliStat(id:6-->campaign.id:0, 2021-07-25 01:02:30: 27.5°C, 1641W)]"
      ]
     },
     "execution_count": 4,
     "metadata": {},
     "output_type": "execute_result"
    }
   ],
   "source": [
    "hourly.walli_stats"
   ]
  },
  {
   "cell_type": "code",
   "execution_count": 5,
   "metadata": {},
   "outputs": [
    {
     "data": {
      "text/plain": [
       "[WalliStat(id:1-->campaign.id:0, 2021-07-25 01:01:53: 27.5°C, 0W),\n",
       " WalliStat(id:2-->campaign.id:0, 2021-07-25 01:01:58: 27.5°C, 0W),\n",
       " WalliStat(id:3-->campaign.id:0, 2021-07-25 01:02:15: 27.5°C, 0W),\n",
       " WalliStat(id:4-->campaign.id:0, 2021-07-25 01:02:20: 27.5°C, 0W),\n",
       " WalliStat(id:5-->campaign.id:0, 2021-07-25 01:02:25: 27.5°C, 531W),\n",
       " WalliStat(id:6-->campaign.id:0, 2021-07-25 01:02:30: 27.5°C, 1641W)]"
      ]
     },
     "execution_count": 5,
     "metadata": {},
     "output_type": "execute_result"
    }
   ],
   "source": [
    "WalliStat.query.filter(WalliStat.campaign==hourly).all()"
   ]
  },
  {
   "cell_type": "code",
   "execution_count": null,
   "metadata": {},
   "outputs": [],
   "source": []
  }
 ],
 "metadata": {
  "interpreter": {
   "hash": "4d920ee986183d6d7daed30b43bccfc4321a328276a83b3c8276323f0c218bd5"
  },
  "kernelspec": {
   "display_name": "Python 3.9.7 64-bit ('flask_env': conda)",
   "name": "python3"
  },
  "language_info": {
   "codemirror_mode": {
    "name": "ipython",
    "version": 3
   },
   "file_extension": ".py",
   "mimetype": "text/x-python",
   "name": "python",
   "nbconvert_exporter": "python",
   "pygments_lexer": "ipython3",
   "version": "3.9.7"
  },
  "orig_nbformat": 4
 },
 "nbformat": 4,
 "nbformat_minor": 2
}
