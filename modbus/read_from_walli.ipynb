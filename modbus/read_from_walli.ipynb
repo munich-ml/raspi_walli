{
 "cells": [
  {
   "cell_type": "code",
   "execution_count": 1,
   "metadata": {},
   "outputs": [],
   "source": [
    "from pymodbus.client.sync import ModbusSerialClient"
   ]
  },
  {
   "cell_type": "code",
   "execution_count": 2,
   "metadata": {},
   "outputs": [
    {
     "output_type": "execute_result",
     "data": {
      "text/plain": [
       "True"
      ]
     },
     "metadata": {},
     "execution_count": 2
    }
   ],
   "source": [
    "client = ModbusSerialClient(method=\"rtu\", port=\"COM7\", baudrate=19200, timeout=1, stopbits=1, bytesize=8, parity=\"E\")\n",
    "client.connect()"
   ]
  },
  {
   "source": [
    "## Read data from input registers 4..18"
   ],
   "cell_type": "markdown",
   "metadata": {}
  },
  {
   "cell_type": "code",
   "execution_count": 18,
   "metadata": {},
   "outputs": [
    {
     "output_type": "stream",
     "name": "stdout",
     "text": [
      "[264, 7, 98, 90, 92, 336, 236, 235, 238, 1, 6659, 0, 16, 2, 29249]\n"
     ]
    }
   ],
   "source": [
    "r = client.read_input_registers(4, count=15, unit=1)\n",
    "if r.isError():\n",
    "    print(\"Error\")\n",
    "else:\n",
    "    print(r.registers)"
   ]
  },
  {
   "cell_type": "code",
   "execution_count": 4,
   "metadata": {},
   "outputs": [
    {
     "output_type": "stream",
     "name": "stdout",
     "text": [
      "Energy since installation: 160 kWh\n"
     ]
    }
   ],
   "source": [
    "energy_kwh = (2**16 * r.registers[13] + r.registers[14] ) / 1000\n",
    "print(\"Energy since installation: {:.0f} kWh\".format(energy_kwh))"
   ]
  },
  {
   "source": [
    "## Set current limit"
   ],
   "cell_type": "markdown",
   "metadata": {}
  },
  {
   "cell_type": "code",
   "execution_count": 13,
   "metadata": {},
   "outputs": [
    {
     "output_type": "stream",
     "name": "stdout",
     "text": [
      "[100]\n"
     ]
    }
   ],
   "source": [
    "r = client.read_holding_registers(261, count=1, unit=1)\n",
    "if r.isError():\n",
    "    print(\"Error\")\n",
    "else:\n",
    "    print(r.registers)"
   ]
  },
  {
   "cell_type": "code",
   "execution_count": 10,
   "metadata": {},
   "outputs": [],
   "source": [
    "w = client.write_register(261, 120, unit=1)"
   ]
  },
  {
   "cell_type": "code",
   "execution_count": null,
   "metadata": {},
   "outputs": [],
   "source": [
    "w.value"
   ]
  },
  {
   "source": [
    "The maximum value that can be written to 261 is defined by the hardware switch."
   ],
   "cell_type": "markdown",
   "metadata": {}
  },
  {
   "cell_type": "code",
   "execution_count": 20,
   "metadata": {},
   "outputs": [],
   "source": [
    "client.close()"
   ]
  },
  {
   "cell_type": "code",
   "execution_count": null,
   "metadata": {},
   "outputs": [],
   "source": []
  }
 ],
 "metadata": {
  "kernelspec": {
   "name": "python3",
   "display_name": "Python 3.7.9 64-bit ('plotly_env': conda)"
  },
  "language_info": {
   "codemirror_mode": {
    "name": "ipython",
    "version": 3
   },
   "file_extension": ".py",
   "mimetype": "text/x-python",
   "name": "python",
   "nbconvert_exporter": "python",
   "pygments_lexer": "ipython3",
   "version": "3.7.9"
  },
  "interpreter": {
   "hash": "8a3da205aec800232e7a4eb8c8865d1642f42c5c4533c6365e5c91340a61c38b"
  }
 },
 "nbformat": 4,
 "nbformat_minor": 2
}