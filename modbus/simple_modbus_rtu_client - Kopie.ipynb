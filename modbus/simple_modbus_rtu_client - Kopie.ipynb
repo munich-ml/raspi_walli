{
 "cells": [
  {
   "cell_type": "markdown",
   "metadata": {},
   "source": [
    "# Simple modbus RTU client\n",
    "\n",
    "This simple modbus RTU client shows basic client operations such as:\n",
    "- reading from input registers\n",
    "- read, write, read from and to holding registers\n",
    "\n",
    "Using [pymodbus synchronous client example](https://pymodbus.readthedocs.io/en/latest/source/example/synchronous_client.html)."
   ]
  },
  {
   "cell_type": "code",
   "execution_count": 7,
   "metadata": {},
   "outputs": [],
   "source": [
    "from pymodbus.client.sync import ModbusSerialClient"
   ]
  },
  {
   "source": [
    "``logging`` is for visualization only, and not required for the server to function"
   ],
   "cell_type": "markdown",
   "metadata": {}
  },
  {
   "cell_type": "code",
   "execution_count": 8,
   "metadata": {},
   "outputs": [],
   "source": [
    "import logging\n",
    "FORMAT = ('%(asctime)-15s %(threadName)-15s'\n",
    "          ' %(levelname)-8s %(module)-15s:%(lineno)-8s %(message)s')\n",
    "logging.basicConfig(format=FORMAT)\n",
    "log = logging.getLogger()\n",
    "log.setLevel(logging.DEBUG)"
   ]
  },
  {
   "source": [
    "## ``timeout`` parameter\n",
    "When using the USB-RS485 adapters, it is important to set ``timeout`` large enough (e.g. 10s) "
   ],
   "cell_type": "markdown",
   "metadata": {}
  },
  {
   "cell_type": "code",
   "execution_count": 9,
   "metadata": {},
   "outputs": [
    {
     "output_type": "execute_result",
     "data": {
      "text/plain": [
       "True"
      ]
     },
     "metadata": {},
     "execution_count": 9
    }
   ],
   "source": [
    "client = ModbusSerialClient(method=\"rtu\", port=\"COM7\", baudrate=19200, timeout=10, stopbits=1, bytesize=8, parity=\"E\")\n",
    "client.connect()"
   ]
  },
  {
   "cell_type": "code",
   "execution_count": 10,
   "metadata": {},
   "outputs": [
    {
     "output_type": "stream",
     "name": "stderr",
     "text": [
      "2021-07-22 19:48:39,442 MainThread      DEBUG    transaction    :140      Current transaction state - IDLE\n",
      "2021-07-22 19:48:39,442 MainThread      DEBUG    transaction    :145      Running transaction 1\n",
      "2021-07-22 19:48:39,442 MainThread      DEBUG    transaction    :272      SEND: 0x0 0x4 0x0 0x0 0x0 0x3 0xb1 0xda\n",
      "2021-07-22 19:48:39,442 MainThread      DEBUG    sync           :76       New Transaction state 'SENDING'\n",
      "2021-07-22 19:48:39,458 MainThread      DEBUG    transaction    :286      Changing transaction state from 'SENDING' to 'WAITING FOR REPLY'\n",
      "2021-07-22 19:48:39,681 MainThread      DEBUG    transaction    :372      Changing transaction state from 'WAITING FOR REPLY' to 'PROCESSING REPLY'\n",
      "2021-07-22 19:48:39,681 MainThread      DEBUG    transaction    :296      RECV: 0x0 0x4 0x6 0x0 0x2a 0x0 0x2b 0x0 0x2c 0x5 0x10\n",
      "2021-07-22 19:48:39,689 MainThread      DEBUG    rtu_framer     :185      Getting Frame - 0x4 0x6 0x0 0x2a 0x0 0x2b 0x0 0x2c\n",
      "2021-07-22 19:48:39,689 MainThread      DEBUG    factory        :266      Factory Response[ReadInputRegistersResponse: 4]\n",
      "2021-07-22 19:48:39,689 MainThread      DEBUG    rtu_framer     :107      Frame advanced, resetting header!!\n",
      "2021-07-22 19:48:39,697 MainThread      DEBUG    transaction    :451      Adding transaction 0\n",
      "2021-07-22 19:48:39,697 MainThread      DEBUG    transaction    :462      Getting transaction 0\n",
      "2021-07-22 19:48:39,697 MainThread      DEBUG    transaction    :224      Changing transaction state from 'PROCESSING REPLY' to 'TRANSACTION_COMPLETE'\n"
     ]
    },
    {
     "output_type": "execute_result",
     "data": {
      "text/plain": [
       "[42, 43, 44]"
      ]
     },
     "metadata": {},
     "execution_count": 10
    }
   ],
   "source": [
    "r = client.read_input_registers(0, count=3)\n",
    "r.registers"
   ]
  },
  {
   "cell_type": "code",
   "execution_count": 13,
   "metadata": {},
   "outputs": [
    {
     "output_type": "stream",
     "name": "stderr",
     "text": [
      "2021-07-22 19:50:09,365 MainThread      DEBUG    transaction    :140      Current transaction state - TRANSACTION_COMPLETE\n",
      "2021-07-22 19:50:09,365 MainThread      DEBUG    transaction    :145      Running transaction 6\n",
      "2021-07-22 19:50:09,365 MainThread      DEBUG    transaction    :272      SEND: 0x0 0x3 0x0 0x0 0x0 0x3 0x4 0x1a\n",
      "2021-07-22 19:50:09,373 MainThread      DEBUG    rtu_framer     :269      Changing state to IDLE - Last Frame End - 1626976168.489464, Current Time stamp - 1626976209.373774\n",
      "2021-07-22 19:50:09,373 MainThread      DEBUG    sync           :76       New Transaction state 'SENDING'\n",
      "2021-07-22 19:50:09,373 MainThread      DEBUG    transaction    :286      Changing transaction state from 'SENDING' to 'WAITING FOR REPLY'\n",
      "2021-07-22 19:50:19,386 MainThread      DEBUG    transaction    :301      Transaction failed. (Modbus Error: [Invalid Message] No response received, expected at least 2 bytes (0 received)) \n",
      "2021-07-22 19:50:19,386 MainThread      DEBUG    rtu_framer     :240      Frame - [b''] not ready\n",
      "2021-07-22 19:50:19,386 MainThread      DEBUG    transaction    :462      Getting transaction 0\n",
      "2021-07-22 19:50:19,386 MainThread      DEBUG    transaction    :224      Changing transaction state from 'PROCESSING REPLY' to 'TRANSACTION_COMPLETE'\n"
     ]
    },
    {
     "output_type": "error",
     "ename": "AttributeError",
     "evalue": "'ModbusIOException' object has no attribute 'registers'",
     "traceback": [
      "\u001b[1;31m---------------------------------------------------------------------------\u001b[0m",
      "\u001b[1;31mAttributeError\u001b[0m                            Traceback (most recent call last)",
      "\u001b[1;32m<ipython-input-13-7e4c2914ee34>\u001b[0m in \u001b[0;36m<module>\u001b[1;34m\u001b[0m\n\u001b[0;32m      1\u001b[0m \u001b[0mr\u001b[0m \u001b[1;33m=\u001b[0m \u001b[0mclient\u001b[0m\u001b[1;33m.\u001b[0m\u001b[0mread_holding_registers\u001b[0m\u001b[1;33m(\u001b[0m\u001b[1;36m0\u001b[0m\u001b[1;33m,\u001b[0m \u001b[0mcount\u001b[0m\u001b[1;33m=\u001b[0m\u001b[1;36m3\u001b[0m\u001b[1;33m)\u001b[0m\u001b[1;33m\u001b[0m\u001b[1;33m\u001b[0m\u001b[0m\n\u001b[1;32m----> 2\u001b[1;33m \u001b[0mr\u001b[0m\u001b[1;33m.\u001b[0m\u001b[0mregisters\u001b[0m\u001b[1;33m\u001b[0m\u001b[1;33m\u001b[0m\u001b[0m\n\u001b[0m",
      "\u001b[1;31mAttributeError\u001b[0m: 'ModbusIOException' object has no attribute 'registers'"
     ]
    }
   ],
   "source": [
    "r = client.read_holding_registers(0, count=3)\n",
    "r.registers"
   ]
  },
  {
   "cell_type": "code",
   "execution_count": 12,
   "metadata": {},
   "outputs": [
    {
     "output_type": "stream",
     "name": "stderr",
     "text": [
      "2021-07-22 19:49:19,313 MainThread      DEBUG    transaction    :140      Current transaction state - TRANSACTION_COMPLETE\n",
      "2021-07-22 19:49:19,313 MainThread      DEBUG    transaction    :145      Running transaction 3\n",
      "2021-07-22 19:49:19,321 MainThread      DEBUG    transaction    :272      SEND: 0x0 0x3 0x0 0x1 0x0 0x1 0xd4 0x1b\n",
      "2021-07-22 19:49:19,321 MainThread      DEBUG    rtu_framer     :269      Changing state to IDLE - Last Frame End - 1626976125.873354, Current Time stamp - 1626976159.321146\n",
      "2021-07-22 19:49:19,321 MainThread      DEBUG    sync           :76       New Transaction state 'SENDING'\n",
      "2021-07-22 19:49:19,321 MainThread      DEBUG    transaction    :286      Changing transaction state from 'SENDING' to 'WAITING FOR REPLY'\n",
      "2021-07-22 19:49:22,089 MainThread      DEBUG    transaction    :372      Changing transaction state from 'WAITING FOR REPLY' to 'PROCESSING REPLY'\n",
      "2021-07-22 19:49:22,089 MainThread      DEBUG    transaction    :296      RECV: 0x0 0x3 0x2 0x0 0x21 0x45 0x9c\n",
      "2021-07-22 19:49:22,089 MainThread      DEBUG    rtu_framer     :185      Getting Frame - 0x3 0x2 0x0 0x21\n",
      "2021-07-22 19:49:22,089 MainThread      DEBUG    factory        :266      Factory Response[ReadHoldingRegistersResponse: 3]\n",
      "2021-07-22 19:49:22,097 MainThread      DEBUG    rtu_framer     :107      Frame advanced, resetting header!!\n",
      "2021-07-22 19:49:22,097 MainThread      DEBUG    transaction    :451      Adding transaction 0\n",
      "2021-07-22 19:49:22,097 MainThread      DEBUG    transaction    :462      Getting transaction 0\n",
      "2021-07-22 19:49:22,097 MainThread      DEBUG    transaction    :224      Changing transaction state from 'PROCESSING REPLY' to 'TRANSACTION_COMPLETE'\n",
      "2021-07-22 19:49:22,105 MainThread      DEBUG    transaction    :140      Current transaction state - TRANSACTION_COMPLETE\n",
      "2021-07-22 19:49:22,105 MainThread      DEBUG    transaction    :145      Running transaction 4\n",
      "2021-07-22 19:49:22,105 MainThread      DEBUG    transaction    :272      SEND: 0x0 0x6 0x0 0x1 0x0 0x63 0x99 0xf2\n",
      "2021-07-22 19:49:22,111 MainThread      DEBUG    rtu_framer     :269      Changing state to IDLE - Last Frame End - 1626976162.089869, Current Time stamp - 1626976162.111325\n",
      "2021-07-22 19:49:22,111 MainThread      DEBUG    sync           :76       New Transaction state 'SENDING'\n",
      "2021-07-22 19:49:22,111 MainThread      DEBUG    transaction    :286      Changing transaction state from 'SENDING' to 'WAITING FOR REPLY'\n",
      "initial read: [33]\n",
      "2021-07-22 19:49:25,267 MainThread      DEBUG    transaction    :372      Changing transaction state from 'WAITING FOR REPLY' to 'PROCESSING REPLY'\n",
      "2021-07-22 19:49:25,267 MainThread      DEBUG    transaction    :296      RECV: 0x0 0x6 0x0 0x1 0x0 0x63 0x99 0xf2\n",
      "2021-07-22 19:49:25,275 MainThread      DEBUG    rtu_framer     :185      Getting Frame - 0x6 0x0 0x1 0x0 0x63\n",
      "2021-07-22 19:49:25,275 MainThread      DEBUG    factory        :266      Factory Response[WriteSingleRegisterResponse: 6]\n",
      "2021-07-22 19:49:25,275 MainThread      DEBUG    rtu_framer     :107      Frame advanced, resetting header!!\n",
      "2021-07-22 19:49:25,275 MainThread      DEBUG    transaction    :451      Adding transaction 0\n",
      "2021-07-22 19:49:25,283 MainThread      DEBUG    transaction    :462      Getting transaction 0\n",
      "2021-07-22 19:49:25,283 MainThread      DEBUG    transaction    :224      Changing transaction state from 'PROCESSING REPLY' to 'TRANSACTION_COMPLETE'\n",
      "2021-07-22 19:49:25,283 MainThread      DEBUG    transaction    :140      Current transaction state - TRANSACTION_COMPLETE\n",
      "2021-07-22 19:49:25,283 MainThread      DEBUG    transaction    :145      Running transaction 5\n",
      "2021-07-22 19:49:25,283 MainThread      DEBUG    transaction    :272      SEND: 0x0 0x3 0x0 0x1 0x0 0x1 0xd4 0x1b\n",
      "2021-07-22 19:49:25,291 MainThread      DEBUG    rtu_framer     :269      Changing state to IDLE - Last Frame End - 1626976165.267828, Current Time stamp - 1626976165.291624\n",
      "2021-07-22 19:49:25,291 MainThread      DEBUG    sync           :76       New Transaction state 'SENDING'\n",
      "2021-07-22 19:49:25,291 MainThread      DEBUG    transaction    :286      Changing transaction state from 'SENDING' to 'WAITING FOR REPLY'\n",
      "writing isError: False\n",
      "2021-07-22 19:49:28,489 MainThread      DEBUG    transaction    :372      Changing transaction state from 'WAITING FOR REPLY' to 'PROCESSING REPLY'\n",
      "2021-07-22 19:49:28,489 MainThread      DEBUG    transaction    :296      RECV: 0x0 0x3 0x2 0x0 0x63 0xc5 0xad\n",
      "2021-07-22 19:49:28,489 MainThread      DEBUG    rtu_framer     :185      Getting Frame - 0x3 0x2 0x0 0x63\n",
      "2021-07-22 19:49:28,497 MainThread      DEBUG    factory        :266      Factory Response[ReadHoldingRegistersResponse: 3]\n",
      "2021-07-22 19:49:28,497 MainThread      DEBUG    rtu_framer     :107      Frame advanced, resetting header!!\n",
      "2021-07-22 19:49:28,497 MainThread      DEBUG    transaction    :451      Adding transaction 0\n",
      "2021-07-22 19:49:28,497 MainThread      DEBUG    transaction    :462      Getting transaction 0\n",
      "2021-07-22 19:49:28,505 MainThread      DEBUG    transaction    :224      Changing transaction state from 'PROCESSING REPLY' to 'TRANSACTION_COMPLETE'\n",
      "2nd read: [99]\n"
     ]
    }
   ],
   "source": [
    "adr = 1\n",
    "r = client.read_holding_registers(adr, 1)\n",
    "print(\"initial read:\", r.registers)\n",
    "w = client.write_register(adr, 99)\n",
    "print(\"writing isError: {}\".format(w.isError()))\n",
    "r = client.read_holding_registers(adr, 1)\n",
    "print(\"2nd read:\", r.registers)"
   ]
  },
  {
   "cell_type": "code",
   "execution_count": null,
   "metadata": {},
   "outputs": [],
   "source": [
    "client.close()"
   ]
  },
  {
   "cell_type": "code",
   "execution_count": null,
   "metadata": {},
   "outputs": [],
   "source": []
  }
 ],
 "metadata": {
  "kernelspec": {
   "name": "python3",
   "display_name": "Python 3.7.9 64-bit ('plotly_env': conda)"
  },
  "language_info": {
   "codemirror_mode": {
    "name": "ipython",
    "version": 3
   },
   "file_extension": ".py",
   "mimetype": "text/x-python",
   "name": "python",
   "nbconvert_exporter": "python",
   "pygments_lexer": "ipython3",
   "version": "3.7.9"
  },
  "interpreter": {
   "hash": "8a3da205aec800232e7a4eb8c8865d1642f42c5c4533c6365e5c91340a61c38b"
  }
 },
 "nbformat": 4,
 "nbformat_minor": 2
}