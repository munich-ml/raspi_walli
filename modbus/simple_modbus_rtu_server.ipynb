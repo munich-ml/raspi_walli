{
 "cells": [
  {
   "cell_type": "markdown",
   "metadata": {},
   "source": [
    "# Simple modbus RTU server\n",
    "\n",
    "This simple modbus RTU server can be used to test modbus RTU clients.\n",
    "Constant data is provided for the four types of registers: \n",
    "- ``di`` Discrete Inputs\n",
    "- ``co`` Coils\n",
    "- ``hr`` Holding Register\n",
    "- ``ir`` Input Registers\n",
    "\n",
    "Reused [pymodbus synchronous server example](https://pymodbus.readthedocs.io/en/latest/source/example/synchronous_server.html)."
   ]
  },
  {
   "cell_type": "code",
   "execution_count": 2,
   "metadata": {},
   "outputs": [],
   "source": [
    "from pymodbus.server.sync import StartSerialServer\n",
    "from pymodbus.datastore import ModbusServerContext, ModbusSlaveContext, ModbusSequentialDataBlock\n",
    "from pymodbus.transaction import ModbusRtuFramer"
   ]
  },
  {
   "cell_type": "markdown",
   "metadata": {},
   "source": [
    "``logging`` is for visualization only, and not required for the server to function"
   ]
  },
  {
   "cell_type": "code",
   "execution_count": 1,
   "metadata": {},
   "outputs": [],
   "source": [
    "import logging\n",
    "FORMAT = ('%(asctime)-15s %(threadName)-15s'\n",
    "          ' %(levelname)-8s %(module)-15s:%(lineno)-8s %(message)s')\n",
    "logging.basicConfig(format=FORMAT)\n",
    "log = logging.getLogger()\n",
    "log.setLevel(logging.DEBUG)"
   ]
  },
  {
   "cell_type": "code",
   "execution_count": 3,
   "metadata": {},
   "outputs": [],
   "source": [
    "slave_context = ModbusSlaveContext(\n",
    "        di = ModbusSequentialDataBlock(0, [11, 12, 13, 14, 15]),\n",
    "        co = ModbusSequentialDataBlock(0, [21, 22, 23, 24, 25]),\n",
    "        hr = ModbusSequentialDataBlock(0, [31, 32, 33, 34, 35]),\n",
    "        ir = ModbusSequentialDataBlock(0, [41, 42, 43, 44, 45]),\n",
    "        )"
   ]
  },
  {
   "cell_type": "code",
   "execution_count": 4,
   "metadata": {},
   "outputs": [],
   "source": [
    "server_context = ModbusServerContext(slaves=slave_context, single=True)"
   ]
  },
  {
   "cell_type": "code",
   "execution_count": 5,
   "metadata": {},
   "outputs": [
    {
     "name": "stderr",
     "output_type": "stream",
     "text": [
      "2021-07-17 10:35:12,911 MainThread      DEBUG    sync           :46       Client Connected [COM10:COM10]\n",
      "2021-07-17 10:35:12,911 MainThread      DEBUG    sync           :581      Started thread to serve client\n",
      "2021-07-17 10:35:32,921 MainThread      DEBUG    rtu_framer     :185      Getting Frame - 0x3 0x0 0x1 0x0 0x2\n",
      "2021-07-17 10:35:32,921 MainThread      DEBUG    factory        :137      Factory Request[ReadHoldingRegistersRequest: 3]\n",
      "2021-07-17 10:35:32,921 MainThread      DEBUG    rtu_framer     :107      Frame advanced, resetting header!!\n",
      "2021-07-17 10:35:32,921 MainThread      DEBUG    context        :64       validate: fc-[3] address-2: count-2\n",
      "2021-07-17 10:35:32,921 MainThread      DEBUG    context        :78       getValues fc-[3] address-2: count-2\n",
      "2021-07-17 10:35:32,921 MainThread      DEBUG    sync           :144      send: [ReadHoldingRegistersResponse (2)]- b'000304002100223ae0'\n",
      "2021-07-17 10:36:02,960 MainThread      DEBUG    rtu_framer     :185      Getting Frame - 0x4 0x0 0x2 0x0 0x2\n",
      "2021-07-17 10:36:02,960 MainThread      DEBUG    factory        :137      Factory Request[ReadInputRegistersRequest: 4]\n",
      "2021-07-17 10:36:02,960 MainThread      DEBUG    rtu_framer     :107      Frame advanced, resetting header!!\n",
      "2021-07-17 10:36:02,960 MainThread      DEBUG    context        :64       validate: fc-[4] address-3: count-2\n",
      "2021-07-17 10:36:02,960 MainThread      DEBUG    context        :78       getValues fc-[4] address-3: count-2\n",
      "2021-07-17 10:36:02,967 MainThread      DEBUG    sync           :144      send: [ReadInputRegistersResponse (2)]- b'000404002c002dea90'\n",
      "2021-07-17 10:38:33,106 MainThread      DEBUG    rtu_framer     :185      Getting Frame - 0x4 0x0 0x2 0x0 0x1\n",
      "2021-07-17 10:38:33,106 MainThread      DEBUG    factory        :137      Factory Request[ReadInputRegistersRequest: 4]\n",
      "2021-07-17 10:38:33,106 MainThread      DEBUG    rtu_framer     :107      Frame advanced, resetting header!!\n",
      "2021-07-17 10:38:33,114 MainThread      DEBUG    context        :64       validate: fc-[4] address-3: count-1\n",
      "2021-07-17 10:38:33,114 MainThread      DEBUG    context        :78       getValues fc-[4] address-3: count-1\n",
      "2021-07-17 10:38:33,114 MainThread      DEBUG    sync           :144      send: [ReadInputRegistersResponse (1)]- b'000402002c852d'\n",
      "2021-07-17 10:42:13,265 MainThread      DEBUG    rtu_framer     :185      Getting Frame - 0x3 0x0 0x2 0x0 0x2\n",
      "2021-07-17 10:42:13,265 MainThread      DEBUG    factory        :137      Factory Request[ReadHoldingRegistersRequest: 3]\n",
      "2021-07-17 10:42:13,265 MainThread      DEBUG    rtu_framer     :107      Frame advanced, resetting header!!\n",
      "2021-07-17 10:42:13,273 MainThread      DEBUG    context        :64       validate: fc-[3] address-3: count-2\n",
      "2021-07-17 10:42:13,273 MainThread      DEBUG    context        :78       getValues fc-[3] address-3: count-2\n",
      "2021-07-17 10:42:13,281 MainThread      DEBUG    sync           :144      send: [ReadHoldingRegistersResponse (2)]- b'000304002200230b20'\n",
      "2021-07-17 10:42:43,300 MainThread      DEBUG    rtu_framer     :185      Getting Frame - 0x3 0x0 0x2 0x0 0x1\n",
      "2021-07-17 10:42:43,300 MainThread      DEBUG    factory        :137      Factory Request[ReadHoldingRegistersRequest: 3]\n",
      "2021-07-17 10:42:43,300 MainThread      DEBUG    rtu_framer     :107      Frame advanced, resetting header!!\n",
      "2021-07-17 10:42:43,308 MainThread      DEBUG    context        :64       validate: fc-[3] address-3: count-1\n",
      "2021-07-17 10:42:43,308 MainThread      DEBUG    context        :78       getValues fc-[3] address-3: count-1\n",
      "2021-07-17 10:42:43,308 MainThread      DEBUG    sync           :144      send: [ReadHoldingRegistersResponse (1)]- b'0003020022059d'\n"
     ]
    }
   ],
   "source": [
    "StartSerialServer(server_context, framer=ModbusRtuFramer, port='COM10', baudrate=19200, stopbits=1, bytesize=8, parity=\"E\")"
   ]
  },
  {
   "cell_type": "code",
   "execution_count": null,
   "metadata": {},
   "outputs": [],
   "source": []
  }
 ],
 "metadata": {
  "kernelspec": {
   "display_name": "Python 3.9.7 ('flask_env')",
   "language": "python",
   "name": "python3"
  },
  "language_info": {
   "codemirror_mode": {
    "name": "ipython",
    "version": 3
   },
   "file_extension": ".py",
   "mimetype": "text/x-python",
   "name": "python",
   "nbconvert_exporter": "python",
   "pygments_lexer": "ipython3",
   "version": "3.9.7"
  },
  "vscode": {
   "interpreter": {
    "hash": "7df3afec6b93bfc6b4497fa02400d11f1674743b2656ffd458993e7a63d95c87"
   }
  }
 },
 "nbformat": 4,
 "nbformat_minor": 2
}
