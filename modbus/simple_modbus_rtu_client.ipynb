{
 "cells": [
  {
   "cell_type": "markdown",
   "metadata": {},
   "source": [
    "# Simple modbus RTU client\n",
    "\n",
    "This simple modbus RTU client shows basic client operations such as:\n",
    "- reading from input registers\n",
    "- read, write, read from and to holding registers\n",
    "\n",
    "Using [pymodbus synchronous client example](https://pymodbus.readthedocs.io/en/latest/source/example/synchronous_client.html)."
   ]
  },
  {
   "cell_type": "code",
   "execution_count": 18,
   "metadata": {},
   "outputs": [
    {
     "output_type": "execute_result",
     "data": {
      "text/plain": [
       "True"
      ]
     },
     "metadata": {},
     "execution_count": 18
    }
   ],
   "source": [
    "from pymodbus.client.sync import ModbusSerialClient\n",
    "client = ModbusSerialClient(method=\"rtu\", port=\"COM11\", baudrate=19200, timeout=10, stopbits=1, bytesize=8, parity=\"E\")\n",
    "client.connect()"
   ]
  },
  {
   "source": [
    "``logging`` is for visualization only, and not required for the server to function"
   ],
   "cell_type": "markdown",
   "metadata": {}
  },
  {
   "cell_type": "code",
   "execution_count": 17,
   "metadata": {},
   "outputs": [],
   "source": [
    "import logging\n",
    "FORMAT = ('%(asctime)-15s %(threadName)-15s'\n",
    "          ' %(levelname)-8s %(module)-15s:%(lineno)-8s %(message)s')\n",
    "logging.basicConfig(format=FORMAT)\n",
    "log = logging.getLogger()\n",
    "log.setLevel(logging.DEBUG)"
   ]
  },
  {
   "cell_type": "code",
   "execution_count": 28,
   "metadata": {},
   "outputs": [
    {
     "output_type": "stream",
     "name": "stderr",
     "text": [
      "2021-07-17 11:03:52,152 MainThread      DEBUG    transaction    :140      Current transaction state - TRANSACTION_COMPLETE\n",
      "2021-07-17 11:03:52,153 MainThread      DEBUG    transaction    :145      Running transaction 6\n",
      "2021-07-17 11:03:52,154 MainThread      DEBUG    transaction    :272      SEND: 0x0 0x4 0x0 0x0 0x0 0x3 0xb1 0xda\n",
      "2021-07-17 11:03:52,155 MainThread      DEBUG    rtu_framer     :269      Changing state to IDLE - Last Frame End - 1626511642.425655, Current Time stamp - 1626512632.155117\n",
      "2021-07-17 11:03:52,156 MainThread      DEBUG    sync           :76       New Transaction state 'SENDING'\n",
      "2021-07-17 11:03:52,157 MainThread      DEBUG    transaction    :286      Changing transaction state from 'SENDING' to 'WAITING FOR REPLY'\n",
      "2021-07-17 11:03:55,038 MainThread      DEBUG    transaction    :372      Changing transaction state from 'WAITING FOR REPLY' to 'PROCESSING REPLY'\n",
      "2021-07-17 11:03:55,040 MainThread      DEBUG    transaction    :296      RECV: 0x0 0x4 0x6 0x0 0x2a 0x0 0x2b 0x0 0x2c 0x5 0x10\n",
      "2021-07-17 11:03:55,043 MainThread      DEBUG    rtu_framer     :185      Getting Frame - 0x4 0x6 0x0 0x2a 0x0 0x2b 0x0 0x2c\n",
      "2021-07-17 11:03:55,044 MainThread      DEBUG    factory        :266      Factory Response[ReadInputRegistersResponse: 4]\n",
      "2021-07-17 11:03:55,046 MainThread      DEBUG    rtu_framer     :107      Frame advanced, resetting header!!\n",
      "2021-07-17 11:03:55,048 MainThread      DEBUG    transaction    :451      Adding transaction 0\n",
      "2021-07-17 11:03:55,050 MainThread      DEBUG    transaction    :462      Getting transaction 0\n",
      "2021-07-17 11:03:55,051 MainThread      DEBUG    transaction    :224      Changing transaction state from 'PROCESSING REPLY' to 'TRANSACTION_COMPLETE'\n"
     ]
    },
    {
     "output_type": "execute_result",
     "data": {
      "text/plain": [
       "[42, 43, 44]"
      ]
     },
     "metadata": {},
     "execution_count": 28
    }
   ],
   "source": [
    "r = client.read_input_registers(0, count=3)\n",
    "r.registers"
   ]
  },
  {
   "cell_type": "code",
   "execution_count": 29,
   "metadata": {},
   "outputs": [
    {
     "output_type": "stream",
     "name": "stderr",
     "text": [
      "2021-07-17 11:04:06,250 MainThread      DEBUG    transaction    :140      Current transaction state - TRANSACTION_COMPLETE\n",
      "2021-07-17 11:04:06,252 MainThread      DEBUG    transaction    :145      Running transaction 7\n",
      "2021-07-17 11:04:06,253 MainThread      DEBUG    transaction    :272      SEND: 0x0 0x3 0x0 0x0 0x0 0x3 0x4 0x1a\n",
      "2021-07-17 11:04:06,255 MainThread      DEBUG    rtu_framer     :269      Changing state to IDLE - Last Frame End - 1626512635.038515, Current Time stamp - 1626512646.254693\n",
      "2021-07-17 11:04:06,256 MainThread      DEBUG    sync           :76       New Transaction state 'SENDING'\n",
      "2021-07-17 11:04:06,257 MainThread      DEBUG    transaction    :286      Changing transaction state from 'SENDING' to 'WAITING FOR REPLY'\n",
      "2021-07-17 11:04:07,076 MainThread      DEBUG    transaction    :372      Changing transaction state from 'WAITING FOR REPLY' to 'PROCESSING REPLY'\n",
      "2021-07-17 11:04:07,078 MainThread      DEBUG    transaction    :296      RECV: 0x0 0x3 0x6 0x0 0x20 0x0 0x21 0x0 0x22 0x7d 0x31\n",
      "2021-07-17 11:04:07,081 MainThread      DEBUG    rtu_framer     :185      Getting Frame - 0x3 0x6 0x0 0x20 0x0 0x21 0x0 0x22\n",
      "2021-07-17 11:04:07,082 MainThread      DEBUG    factory        :266      Factory Response[ReadHoldingRegistersResponse: 3]\n",
      "2021-07-17 11:04:07,083 MainThread      DEBUG    rtu_framer     :107      Frame advanced, resetting header!!\n",
      "2021-07-17 11:04:07,084 MainThread      DEBUG    transaction    :451      Adding transaction 0\n",
      "2021-07-17 11:04:07,086 MainThread      DEBUG    transaction    :462      Getting transaction 0\n",
      "2021-07-17 11:04:07,087 MainThread      DEBUG    transaction    :224      Changing transaction state from 'PROCESSING REPLY' to 'TRANSACTION_COMPLETE'\n"
     ]
    },
    {
     "output_type": "execute_result",
     "data": {
      "text/plain": [
       "[32, 33, 34]"
      ]
     },
     "metadata": {},
     "execution_count": 29
    }
   ],
   "source": [
    "r = client.read_holding_registers(0, count=3)\n",
    "r.registers"
   ]
  },
  {
   "cell_type": "code",
   "execution_count": 44,
   "metadata": {},
   "outputs": [
    {
     "output_type": "stream",
     "name": "stderr",
     "text": [
      "2021-07-17 11:13:19,663 MainThread      DEBUG    transaction    :140      Current transaction state - TRANSACTION_COMPLETE\n",
      "2021-07-17 11:13:19,663 MainThread      DEBUG    transaction    :145      Running transaction 15\n",
      "2021-07-17 11:13:19,664 MainThread      DEBUG    transaction    :272      SEND: 0x0 0x3 0x0 0x1 0x0 0x1 0xd4 0x1b\n",
      "2021-07-17 11:13:19,665 MainThread      DEBUG    rtu_framer     :269      Changing state to IDLE - Last Frame End - 1626513185.5906, Current Time stamp - 1626513199.665922\n",
      "2021-07-17 11:13:19,666 MainThread      DEBUG    sync           :76       New Transaction state 'SENDING'\n",
      "2021-07-17 11:13:19,667 MainThread      DEBUG    transaction    :286      Changing transaction state from 'SENDING' to 'WAITING FOR REPLY'\n",
      "2021-07-17 11:13:20,656 MainThread      DEBUG    transaction    :372      Changing transaction state from 'WAITING FOR REPLY' to 'PROCESSING REPLY'\n",
      "2021-07-17 11:13:20,659 MainThread      DEBUG    transaction    :296      RECV: 0x0 0x3 0x2 0x0 0x21 0x45 0x9c\n",
      "2021-07-17 11:13:20,662 MainThread      DEBUG    rtu_framer     :185      Getting Frame - 0x3 0x2 0x0 0x21\n",
      "2021-07-17 11:13:20,664 MainThread      DEBUG    factory        :266      Factory Response[ReadHoldingRegistersResponse: 3]\n",
      "2021-07-17 11:13:20,666 MainThread      DEBUG    rtu_framer     :107      Frame advanced, resetting header!!\n",
      "2021-07-17 11:13:20,667 MainThread      DEBUG    transaction    :451      Adding transaction 0\n",
      "2021-07-17 11:13:20,669 MainThread      DEBUG    transaction    :462      Getting transaction 0\n",
      "2021-07-17 11:13:20,671 MainThread      DEBUG    transaction    :224      Changing transaction state from 'PROCESSING REPLY' to 'TRANSACTION_COMPLETE'\n",
      "2021-07-17 11:13:20,673 MainThread      DEBUG    transaction    :140      Current transaction state - TRANSACTION_COMPLETE\n",
      "2021-07-17 11:13:20,674 MainThread      DEBUG    transaction    :145      Running transaction 16\n",
      "2021-07-17 11:13:20,676 MainThread      DEBUG    transaction    :272      SEND: 0x0 0x6 0x0 0x1 0x0 0x63 0x99 0xf2\n",
      "2021-07-17 11:13:20,677 MainThread      DEBUG    rtu_framer     :269      Changing state to IDLE - Last Frame End - 1626513200.65613, Current Time stamp - 1626513200.677072\n",
      "2021-07-17 11:13:20,681 MainThread      DEBUG    sync           :76       New Transaction state 'SENDING'\n",
      "2021-07-17 11:13:20,683 MainThread      DEBUG    transaction    :286      Changing transaction state from 'SENDING' to 'WAITING FOR REPLY'\n",
      "initial read: [33]\n",
      "2021-07-17 11:13:23,696 MainThread      DEBUG    transaction    :372      Changing transaction state from 'WAITING FOR REPLY' to 'PROCESSING REPLY'\n",
      "2021-07-17 11:13:23,699 MainThread      DEBUG    transaction    :296      RECV: 0x0 0x6 0x0 0x1 0x0 0x63 0x99 0xf2\n",
      "2021-07-17 11:13:23,702 MainThread      DEBUG    rtu_framer     :185      Getting Frame - 0x6 0x0 0x1 0x0 0x63\n",
      "2021-07-17 11:13:23,706 MainThread      DEBUG    factory        :266      Factory Response[WriteSingleRegisterResponse: 6]\n",
      "2021-07-17 11:13:23,708 MainThread      DEBUG    rtu_framer     :107      Frame advanced, resetting header!!\n",
      "2021-07-17 11:13:23,710 MainThread      DEBUG    transaction    :451      Adding transaction 0\n",
      "2021-07-17 11:13:23,712 MainThread      DEBUG    transaction    :462      Getting transaction 0\n",
      "2021-07-17 11:13:23,714 MainThread      DEBUG    transaction    :224      Changing transaction state from 'PROCESSING REPLY' to 'TRANSACTION_COMPLETE'\n",
      "2021-07-17 11:13:23,716 MainThread      DEBUG    transaction    :140      Current transaction state - TRANSACTION_COMPLETE\n",
      "2021-07-17 11:13:23,717 MainThread      DEBUG    transaction    :145      Running transaction 17\n",
      "2021-07-17 11:13:23,718 MainThread      DEBUG    transaction    :272      SEND: 0x0 0x3 0x0 0x1 0x0 0x1 0xd4 0x1b\n",
      "2021-07-17 11:13:23,720 MainThread      DEBUG    rtu_framer     :269      Changing state to IDLE - Last Frame End - 1626513203.696188, Current Time stamp - 1626513203.720122\n",
      "2021-07-17 11:13:23,722 MainThread      DEBUG    sync           :76       New Transaction state 'SENDING'\n",
      "2021-07-17 11:13:23,724 MainThread      DEBUG    transaction    :286      Changing transaction state from 'SENDING' to 'WAITING FOR REPLY'\n",
      "writing isError: False\n",
      "2021-07-17 11:13:26,723 MainThread      DEBUG    transaction    :372      Changing transaction state from 'WAITING FOR REPLY' to 'PROCESSING REPLY'\n",
      "2021-07-17 11:13:26,725 MainThread      DEBUG    transaction    :296      RECV: 0x0 0x3 0x2 0x0 0x63 0xc5 0xad\n",
      "2021-07-17 11:13:26,727 MainThread      DEBUG    rtu_framer     :185      Getting Frame - 0x3 0x2 0x0 0x63\n",
      "2021-07-17 11:13:26,729 MainThread      DEBUG    factory        :266      Factory Response[ReadHoldingRegistersResponse: 3]\n",
      "2021-07-17 11:13:26,730 MainThread      DEBUG    rtu_framer     :107      Frame advanced, resetting header!!\n",
      "2021-07-17 11:13:26,731 MainThread      DEBUG    transaction    :451      Adding transaction 0\n",
      "2021-07-17 11:13:26,733 MainThread      DEBUG    transaction    :462      Getting transaction 0\n",
      "2021-07-17 11:13:26,734 MainThread      DEBUG    transaction    :224      Changing transaction state from 'PROCESSING REPLY' to 'TRANSACTION_COMPLETE'\n",
      "2nd read: [99]\n"
     ]
    }
   ],
   "source": [
    "adr = 1\n",
    "r = client.read_holding_registers(adr, 1)\n",
    "print(\"initial read:\", r.registers)\n",
    "w = client.write_register(adr, 99)\n",
    "print(\"writing isError: {}\".format(w.isError()))\n",
    "r = client.read_holding_registers(adr, 1)\n",
    "print(\"2nd read:\", r.registers)"
   ]
  },
  {
   "cell_type": "code",
   "execution_count": 16,
   "metadata": {},
   "outputs": [],
   "source": [
    "client.close()"
   ]
  },
  {
   "cell_type": "code",
   "execution_count": null,
   "metadata": {},
   "outputs": [],
   "source": []
  }
 ],
 "metadata": {
  "kernelspec": {
   "name": "python3",
   "display_name": "Python 3.7.9 64-bit ('plotly_env': conda)"
  },
  "language_info": {
   "codemirror_mode": {
    "name": "ipython",
    "version": 3
   },
   "file_extension": ".py",
   "mimetype": "text/x-python",
   "name": "python",
   "nbconvert_exporter": "python",
   "pygments_lexer": "ipython3",
   "version": "3.7.9"
  },
  "interpreter": {
   "hash": "8a3da205aec800232e7a4eb8c8865d1642f42c5c4533c6365e5c91340a61c38b"
  }
 },
 "nbformat": 4,
 "nbformat_minor": 2
}